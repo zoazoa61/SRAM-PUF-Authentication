{
  "nbformat": 4,
  "nbformat_minor": 0,
  "metadata": {
    "colab": {
      "name": "(Exp)20200428_A_Brief_Summary_of_Convolutional_Neural_Network (1).ipynb",
      "provenance": [],
      "collapsed_sections": []
    },
    "kernelspec": {
      "name": "python3",
      "display_name": "Python 3"
    },
    "accelerator": "GPU"
  },
  "cells": [
    {
      "cell_type": "markdown",
      "metadata": {
        "id": "wAWm0QAtk7x6",
        "colab_type": "text"
      },
      "source": [
        "\"\"\"\n",
        "저장한 모델을 사용할 시는 6번의 모델 Load로 이동하여 제출한 파일의 경로를 설정한 후 진행\n",
        "\"\"\"\n",
        "\n",
        "1. bitstring 모듈 설치 for 데이터 로더\n"
      ]
    },
    {
      "cell_type": "code",
      "metadata": {
        "id": "prd_tT3NrOYk",
        "colab_type": "code",
        "colab": {}
      },
      "source": [
        "!pip install -q bitstring\n",
        "#!pip install pytorchtools\n",
        "#from google.colab import drive\n",
        "#drive.mount('/content/drive')\n",
        "\n",
        "#!ls '/content/drive/'\n",
        "#!mkdir -p '/content/drive/My Drive/Autoencoder_1bit'\n",
        "#!ls -Fcal '/content/drive/My Drive/Autoencoder_1bit' #check existence\n",
        "\n",
        "#df = pd.DataFrame(np.random.rand(10, 5))\n",
        "#df.to_csv(\"/content/drive/My Drive/Autoencoder_1bit/df.csv\")\n",
        "#!ls -Fcal '/content/drive/My Drive/Autoencoder_1bit/df.csv' #check existence"
      ],
      "execution_count": 2,
      "outputs": []
    },
    {
      "cell_type": "markdown",
      "metadata": {
        "id": "j0da9HZarW3X",
        "colab_type": "text"
      },
      "source": [
        "2. 모델 설정(Autoencoder 및 BNN)"
      ]
    },
    {
      "cell_type": "code",
      "metadata": {
        "id": "VSFEnBE_rW9s",
        "colab_type": "code",
        "colab": {
          "base_uri": "https://localhost:8080/",
          "height": 34
        },
        "outputId": "11c1e8a5-b544-4f53-f5ee-9bfe61bea040"
      },
      "source": [
        "from tqdm import tqdm\n",
        "\n",
        "import math\n",
        "from torch.autograd import Function\n",
        "\n",
        "import torch \n",
        "import torch.nn as nn\n",
        "import torch.nn.functional as F\n",
        "import time\n",
        "import random\n",
        "import matplotlib.pyplot as plt\n",
        "# import torch.utils.data as D\n",
        "from torch.utils.data import DataLoader\n",
        "import torch.optim as optim\n",
        "from torch.autograd import Variable\n",
        "#from modules import *\n",
        "from torchvision import datasets,transforms\n",
        "import argparse\n",
        "import numpy as np\n",
        "import torch.nn.init as init\n",
        "import bitstring\n",
        "from bitstring import BitArray, ConstBitStream\n",
        "import pandas as pd\n",
        "import tensorflow.compat.v1 as tf\n",
        "from IPython.display import SVG\n",
        "import pandas as pd\n",
        "from sklearn import model_selection\n",
        "#from pytorchtools import EarlyStopping\n",
        "\n",
        "class EarlyStopping:\n",
        "    \"\"\"Early stops the training if validation loss doesn't improve after a given patience.\"\"\"\n",
        "    def __init__(self, patience=7, verbose=False, delta=0, path='checkpoint.pt'):\n",
        "        \"\"\"\n",
        "        Args:\n",
        "            patience (int): How long to wait after last time validation loss improved.\n",
        "                            Default: 7\n",
        "            verbose (bool): If True, prints a message for each validation loss improvement. \n",
        "                            Default: False\n",
        "            delta (float): Minimum change in the monitored quantity to qualify as an improvement.\n",
        "                            Default: 0\n",
        "            path (str): Path for the checkpoint to be saved to.\n",
        "                            Default: 'checkpoint.pt'\n",
        "        \"\"\"\n",
        "        self.patience = patience\n",
        "        self.verbose = verbose\n",
        "        self.counter = 0\n",
        "        self.best_score = None\n",
        "        self.early_stop = False\n",
        "        self.val_loss_min = np.Inf\n",
        "        self.delta = delta\n",
        "        self.path = path\n",
        "\n",
        "    def __call__(self, val_loss, model):\n",
        "\n",
        "        score = -val_loss\n",
        "\n",
        "        if self.best_score is None:\n",
        "            self.best_score = score\n",
        "            self.save_checkpoint(val_loss, model)\n",
        "        elif score < self.best_score + self.delta:\n",
        "            self.counter += 1\n",
        "            print(f'EarlyStopping counter: {self.counter} out of {self.patience}')\n",
        "            if self.counter >= self.patience:\n",
        "                self.early_stop = True\n",
        "        else:\n",
        "            self.best_score = score\n",
        "            self.save_checkpoint(val_loss, model)\n",
        "            self.counter = 0\n",
        "\n",
        "    def save_checkpoint(self, val_loss, model):\n",
        "        '''Saves model when validation loss decrease.'''\n",
        "        if self.verbose:\n",
        "            print(f'Validation loss decreased ({self.val_loss_min:.6f} --> {val_loss:.6f}).  Saving model ...')\n",
        "        torch.save(model.state_dict(), self.path)\n",
        "        self.val_loss_min = val_loss\n",
        "class BinarizeF(Function):\n",
        "\n",
        "    @staticmethod\n",
        "    def forward(cxt, input):\n",
        "        output = input.new(input.size())\n",
        "        output[input > 0] = 1\n",
        "        # output[input <= 0] = -1\n",
        "        output[input <= 0] = 0\n",
        "\n",
        "        return output\n",
        "\n",
        "    @staticmethod\n",
        "    def backward(cxt, grad_output):\n",
        "        grad_input = grad_output.clone()\n",
        "        return grad_input\n",
        "\n",
        "# aliases\n",
        "binarize = BinarizeF.apply\n",
        "\n",
        "class BinaryTanh(nn.Module):\n",
        "    def __init__(self):\n",
        "        super(BinaryTanh, self).__init__()\n",
        "        self.hardtanh = nn.Hardtanh()\n",
        "\n",
        "    def forward(self, input):\n",
        "        output = self.hardtanh(input)\n",
        "        output = binarize(output)\n",
        "        return output\n",
        "        \n",
        "class BinarySigmoid(nn.Module):\n",
        "    def __init__(self):\n",
        "        super(BinarySigmoid, self).__init__()\n",
        "        self.sigmoid = nn.Sigmoid()\n",
        "\n",
        "    def forward(self, input):\n",
        "        output = self.sigmoid(input)\n",
        "        output = binarize(output)\n",
        "        return output\n",
        "\n",
        "class BinaryRelu(nn.Module):\n",
        "    def __init__(self):\n",
        "        super(BinaryRelu, self).__init__()\n",
        "        self.relu = nn.ReLU()\n",
        "\n",
        "    def forward(self, input):\n",
        "        output = self.relu(input)\n",
        "        output = binarize(output)\n",
        "        return output\n",
        "\n",
        "class BinaryLinear(nn.Linear):\n",
        "\n",
        "    def forward(self, input):\n",
        "        binary_weight = binarize(self.weight)\n",
        "        if self.bias is None:\n",
        "            return F.linear(input, binary_weight)\n",
        "        else:\n",
        "            return F.linear(input, binary_weight, self.bias)\n",
        "\n",
        "    def reset_parameters(self):\n",
        "        # Glorot initialization\n",
        "        in_features, out_features = self.weight.size()\n",
        "        stdv = math.sqrt(1.5 / (in_features + out_features))\n",
        "        self.weight.data.uniform_(-stdv, stdv)\n",
        "        if self.bias is not None:\n",
        "            self.bias.data.zero_()\n",
        "\n",
        "        self.weight.lr_scale = 1. / stdv\n",
        "\n",
        "\n",
        "\n",
        "class BinaryConv2d(nn.Conv2d):\n",
        "\n",
        "    def forward(self, input):\n",
        "        bw = binarize(self.weight)\n",
        "        return F.conv2d(input, bw, self.bias, self.stride,\n",
        "                               self.padding, self.dilation, self.groups)\n",
        "\n",
        "    def reset_parameters(self):\n",
        "        # Glorot initialization\n",
        "        in_features = self.in_channels\n",
        "        out_features = self.out_channels\n",
        "        for k in self.kernel_size:\n",
        "            in_features *= k\n",
        "            out_features *= k\n",
        "        stdv = math.sqrt(1.5 / (in_features + out_features))\n",
        "        self.weight.data.uniform_(-stdv, stdv)\n",
        "        if self.bias is not None:\n",
        "            self.bias.data.zero_()\n",
        "\n",
        "        self.weight.lr_scale = 1. / stdv\n",
        "        \n",
        "def timeSince(since):\n",
        "    now = time.time()\n",
        "    s = now - since\n",
        "    #m = math.floor(s / 60)\n",
        "    #s -= m * 60\n",
        "    return s\n",
        "def convert_bit_str(input_bit_str):\n",
        "    input_bit = []\n",
        "    for i in range(len(input_bit_str)):\n",
        "        input_bit.append(int(input_bit_str[i]))\n",
        "    \n",
        "    input_bit = np.array(input_bit) # n\n",
        "    input_bit = pd.DataFrame(input_bit)\n",
        "    input_bit = input_bit.values\n",
        "    \n",
        "    x_train = input_bit\n",
        "    x_train = np.reshape(x_train, (x_train.shape[1], x_train.shape[0]))        \n",
        "    return(x_train)\n",
        "\n",
        "class DenseBlock(nn.Module):\n",
        "    def __init__(self,nb_layers,in_planes,growh_rate,block,dropRate=0.0):\n",
        "        super(DenseBlock,self).__init__()\n",
        "        self.layer = self._make_layer(block, in_planes, growh_rate, nb_layers, dropRate)\n",
        "    \n",
        "    def _make_layer(self,block,in_planes,growh_rate,nb_layers,dropRate):\n",
        "        layers=[]\n",
        "        for i in range(nb_layers):\n",
        "            layers.append(block(in_planes + i*growh_rate ,growh_rate,dropRate))\n",
        "            \n",
        "        return nn.Sequential(*layers)\n",
        "    \n",
        "    def forward(self,x):\n",
        "        return self.layer(x)\n",
        "\n",
        "device = torch.device('cuda:0' if torch.cuda.is_available() else 'cpu')\n",
        "print(device)\n",
        "\n",
        "\"Model: Autoencoder\"\n",
        "\n",
        "class Model(nn.Module): \n",
        "    def __init__(self):\n",
        "        super(Model,self).__init__()\n",
        "        #encoder\n",
        "        self.layer1 = nn.Sequential(   \n",
        "            nn.Linear(length,length_latent),\n",
        "            BinaryTanh()        \n",
        "            )\n",
        "        #decoder\n",
        "        length_coeff = 16\n",
        "        self.layer2 = nn.Sequential(\n",
        "            \n",
        "            #nn.Linear(length_latent,length_latent),\n",
        "            #nn.ReLU(),\n",
        "            \n",
        "            nn.Linear(length_latent,length_coeff*length),\n",
        "            \n",
        "            nn.Linear(length_coeff*length,length_coeff*length),\n",
        "            nn.ReLU(),\n",
        "            \n",
        "            nn.Linear(length_coeff*length,length_coeff*length),\n",
        "            nn.ReLU(),\n",
        "            \n",
        "            nn.Linear(length_coeff*length,length_coeff*length),\n",
        "            nn.ReLU(),\n",
        "                        \n",
        "            nn.Linear(length_coeff*length,1*length)   \n",
        "            )\n",
        "            \n",
        "    def forward(self, x):\n",
        "        # x = x.view(length,-1)\n",
        "        encoded = self.layer1(x)\n",
        "        decoded = self.layer2(encoded)\n",
        "\n",
        "        return encoded, decoded\n"
      ],
      "execution_count": 3,
      "outputs": [
        {
          "output_type": "stream",
          "text": [
            "cuda:0\n"
          ],
          "name": "stdout"
        }
      ]
    },
    {
      "cell_type": "markdown",
      "metadata": {
        "id": "I3Sp4mjIpH-_",
        "colab_type": "text"
      },
      "source": [
        "3. hyperparameters 설정 및 데이터 로더"
      ]
    },
    {
      "cell_type": "code",
      "metadata": {
        "id": "btbegqoepEXd",
        "colab_type": "code",
        "colab": {
          "base_uri": "https://localhost:8080/",
          "height": 34
        },
        "outputId": "28399495-638f-4be8-fa09-b8cfedf1b0a1"
      },
      "source": [
        "\n",
        "\"Hyperparameter\"\n",
        "EPOCH = 1000\n",
        "#EPOCH = 10\n",
        "epochs = EPOCH\n",
        "# BATCH_SIZE = 64\n",
        "# BATCH_SIZE = 5\n",
        "USE_CUDA = torch.cuda.is_available()\n",
        "DEVICE = device\n",
        "print(\"Using Device:\", DEVICE)\n",
        "\n",
        "batch_size = 10\n",
        "length = 10\n",
        "length_latent = 20\n",
        "bit_num = 10\n",
        "#early stopping\n",
        "patiences = 100\n",
        "deltas = 0.00001 \n",
        "learning_rate = 0.0001\n",
        "\n",
        "\n",
        "\n",
        "\"\"\" Load data \"\"\"\n",
        "\n",
        "input_bit_list = [] # Y\n",
        "integer_list = [] # X\n",
        "input_bit_str_each1 = np.zeros((1024, 10))\n",
        "for i in range(0, 2**bit_num):\n",
        "    integer_num = i\n",
        "    input_bit_str = BitArray(uint=i, length=bit_num).bin\n",
        "    input_bit_str_each = np.array(convert_bit_str(input_bit_str)).transpose()\n",
        "    input_bit_str_each.resize(10,)\n",
        "    input_bit_str_each1[i,:] = input_bit_str_each\n",
        "    input_bit_list.append(input_bit_str)\n",
        "    integer_list.append(integer_num)\n",
        "    \n",
        "\n",
        "    \n",
        "bit_list = pd.DataFrame(input_bit_list)\n",
        "integer_num = pd.DataFrame(integer_list)\n",
        "data = pd.concat([bit_list, integer_num], axis=1)\n",
        "\n",
        "##\n",
        "# input_bit_str_each2 = np.where(input_bit_str_each1==0, -1, input_bit_str_each1)\n",
        "# input_bit_str_each1 = input_bit_str_each2\n",
        "\n",
        "x_train, x_valid = model_selection.train_test_split(input_bit_str_each1, test_size = 0.99, random_state = 0)\n",
        "\n",
        "x_train = input_bit_str_each1\n",
        "x_test = input_bit_str_each1\n",
        "\n",
        "# noise_factor = 0.0005\n",
        "# x_train_noisy = x_train + noise_factor * np.random.normal(loc=0.0, scale=0.001, size=x_train.shape) \n",
        "# x_test_noisy = x_test + noise_factor * np.random.normal(loc=0.0, scale=0.001, size=x_test.shape) \n",
        "# x_train_noisy = np.clip(x_train_noisy, 0., 1.)\n",
        "# x_test_noisy = np.clip(x_test_noisy, 0., 1.)\n",
        "\n",
        "train_loader = torch.tensor(x_train)\n",
        "test_loader = torch.tensor(x_test)\n",
        "valid_loder = torch.tensor(x_valid)\n",
        " \n",
        "\n",
        "\"\"\"optimal struct\"\"\"\n",
        "\n",
        "model = Model().to(device)\n",
        "########################################################################\n",
        "\n",
        "        \n",
        "criterion = nn.MSELoss()\n",
        "optimizer = optim.Adam(model.parameters(), lr=learning_rate)\n",
        "\n"
      ],
      "execution_count": 6,
      "outputs": [
        {
          "output_type": "stream",
          "text": [
            "Using Device: cuda:0\n"
          ],
          "name": "stdout"
        }
      ]
    },
    {
      "cell_type": "markdown",
      "metadata": {
        "id": "0lJAxpK_raTK",
        "colab_type": "text"
      },
      "source": [
        "4. 모델 training 및 test"
      ]
    },
    {
      "cell_type": "code",
      "metadata": {
        "id": "vy9OchhkoLOs",
        "colab_type": "code",
        "colab": {
          "base_uri": "https://localhost:8080/",
          "height": 1000
        },
        "outputId": "1e706263-6b15-4f75-96a1-1ed8915340f2"
      },
      "source": [
        "\n",
        "# def train(model, train_loader, epoch):\n",
        "def train(model, batch_size, patiences, epochs):\n",
        "    \n",
        "    train_losses = []\n",
        "    valid_losses = []\n",
        "    avg_train_losses = []\n",
        "    avg_valid_losses = [] \n",
        "    \n",
        "    \n",
        "    \n",
        "    # initialize the early_stopping object\n",
        "    early_stopping = EarlyStopping(patience=patiences, verbose=True, delta=deltas)\n",
        "    \n",
        "    for epoch in range(1, epochs + 1):\n",
        "        \"train the model\"\n",
        "        \n",
        "        model.train()\n",
        "        for batch, x in tqdm(enumerate(train_loader, 1)):\n",
        "            x = x.view(-1,len(x)).to(DEVICE)\n",
        "            y = x.view(-1,len(x)).to(DEVICE)\n",
        "            x = x.float()\n",
        "            y = x.float()\n",
        "            # clear the gradients of all optimized variables\n",
        "            optimizer.zero_grad()\n",
        "            # forward pass: compute predicted outputs by passing inputs to the model\n",
        "            encoded, decoded = model(x)\n",
        "            # calculate the loss\n",
        "            loss = criterion(decoded, y)\n",
        "            # backward pass: compute gradient of the loss with respect to model parameters\n",
        "            loss.backward()\n",
        "            # perform a single optimization step (parameter update)\n",
        "            optimizer.step()\n",
        "            # record training loss\n",
        "            train_losses.append(loss.item())\n",
        "        \n",
        "        \"validate the model\"\n",
        "        model.eval()\n",
        "        for batch, x in tqdm(enumerate(valid_loder, 1)):\n",
        "            x = x.view(-1,len(x)).to(DEVICE)\n",
        "            y = x.view(-1,len(x)).to(DEVICE)\n",
        "            x = x.float()\n",
        "            y = x.float()\n",
        "\n",
        "            encoded, decoded = model(x)\n",
        "            loss = criterion(decoded, y)\n",
        "            valid_losses.append(loss.item())\n",
        "            \n",
        "        train_loss = np.average(train_losses)\n",
        "        valid_loss = np.average(valid_losses)\n",
        "        avg_train_losses.append(train_loss)\n",
        "        avg_valid_losses.append(valid_loss)\n",
        "        \n",
        "        epoch_len = len(str(epochs))\n",
        "        \n",
        "        print_msg = (f'[{epoch:>{epoch_len}}/{epochs:>{epoch_len}}] ' +\n",
        "                     f'train_loss: {train_loss:.5f} ' +\n",
        "                     f'valid_loss: {valid_loss:.5f}')\n",
        "        print(print_msg)\n",
        "        \n",
        "        #clear lists to track next epoch\n",
        "        train_losses = []\n",
        "        valid_losses = []\n",
        "        \n",
        "        early_stopping(valid_loss, model)\n",
        "        if early_stopping.early_stop:\n",
        "            print(\"Early stopping\")\n",
        "            break\n",
        "                \n",
        "    model.load_state_dict(torch.load('checkpoint.pt'))\n",
        "\n",
        "    return(model, avg_train_losses, avg_valid_losses)\n",
        "\n",
        "model, train_loss, valid_loss = train(model, batch_size, patiences, epochs)        \n",
        "\n",
        "\n",
        "\" Visualizing the Loss and the Early Stopping Checkpoint \"\n",
        "# visualize the loss as the network trained\n",
        "fig = plt.figure(figsize=(10,8))\n",
        "plt.plot(range(1,len(train_loss)+1),train_loss, label='Training Loss')\n",
        "plt.plot(range(1,len(valid_loss)+1),valid_loss,label='Validation Loss')\n",
        "\n",
        "# find position of lowest validation loss\n",
        "minposs = valid_loss.index(min(valid_loss))+1 \n",
        "plt.axvline(minposs, linestyle='--', color='r',label='Early Stopping Checkpoint')\n",
        "\n",
        "plt.xlabel('epochs')\n",
        "plt.ylabel('loss')\n",
        "plt.ylim(0, 0.5) # consistent scale\n",
        "plt.xlim(0, len(train_loss)+1) # consistent scale\n",
        "plt.grid(True)\n",
        "plt.legend()\n",
        "plt.tight_layout()\n",
        "plt.show()\n",
        "fig.savefig('loss_plot.png', bbox_inches='tight')\n",
        "\n",
        "\"Model Save\"\n",
        "from google.colab import drive\n",
        "from google.colab import files\n",
        "drive.mount('/content/gdrive')\n",
        "path = F\"/content/gdrive/My Drive/Autoencoder_1bit/model_save.pth\" \n",
        "torch.save(model.state_dict(), path)"
      ],
      "execution_count": 80,
      "outputs": [
        {
          "output_type": "stream",
          "text": [
            "1024it [00:05, 196.68it/s]\n",
            "1014it [00:01, 652.72it/s]\n",
            "19it [00:00, 183.53it/s]"
          ],
          "name": "stderr"
        },
        {
          "output_type": "stream",
          "text": [
            "[   1/1000] train_loss: 0.18895 valid_loss: 0.30998\n",
            "Validation loss decreased (inf --> 0.309978).  Saving model ...\n"
          ],
          "name": "stdout"
        },
        {
          "output_type": "stream",
          "text": [
            "1024it [00:05, 195.13it/s]\n",
            "1014it [00:01, 655.92it/s]\n",
            "21it [00:00, 205.35it/s]"
          ],
          "name": "stderr"
        },
        {
          "output_type": "stream",
          "text": [
            "[   2/1000] train_loss: 0.13979 valid_loss: 0.27341\n",
            "Validation loss decreased (0.309978 --> 0.273411).  Saving model ...\n"
          ],
          "name": "stdout"
        },
        {
          "output_type": "stream",
          "text": [
            "1024it [00:05, 198.81it/s]\n",
            "1014it [00:01, 671.08it/s]\n",
            "17it [00:00, 164.83it/s]"
          ],
          "name": "stderr"
        },
        {
          "output_type": "stream",
          "text": [
            "[   3/1000] train_loss: 0.11948 valid_loss: 0.24987\n",
            "Validation loss decreased (0.273411 --> 0.249865).  Saving model ...\n"
          ],
          "name": "stdout"
        },
        {
          "output_type": "stream",
          "text": [
            "1024it [00:05, 199.61it/s]\n",
            "1014it [00:01, 655.21it/s]\n",
            "21it [00:00, 207.05it/s]"
          ],
          "name": "stderr"
        },
        {
          "output_type": "stream",
          "text": [
            "[   4/1000] train_loss: 0.10354 valid_loss: 0.23521\n",
            "Validation loss decreased (0.249865 --> 0.235206).  Saving model ...\n"
          ],
          "name": "stdout"
        },
        {
          "output_type": "stream",
          "text": [
            "1024it [00:05, 198.87it/s]\n",
            "1014it [00:01, 668.95it/s]\n",
            "18it [00:00, 172.55it/s]"
          ],
          "name": "stderr"
        },
        {
          "output_type": "stream",
          "text": [
            "[   5/1000] train_loss: 0.09055 valid_loss: 0.22508\n",
            "Validation loss decreased (0.235206 --> 0.225084).  Saving model ...\n"
          ],
          "name": "stdout"
        },
        {
          "output_type": "stream",
          "text": [
            "1024it [00:05, 198.48it/s]\n",
            "1014it [00:01, 648.63it/s]\n",
            "20it [00:00, 196.99it/s]"
          ],
          "name": "stderr"
        },
        {
          "output_type": "stream",
          "text": [
            "[   6/1000] train_loss: 0.08582 valid_loss: 0.22499\n",
            "Validation loss decreased (0.225084 --> 0.224992).  Saving model ...\n"
          ],
          "name": "stdout"
        },
        {
          "output_type": "stream",
          "text": [
            "1024it [00:05, 200.21it/s]\n",
            "1014it [00:01, 661.31it/s]\n",
            "20it [00:00, 192.52it/s]"
          ],
          "name": "stderr"
        },
        {
          "output_type": "stream",
          "text": [
            "[   7/1000] train_loss: 0.08193 valid_loss: 0.21586\n",
            "Validation loss decreased (0.224992 --> 0.215863).  Saving model ...\n"
          ],
          "name": "stdout"
        },
        {
          "output_type": "stream",
          "text": [
            "1024it [00:05, 196.61it/s]\n",
            "1014it [00:01, 650.96it/s]\n",
            "20it [00:00, 197.73it/s]"
          ],
          "name": "stderr"
        },
        {
          "output_type": "stream",
          "text": [
            "[   8/1000] train_loss: 0.07778 valid_loss: 0.21230\n",
            "Validation loss decreased (0.215863 --> 0.212303).  Saving model ...\n"
          ],
          "name": "stdout"
        },
        {
          "output_type": "stream",
          "text": [
            "1024it [00:05, 198.02it/s]\n",
            "1014it [00:01, 667.01it/s]\n",
            "20it [00:00, 198.91it/s]"
          ],
          "name": "stderr"
        },
        {
          "output_type": "stream",
          "text": [
            "[   9/1000] train_loss: 0.07466 valid_loss: 0.20566\n",
            "Validation loss decreased (0.212303 --> 0.205662).  Saving model ...\n"
          ],
          "name": "stdout"
        },
        {
          "output_type": "stream",
          "text": [
            "1024it [00:05, 196.31it/s]\n",
            "1014it [00:01, 673.12it/s]\n",
            "17it [00:00, 165.82it/s]"
          ],
          "name": "stderr"
        },
        {
          "output_type": "stream",
          "text": [
            "[  10/1000] train_loss: 0.07099 valid_loss: 0.19930\n",
            "Validation loss decreased (0.205662 --> 0.199297).  Saving model ...\n"
          ],
          "name": "stdout"
        },
        {
          "output_type": "stream",
          "text": [
            "1024it [00:05, 195.40it/s]\n",
            "1014it [00:01, 658.63it/s]\n",
            "20it [00:00, 198.40it/s]"
          ],
          "name": "stderr"
        },
        {
          "output_type": "stream",
          "text": [
            "[  11/1000] train_loss: 0.06749 valid_loss: 0.18980\n",
            "Validation loss decreased (0.199297 --> 0.189799).  Saving model ...\n"
          ],
          "name": "stdout"
        },
        {
          "output_type": "stream",
          "text": [
            "1024it [00:05, 200.35it/s]\n",
            "1014it [00:01, 675.28it/s]\n",
            "20it [00:00, 193.26it/s]"
          ],
          "name": "stderr"
        },
        {
          "output_type": "stream",
          "text": [
            "[  12/1000] train_loss: 0.06441 valid_loss: 0.18122\n",
            "Validation loss decreased (0.189799 --> 0.181222).  Saving model ...\n"
          ],
          "name": "stdout"
        },
        {
          "output_type": "stream",
          "text": [
            "1024it [00:05, 196.35it/s]\n",
            "1014it [00:01, 684.92it/s]\n",
            "17it [00:00, 169.37it/s]"
          ],
          "name": "stderr"
        },
        {
          "output_type": "stream",
          "text": [
            "[  13/1000] train_loss: 0.06143 valid_loss: 0.17956\n",
            "Validation loss decreased (0.181222 --> 0.179557).  Saving model ...\n"
          ],
          "name": "stdout"
        },
        {
          "output_type": "stream",
          "text": [
            "1024it [00:05, 199.79it/s]\n",
            "1014it [00:01, 684.43it/s]\n",
            "21it [00:00, 209.28it/s]"
          ],
          "name": "stderr"
        },
        {
          "output_type": "stream",
          "text": [
            "[  14/1000] train_loss: 0.05843 valid_loss: 0.17403\n",
            "Validation loss decreased (0.179557 --> 0.174034).  Saving model ...\n"
          ],
          "name": "stdout"
        },
        {
          "output_type": "stream",
          "text": [
            "1024it [00:05, 197.99it/s]\n",
            "1014it [00:01, 670.82it/s]\n",
            "20it [00:00, 196.48it/s]"
          ],
          "name": "stderr"
        },
        {
          "output_type": "stream",
          "text": [
            "[  15/1000] train_loss: 0.05510 valid_loss: 0.16574\n",
            "Validation loss decreased (0.174034 --> 0.165737).  Saving model ...\n"
          ],
          "name": "stdout"
        },
        {
          "output_type": "stream",
          "text": [
            "1024it [00:05, 195.08it/s]\n",
            "1014it [00:01, 678.07it/s]\n",
            "21it [00:00, 204.85it/s]"
          ],
          "name": "stderr"
        },
        {
          "output_type": "stream",
          "text": [
            "[  16/1000] train_loss: 0.05258 valid_loss: 0.15298\n",
            "Validation loss decreased (0.165737 --> 0.152984).  Saving model ...\n"
          ],
          "name": "stdout"
        },
        {
          "output_type": "stream",
          "text": [
            "1024it [00:05, 190.29it/s]\n",
            "1014it [00:01, 659.26it/s]\n",
            "20it [00:00, 199.37it/s]"
          ],
          "name": "stderr"
        },
        {
          "output_type": "stream",
          "text": [
            "[  17/1000] train_loss: 0.05003 valid_loss: 0.14736\n",
            "Validation loss decreased (0.152984 --> 0.147365).  Saving model ...\n"
          ],
          "name": "stdout"
        },
        {
          "output_type": "stream",
          "text": [
            "1024it [00:05, 197.67it/s]\n",
            "1014it [00:01, 664.38it/s]\n",
            "19it [00:00, 185.66it/s]"
          ],
          "name": "stderr"
        },
        {
          "output_type": "stream",
          "text": [
            "[  18/1000] train_loss: 0.04729 valid_loss: 0.14315\n",
            "Validation loss decreased (0.147365 --> 0.143154).  Saving model ...\n"
          ],
          "name": "stdout"
        },
        {
          "output_type": "stream",
          "text": [
            "1024it [00:05, 197.85it/s]\n",
            "1014it [00:01, 662.97it/s]\n",
            "21it [00:00, 203.54it/s]"
          ],
          "name": "stderr"
        },
        {
          "output_type": "stream",
          "text": [
            "[  19/1000] train_loss: 0.04444 valid_loss: 0.14210\n",
            "Validation loss decreased (0.143154 --> 0.142100).  Saving model ...\n"
          ],
          "name": "stdout"
        },
        {
          "output_type": "stream",
          "text": [
            "1024it [00:05, 197.49it/s]\n",
            "1014it [00:01, 655.63it/s]\n",
            "21it [00:00, 206.40it/s]"
          ],
          "name": "stderr"
        },
        {
          "output_type": "stream",
          "text": [
            "[  20/1000] train_loss: 0.04231 valid_loss: 0.13867\n",
            "Validation loss decreased (0.142100 --> 0.138670).  Saving model ...\n"
          ],
          "name": "stdout"
        },
        {
          "output_type": "stream",
          "text": [
            "1024it [00:05, 196.92it/s]\n",
            "1014it [00:01, 675.65it/s]\n",
            "18it [00:00, 175.79it/s]"
          ],
          "name": "stderr"
        },
        {
          "output_type": "stream",
          "text": [
            "[  21/1000] train_loss: 0.03979 valid_loss: 0.13989\n",
            "EarlyStopping counter: 1 out of 100\n"
          ],
          "name": "stdout"
        },
        {
          "output_type": "stream",
          "text": [
            "1024it [00:05, 196.01it/s]\n",
            "1014it [00:01, 657.36it/s]\n",
            "21it [00:00, 206.55it/s]"
          ],
          "name": "stderr"
        },
        {
          "output_type": "stream",
          "text": [
            "[  22/1000] train_loss: 0.03848 valid_loss: 0.13476\n",
            "Validation loss decreased (0.138670 --> 0.134756).  Saving model ...\n"
          ],
          "name": "stdout"
        },
        {
          "output_type": "stream",
          "text": [
            "1024it [00:05, 195.37it/s]\n",
            "1014it [00:01, 670.88it/s]\n",
            "19it [00:00, 185.87it/s]"
          ],
          "name": "stderr"
        },
        {
          "output_type": "stream",
          "text": [
            "[  23/1000] train_loss: 0.03676 valid_loss: 0.12851\n",
            "Validation loss decreased (0.134756 --> 0.128508).  Saving model ...\n"
          ],
          "name": "stdout"
        },
        {
          "output_type": "stream",
          "text": [
            "1024it [00:05, 196.08it/s]\n",
            "1014it [00:01, 677.85it/s]\n",
            "19it [00:00, 182.20it/s]"
          ],
          "name": "stderr"
        },
        {
          "output_type": "stream",
          "text": [
            "[  24/1000] train_loss: 0.03459 valid_loss: 0.12181\n",
            "Validation loss decreased (0.128508 --> 0.121806).  Saving model ...\n"
          ],
          "name": "stdout"
        },
        {
          "output_type": "stream",
          "text": [
            "1024it [00:05, 194.99it/s]\n",
            "1014it [00:01, 646.23it/s]\n",
            "20it [00:00, 194.31it/s]"
          ],
          "name": "stderr"
        },
        {
          "output_type": "stream",
          "text": [
            "[  25/1000] train_loss: 0.03297 valid_loss: 0.11895\n",
            "Validation loss decreased (0.121806 --> 0.118950).  Saving model ...\n"
          ],
          "name": "stdout"
        },
        {
          "output_type": "stream",
          "text": [
            "1024it [00:05, 196.75it/s]\n",
            "1014it [00:01, 677.39it/s]\n",
            "22it [00:00, 214.28it/s]"
          ],
          "name": "stderr"
        },
        {
          "output_type": "stream",
          "text": [
            "[  26/1000] train_loss: 0.03194 valid_loss: 0.11419\n",
            "Validation loss decreased (0.118950 --> 0.114191).  Saving model ...\n"
          ],
          "name": "stdout"
        },
        {
          "output_type": "stream",
          "text": [
            "1024it [00:04, 205.66it/s]\n",
            "1014it [00:01, 677.63it/s]\n",
            "21it [00:00, 205.58it/s]"
          ],
          "name": "stderr"
        },
        {
          "output_type": "stream",
          "text": [
            "[  27/1000] train_loss: 0.03107 valid_loss: 0.11125\n",
            "Validation loss decreased (0.114191 --> 0.111255).  Saving model ...\n"
          ],
          "name": "stdout"
        },
        {
          "output_type": "stream",
          "text": [
            "1024it [00:05, 203.64it/s]\n",
            "1014it [00:01, 678.98it/s]\n",
            "20it [00:00, 199.39it/s]"
          ],
          "name": "stderr"
        },
        {
          "output_type": "stream",
          "text": [
            "[  28/1000] train_loss: 0.03006 valid_loss: 0.11008\n",
            "Validation loss decreased (0.111255 --> 0.110081).  Saving model ...\n"
          ],
          "name": "stdout"
        },
        {
          "output_type": "stream",
          "text": [
            "1024it [00:05, 201.52it/s]\n",
            "1014it [00:01, 683.38it/s]\n",
            "22it [00:00, 211.08it/s]"
          ],
          "name": "stderr"
        },
        {
          "output_type": "stream",
          "text": [
            "[  29/1000] train_loss: 0.02934 valid_loss: 0.11007\n",
            "EarlyStopping counter: 1 out of 100\n"
          ],
          "name": "stdout"
        },
        {
          "output_type": "stream",
          "text": [
            "1024it [00:04, 206.20it/s]\n",
            "1014it [00:01, 704.42it/s]\n",
            "22it [00:00, 215.28it/s]"
          ],
          "name": "stderr"
        },
        {
          "output_type": "stream",
          "text": [
            "[  30/1000] train_loss: 0.02822 valid_loss: 0.10522\n",
            "Validation loss decreased (0.110081 --> 0.105222).  Saving model ...\n"
          ],
          "name": "stdout"
        },
        {
          "output_type": "stream",
          "text": [
            "1024it [00:05, 204.51it/s]\n",
            "1014it [00:01, 672.13it/s]\n",
            "22it [00:00, 213.45it/s]"
          ],
          "name": "stderr"
        },
        {
          "output_type": "stream",
          "text": [
            "[  31/1000] train_loss: 0.02728 valid_loss: 0.10640\n",
            "EarlyStopping counter: 1 out of 100\n"
          ],
          "name": "stdout"
        },
        {
          "output_type": "stream",
          "text": [
            "1024it [00:05, 202.69it/s]\n",
            "1014it [00:01, 679.70it/s]\n",
            "21it [00:00, 208.20it/s]"
          ],
          "name": "stderr"
        },
        {
          "output_type": "stream",
          "text": [
            "[  32/1000] train_loss: 0.02630 valid_loss: 0.10039\n",
            "Validation loss decreased (0.105222 --> 0.100386).  Saving model ...\n"
          ],
          "name": "stdout"
        },
        {
          "output_type": "stream",
          "text": [
            "1024it [00:05, 204.54it/s]\n",
            "1014it [00:01, 699.14it/s]\n",
            "20it [00:00, 197.55it/s]"
          ],
          "name": "stderr"
        },
        {
          "output_type": "stream",
          "text": [
            "[  33/1000] train_loss: 0.02529 valid_loss: 0.10064\n",
            "EarlyStopping counter: 1 out of 100\n"
          ],
          "name": "stdout"
        },
        {
          "output_type": "stream",
          "text": [
            "1024it [00:05, 204.08it/s]\n",
            "1014it [00:01, 690.91it/s]\n",
            "21it [00:00, 209.25it/s]"
          ],
          "name": "stderr"
        },
        {
          "output_type": "stream",
          "text": [
            "[  34/1000] train_loss: 0.02469 valid_loss: 0.10001\n",
            "Validation loss decreased (0.100386 --> 0.100008).  Saving model ...\n"
          ],
          "name": "stdout"
        },
        {
          "output_type": "stream",
          "text": [
            "1024it [00:05, 202.67it/s]\n",
            "1014it [00:01, 696.28it/s]\n",
            "21it [00:00, 202.82it/s]"
          ],
          "name": "stderr"
        },
        {
          "output_type": "stream",
          "text": [
            "[  35/1000] train_loss: 0.02398 valid_loss: 0.09922\n",
            "Validation loss decreased (0.100008 --> 0.099222).  Saving model ...\n"
          ],
          "name": "stdout"
        },
        {
          "output_type": "stream",
          "text": [
            "1024it [00:05, 204.00it/s]\n",
            "1014it [00:01, 693.31it/s]\n",
            "20it [00:00, 194.72it/s]"
          ],
          "name": "stderr"
        },
        {
          "output_type": "stream",
          "text": [
            "[  36/1000] train_loss: 0.02362 valid_loss: 0.09910\n",
            "Validation loss decreased (0.099222 --> 0.099101).  Saving model ...\n"
          ],
          "name": "stdout"
        },
        {
          "output_type": "stream",
          "text": [
            "1024it [00:04, 205.10it/s]\n",
            "1014it [00:01, 702.27it/s]\n",
            "18it [00:00, 178.83it/s]"
          ],
          "name": "stderr"
        },
        {
          "output_type": "stream",
          "text": [
            "[  37/1000] train_loss: 0.02310 valid_loss: 0.10277\n",
            "EarlyStopping counter: 1 out of 100\n"
          ],
          "name": "stdout"
        },
        {
          "output_type": "stream",
          "text": [
            "1024it [00:04, 205.82it/s]\n",
            "1014it [00:01, 672.37it/s]\n",
            "20it [00:00, 198.19it/s]"
          ],
          "name": "stderr"
        },
        {
          "output_type": "stream",
          "text": [
            "[  38/1000] train_loss: 0.02246 valid_loss: 0.10208\n",
            "EarlyStopping counter: 2 out of 100\n"
          ],
          "name": "stdout"
        },
        {
          "output_type": "stream",
          "text": [
            "1024it [00:05, 202.20it/s]\n",
            "1014it [00:01, 674.85it/s]\n",
            "20it [00:00, 198.95it/s]"
          ],
          "name": "stderr"
        },
        {
          "output_type": "stream",
          "text": [
            "[  39/1000] train_loss: 0.02180 valid_loss: 0.10109\n",
            "EarlyStopping counter: 3 out of 100\n"
          ],
          "name": "stdout"
        },
        {
          "output_type": "stream",
          "text": [
            "1024it [00:04, 204.83it/s]\n",
            "1014it [00:01, 683.61it/s]\n",
            "22it [00:00, 211.63it/s]"
          ],
          "name": "stderr"
        },
        {
          "output_type": "stream",
          "text": [
            "[  40/1000] train_loss: 0.02130 valid_loss: 0.10031\n",
            "EarlyStopping counter: 4 out of 100\n"
          ],
          "name": "stdout"
        },
        {
          "output_type": "stream",
          "text": [
            "1024it [00:05, 202.50it/s]\n",
            "1014it [00:01, 675.90it/s]\n",
            "19it [00:00, 186.01it/s]"
          ],
          "name": "stderr"
        },
        {
          "output_type": "stream",
          "text": [
            "[  41/1000] train_loss: 0.02057 valid_loss: 0.10169\n",
            "EarlyStopping counter: 5 out of 100\n"
          ],
          "name": "stdout"
        },
        {
          "output_type": "stream",
          "text": [
            "1024it [00:05, 198.22it/s]\n",
            "1014it [00:01, 685.69it/s]\n",
            "21it [00:00, 200.18it/s]"
          ],
          "name": "stderr"
        },
        {
          "output_type": "stream",
          "text": [
            "[  42/1000] train_loss: 0.02046 valid_loss: 0.09950\n",
            "EarlyStopping counter: 6 out of 100\n"
          ],
          "name": "stdout"
        },
        {
          "output_type": "stream",
          "text": [
            "1024it [00:05, 200.54it/s]\n",
            "1014it [00:01, 649.63it/s]\n",
            "18it [00:00, 172.92it/s]"
          ],
          "name": "stderr"
        },
        {
          "output_type": "stream",
          "text": [
            "[  43/1000] train_loss: 0.02011 valid_loss: 0.09994\n",
            "EarlyStopping counter: 7 out of 100\n"
          ],
          "name": "stdout"
        },
        {
          "output_type": "stream",
          "text": [
            "1024it [00:05, 194.21it/s]\n",
            "1014it [00:01, 649.86it/s]\n",
            "21it [00:00, 202.06it/s]"
          ],
          "name": "stderr"
        },
        {
          "output_type": "stream",
          "text": [
            "[  44/1000] train_loss: 0.01968 valid_loss: 0.10128\n",
            "EarlyStopping counter: 8 out of 100\n"
          ],
          "name": "stdout"
        },
        {
          "output_type": "stream",
          "text": [
            "1024it [00:05, 195.98it/s]\n",
            "1014it [00:01, 655.37it/s]\n",
            "21it [00:00, 205.07it/s]"
          ],
          "name": "stderr"
        },
        {
          "output_type": "stream",
          "text": [
            "[  45/1000] train_loss: 0.01920 valid_loss: 0.10201\n",
            "EarlyStopping counter: 9 out of 100\n"
          ],
          "name": "stdout"
        },
        {
          "output_type": "stream",
          "text": [
            "1024it [00:05, 198.73it/s]\n",
            "1014it [00:01, 657.77it/s]\n",
            "21it [00:00, 209.21it/s]"
          ],
          "name": "stderr"
        },
        {
          "output_type": "stream",
          "text": [
            "[  46/1000] train_loss: 0.01882 valid_loss: 0.09949\n",
            "EarlyStopping counter: 10 out of 100\n"
          ],
          "name": "stdout"
        },
        {
          "output_type": "stream",
          "text": [
            "1024it [00:05, 196.22it/s]\n",
            "1014it [00:01, 673.42it/s]\n",
            "21it [00:00, 209.50it/s]"
          ],
          "name": "stderr"
        },
        {
          "output_type": "stream",
          "text": [
            "[  47/1000] train_loss: 0.01836 valid_loss: 0.09984\n",
            "EarlyStopping counter: 11 out of 100\n"
          ],
          "name": "stdout"
        },
        {
          "output_type": "stream",
          "text": [
            "1024it [00:05, 198.56it/s]\n",
            "1014it [00:01, 668.39it/s]\n",
            "18it [00:00, 175.79it/s]"
          ],
          "name": "stderr"
        },
        {
          "output_type": "stream",
          "text": [
            "[  48/1000] train_loss: 0.01826 valid_loss: 0.10229\n",
            "EarlyStopping counter: 12 out of 100\n"
          ],
          "name": "stdout"
        },
        {
          "output_type": "stream",
          "text": [
            "1024it [00:05, 196.81it/s]\n",
            "1014it [00:01, 664.64it/s]\n",
            "20it [00:00, 195.34it/s]"
          ],
          "name": "stderr"
        },
        {
          "output_type": "stream",
          "text": [
            "[  49/1000] train_loss: 0.01763 valid_loss: 0.10068\n",
            "EarlyStopping counter: 13 out of 100\n"
          ],
          "name": "stdout"
        },
        {
          "output_type": "stream",
          "text": [
            "1024it [00:05, 195.63it/s]\n",
            "1014it [00:01, 655.75it/s]\n",
            "18it [00:00, 172.55it/s]"
          ],
          "name": "stderr"
        },
        {
          "output_type": "stream",
          "text": [
            "[  50/1000] train_loss: 0.01715 valid_loss: 0.10077\n",
            "EarlyStopping counter: 14 out of 100\n"
          ],
          "name": "stdout"
        },
        {
          "output_type": "stream",
          "text": [
            "1024it [00:05, 196.44it/s]\n",
            "1014it [00:01, 669.98it/s]\n",
            "21it [00:00, 207.33it/s]"
          ],
          "name": "stderr"
        },
        {
          "output_type": "stream",
          "text": [
            "[  51/1000] train_loss: 0.01699 valid_loss: 0.09621\n",
            "Validation loss decreased (0.099101 --> 0.096209).  Saving model ...\n"
          ],
          "name": "stdout"
        },
        {
          "output_type": "stream",
          "text": [
            "1024it [00:05, 198.20it/s]\n",
            "1014it [00:01, 669.23it/s]\n",
            "22it [00:00, 212.30it/s]"
          ],
          "name": "stderr"
        },
        {
          "output_type": "stream",
          "text": [
            "[  52/1000] train_loss: 0.01673 valid_loss: 0.09745\n",
            "EarlyStopping counter: 1 out of 100\n"
          ],
          "name": "stdout"
        },
        {
          "output_type": "stream",
          "text": [
            "1024it [00:05, 199.11it/s]\n",
            "1014it [00:01, 655.90it/s]\n",
            "19it [00:00, 188.48it/s]"
          ],
          "name": "stderr"
        },
        {
          "output_type": "stream",
          "text": [
            "[  53/1000] train_loss: 0.01646 valid_loss: 0.09536\n",
            "Validation loss decreased (0.096209 --> 0.095356).  Saving model ...\n"
          ],
          "name": "stdout"
        },
        {
          "output_type": "stream",
          "text": [
            "1024it [00:05, 194.86it/s]\n",
            "1014it [00:01, 677.12it/s]\n",
            "19it [00:00, 181.67it/s]"
          ],
          "name": "stderr"
        },
        {
          "output_type": "stream",
          "text": [
            "[  54/1000] train_loss: 0.01657 valid_loss: 0.09516\n",
            "Validation loss decreased (0.095356 --> 0.095165).  Saving model ...\n"
          ],
          "name": "stdout"
        },
        {
          "output_type": "stream",
          "text": [
            "1024it [00:05, 197.22it/s]\n",
            "1014it [00:01, 651.88it/s]\n",
            "21it [00:00, 208.98it/s]"
          ],
          "name": "stderr"
        },
        {
          "output_type": "stream",
          "text": [
            "[  55/1000] train_loss: 0.01599 valid_loss: 0.09624\n",
            "EarlyStopping counter: 1 out of 100\n"
          ],
          "name": "stdout"
        },
        {
          "output_type": "stream",
          "text": [
            "1024it [00:05, 202.20it/s]\n",
            "1014it [00:01, 648.24it/s]\n",
            "21it [00:00, 206.31it/s]"
          ],
          "name": "stderr"
        },
        {
          "output_type": "stream",
          "text": [
            "[  56/1000] train_loss: 0.01557 valid_loss: 0.09336\n",
            "Validation loss decreased (0.095165 --> 0.093361).  Saving model ...\n"
          ],
          "name": "stdout"
        },
        {
          "output_type": "stream",
          "text": [
            "1024it [00:05, 200.81it/s]\n",
            "1014it [00:01, 682.90it/s]\n",
            "21it [00:00, 208.27it/s]"
          ],
          "name": "stderr"
        },
        {
          "output_type": "stream",
          "text": [
            "[  57/1000] train_loss: 0.01511 valid_loss: 0.09292\n",
            "Validation loss decreased (0.093361 --> 0.092918).  Saving model ...\n"
          ],
          "name": "stdout"
        },
        {
          "output_type": "stream",
          "text": [
            "1024it [00:05, 201.07it/s]\n",
            "1014it [00:01, 683.08it/s]\n",
            "22it [00:00, 213.83it/s]"
          ],
          "name": "stderr"
        },
        {
          "output_type": "stream",
          "text": [
            "[  58/1000] train_loss: 0.01502 valid_loss: 0.09330\n",
            "EarlyStopping counter: 1 out of 100\n"
          ],
          "name": "stdout"
        },
        {
          "output_type": "stream",
          "text": [
            "1024it [00:05, 202.13it/s]\n",
            "1014it [00:01, 654.93it/s]\n",
            "21it [00:00, 208.35it/s]"
          ],
          "name": "stderr"
        },
        {
          "output_type": "stream",
          "text": [
            "[  59/1000] train_loss: 0.01469 valid_loss: 0.09073\n",
            "Validation loss decreased (0.092918 --> 0.090726).  Saving model ...\n"
          ],
          "name": "stdout"
        },
        {
          "output_type": "stream",
          "text": [
            "1024it [00:05, 199.54it/s]\n",
            "1014it [00:01, 688.30it/s]\n",
            "20it [00:00, 194.77it/s]"
          ],
          "name": "stderr"
        },
        {
          "output_type": "stream",
          "text": [
            "[  60/1000] train_loss: 0.01412 valid_loss: 0.08748\n",
            "Validation loss decreased (0.090726 --> 0.087482).  Saving model ...\n"
          ],
          "name": "stdout"
        },
        {
          "output_type": "stream",
          "text": [
            "1024it [00:05, 200.16it/s]\n",
            "1014it [00:01, 652.68it/s]\n",
            "20it [00:00, 199.62it/s]"
          ],
          "name": "stderr"
        },
        {
          "output_type": "stream",
          "text": [
            "[  61/1000] train_loss: 0.01371 valid_loss: 0.08563\n",
            "Validation loss decreased (0.087482 --> 0.085632).  Saving model ...\n"
          ],
          "name": "stdout"
        },
        {
          "output_type": "stream",
          "text": [
            "1024it [00:05, 202.25it/s]\n",
            "1014it [00:01, 681.95it/s]\n",
            "18it [00:00, 175.94it/s]"
          ],
          "name": "stderr"
        },
        {
          "output_type": "stream",
          "text": [
            "[  62/1000] train_loss: 0.01326 valid_loss: 0.08847\n",
            "EarlyStopping counter: 1 out of 100\n"
          ],
          "name": "stdout"
        },
        {
          "output_type": "stream",
          "text": [
            "1024it [00:05, 191.82it/s]\n",
            "1014it [00:01, 662.46it/s]\n",
            "20it [00:00, 195.24it/s]"
          ],
          "name": "stderr"
        },
        {
          "output_type": "stream",
          "text": [
            "[  63/1000] train_loss: 0.01323 valid_loss: 0.09036\n",
            "EarlyStopping counter: 2 out of 100\n"
          ],
          "name": "stdout"
        },
        {
          "output_type": "stream",
          "text": [
            "1024it [00:05, 194.02it/s]\n",
            "1014it [00:01, 657.26it/s]\n",
            "21it [00:00, 204.53it/s]"
          ],
          "name": "stderr"
        },
        {
          "output_type": "stream",
          "text": [
            "[  64/1000] train_loss: 0.01284 valid_loss: 0.08684\n",
            "EarlyStopping counter: 3 out of 100\n"
          ],
          "name": "stdout"
        },
        {
          "output_type": "stream",
          "text": [
            "1024it [00:05, 196.03it/s]\n",
            "1014it [00:01, 671.90it/s]\n",
            "19it [00:00, 183.52it/s]"
          ],
          "name": "stderr"
        },
        {
          "output_type": "stream",
          "text": [
            "[  65/1000] train_loss: 0.01261 valid_loss: 0.08687\n",
            "EarlyStopping counter: 4 out of 100\n"
          ],
          "name": "stdout"
        },
        {
          "output_type": "stream",
          "text": [
            "1024it [00:06, 157.63it/s]\n",
            "1014it [00:01, 658.37it/s]\n",
            "20it [00:00, 194.78it/s]"
          ],
          "name": "stderr"
        },
        {
          "output_type": "stream",
          "text": [
            "[  66/1000] train_loss: 0.01235 valid_loss: 0.08561\n",
            "Validation loss decreased (0.085632 --> 0.085611).  Saving model ...\n"
          ],
          "name": "stdout"
        },
        {
          "output_type": "stream",
          "text": [
            "1024it [00:05, 195.53it/s]\n",
            "1014it [00:01, 641.50it/s]\n",
            "20it [00:00, 197.54it/s]"
          ],
          "name": "stderr"
        },
        {
          "output_type": "stream",
          "text": [
            "[  67/1000] train_loss: 0.01196 valid_loss: 0.08343\n",
            "Validation loss decreased (0.085611 --> 0.083429).  Saving model ...\n"
          ],
          "name": "stdout"
        },
        {
          "output_type": "stream",
          "text": [
            "1024it [00:05, 196.93it/s]\n",
            "1014it [00:01, 690.24it/s]\n",
            "20it [00:00, 191.38it/s]"
          ],
          "name": "stderr"
        },
        {
          "output_type": "stream",
          "text": [
            "[  68/1000] train_loss: 0.01169 valid_loss: 0.08221\n",
            "Validation loss decreased (0.083429 --> 0.082214).  Saving model ...\n"
          ],
          "name": "stdout"
        },
        {
          "output_type": "stream",
          "text": [
            "1024it [00:05, 200.16it/s]\n",
            "1014it [00:01, 659.26it/s]\n",
            "19it [00:00, 188.60it/s]"
          ],
          "name": "stderr"
        },
        {
          "output_type": "stream",
          "text": [
            "[  69/1000] train_loss: 0.01180 valid_loss: 0.08045\n",
            "Validation loss decreased (0.082214 --> 0.080454).  Saving model ...\n"
          ],
          "name": "stdout"
        },
        {
          "output_type": "stream",
          "text": [
            "1024it [00:05, 200.98it/s]\n",
            "1014it [00:01, 657.38it/s]\n",
            "22it [00:00, 214.50it/s]"
          ],
          "name": "stderr"
        },
        {
          "output_type": "stream",
          "text": [
            "[  70/1000] train_loss: 0.01160 valid_loss: 0.08000\n",
            "Validation loss decreased (0.080454 --> 0.079999).  Saving model ...\n"
          ],
          "name": "stdout"
        },
        {
          "output_type": "stream",
          "text": [
            "1024it [00:05, 194.53it/s]\n",
            "1014it [00:01, 666.36it/s]\n",
            "18it [00:00, 179.77it/s]"
          ],
          "name": "stderr"
        },
        {
          "output_type": "stream",
          "text": [
            "[  71/1000] train_loss: 0.01158 valid_loss: 0.07876\n",
            "Validation loss decreased (0.079999 --> 0.078762).  Saving model ...\n"
          ],
          "name": "stdout"
        },
        {
          "output_type": "stream",
          "text": [
            "1024it [00:05, 193.98it/s]\n",
            "1014it [00:01, 679.16it/s]\n",
            "19it [00:00, 182.77it/s]"
          ],
          "name": "stderr"
        },
        {
          "output_type": "stream",
          "text": [
            "[  72/1000] train_loss: 0.01112 valid_loss: 0.07590\n",
            "Validation loss decreased (0.078762 --> 0.075896).  Saving model ...\n"
          ],
          "name": "stdout"
        },
        {
          "output_type": "stream",
          "text": [
            "1024it [00:05, 195.12it/s]\n",
            "1014it [00:01, 669.58it/s]\n",
            "20it [00:00, 197.16it/s]"
          ],
          "name": "stderr"
        },
        {
          "output_type": "stream",
          "text": [
            "[  73/1000] train_loss: 0.01096 valid_loss: 0.07664\n",
            "EarlyStopping counter: 1 out of 100\n"
          ],
          "name": "stdout"
        },
        {
          "output_type": "stream",
          "text": [
            "1024it [00:05, 194.36it/s]\n",
            "1014it [00:01, 686.77it/s]\n",
            "20it [00:00, 199.28it/s]"
          ],
          "name": "stderr"
        },
        {
          "output_type": "stream",
          "text": [
            "[  74/1000] train_loss: 0.01082 valid_loss: 0.07666\n",
            "EarlyStopping counter: 2 out of 100\n"
          ],
          "name": "stdout"
        },
        {
          "output_type": "stream",
          "text": [
            "1024it [00:05, 197.09it/s]\n",
            "1014it [00:01, 652.63it/s]\n",
            "21it [00:00, 204.57it/s]"
          ],
          "name": "stderr"
        },
        {
          "output_type": "stream",
          "text": [
            "[  75/1000] train_loss: 0.01102 valid_loss: 0.07572\n",
            "Validation loss decreased (0.075896 --> 0.075717).  Saving model ...\n"
          ],
          "name": "stdout"
        },
        {
          "output_type": "stream",
          "text": [
            "1024it [00:05, 192.70it/s]\n",
            "1014it [00:01, 646.49it/s]\n",
            "21it [00:00, 204.15it/s]"
          ],
          "name": "stderr"
        },
        {
          "output_type": "stream",
          "text": [
            "[  76/1000] train_loss: 0.01065 valid_loss: 0.07607\n",
            "EarlyStopping counter: 1 out of 100\n"
          ],
          "name": "stdout"
        },
        {
          "output_type": "stream",
          "text": [
            "1024it [00:05, 196.92it/s]\n",
            "1014it [00:01, 676.15it/s]\n",
            "15it [00:00, 148.87it/s]"
          ],
          "name": "stderr"
        },
        {
          "output_type": "stream",
          "text": [
            "[  77/1000] train_loss: 0.01067 valid_loss: 0.07451\n",
            "Validation loss decreased (0.075717 --> 0.074511).  Saving model ...\n"
          ],
          "name": "stdout"
        },
        {
          "output_type": "stream",
          "text": [
            "1024it [00:05, 194.65it/s]\n",
            "1014it [00:01, 662.91it/s]\n",
            "17it [00:00, 167.53it/s]"
          ],
          "name": "stderr"
        },
        {
          "output_type": "stream",
          "text": [
            "[  78/1000] train_loss: 0.01009 valid_loss: 0.07297\n",
            "Validation loss decreased (0.074511 --> 0.072973).  Saving model ...\n"
          ],
          "name": "stdout"
        },
        {
          "output_type": "stream",
          "text": [
            "1024it [00:05, 198.34it/s]\n",
            "1014it [00:01, 685.18it/s]\n",
            "21it [00:00, 205.32it/s]"
          ],
          "name": "stderr"
        },
        {
          "output_type": "stream",
          "text": [
            "[  79/1000] train_loss: 0.01000 valid_loss: 0.07213\n",
            "Validation loss decreased (0.072973 --> 0.072126).  Saving model ...\n"
          ],
          "name": "stdout"
        },
        {
          "output_type": "stream",
          "text": [
            "1024it [00:05, 199.24it/s]\n",
            "1014it [00:01, 657.68it/s]\n",
            "22it [00:00, 212.03it/s]"
          ],
          "name": "stderr"
        },
        {
          "output_type": "stream",
          "text": [
            "[  80/1000] train_loss: 0.00979 valid_loss: 0.07214\n",
            "EarlyStopping counter: 1 out of 100\n"
          ],
          "name": "stdout"
        },
        {
          "output_type": "stream",
          "text": [
            "1024it [00:05, 198.90it/s]\n",
            "1014it [00:01, 688.57it/s]\n",
            "22it [00:00, 212.61it/s]"
          ],
          "name": "stderr"
        },
        {
          "output_type": "stream",
          "text": [
            "[  81/1000] train_loss: 0.00955 valid_loss: 0.07267\n",
            "EarlyStopping counter: 2 out of 100\n"
          ],
          "name": "stdout"
        },
        {
          "output_type": "stream",
          "text": [
            "1024it [00:05, 198.45it/s]\n",
            "1014it [00:01, 647.14it/s]\n",
            "19it [00:00, 184.81it/s]"
          ],
          "name": "stderr"
        },
        {
          "output_type": "stream",
          "text": [
            "[  82/1000] train_loss: 0.00913 valid_loss: 0.07168\n",
            "Validation loss decreased (0.072126 --> 0.071679).  Saving model ...\n"
          ],
          "name": "stdout"
        },
        {
          "output_type": "stream",
          "text": [
            "1024it [00:05, 197.10it/s]\n",
            "1014it [00:01, 657.53it/s]\n",
            "20it [00:00, 197.39it/s]"
          ],
          "name": "stderr"
        },
        {
          "output_type": "stream",
          "text": [
            "[  83/1000] train_loss: 0.00911 valid_loss: 0.07008\n",
            "Validation loss decreased (0.071679 --> 0.070077).  Saving model ...\n"
          ],
          "name": "stdout"
        },
        {
          "output_type": "stream",
          "text": [
            "1024it [00:05, 197.20it/s]\n",
            "1014it [00:01, 670.01it/s]\n",
            "21it [00:00, 199.36it/s]"
          ],
          "name": "stderr"
        },
        {
          "output_type": "stream",
          "text": [
            "[  84/1000] train_loss: 0.00910 valid_loss: 0.07228\n",
            "EarlyStopping counter: 1 out of 100\n"
          ],
          "name": "stdout"
        },
        {
          "output_type": "stream",
          "text": [
            "1024it [00:05, 196.29it/s]\n",
            "1014it [00:01, 645.61it/s]\n",
            "20it [00:00, 198.06it/s]"
          ],
          "name": "stderr"
        },
        {
          "output_type": "stream",
          "text": [
            "[  85/1000] train_loss: 0.00938 valid_loss: 0.07240\n",
            "EarlyStopping counter: 2 out of 100\n"
          ],
          "name": "stdout"
        },
        {
          "output_type": "stream",
          "text": [
            "1024it [00:05, 197.79it/s]\n",
            "1014it [00:01, 682.06it/s]\n",
            "20it [00:00, 195.63it/s]"
          ],
          "name": "stderr"
        },
        {
          "output_type": "stream",
          "text": [
            "[  86/1000] train_loss: 0.00887 valid_loss: 0.07179\n",
            "EarlyStopping counter: 3 out of 100\n"
          ],
          "name": "stdout"
        },
        {
          "output_type": "stream",
          "text": [
            "1024it [00:05, 197.41it/s]\n",
            "1014it [00:01, 664.32it/s]\n",
            "19it [00:00, 186.62it/s]"
          ],
          "name": "stderr"
        },
        {
          "output_type": "stream",
          "text": [
            "[  87/1000] train_loss: 0.00864 valid_loss: 0.07062\n",
            "EarlyStopping counter: 4 out of 100\n"
          ],
          "name": "stdout"
        },
        {
          "output_type": "stream",
          "text": [
            "1024it [00:05, 199.56it/s]\n",
            "1014it [00:01, 688.26it/s]\n",
            "20it [00:00, 194.29it/s]"
          ],
          "name": "stderr"
        },
        {
          "output_type": "stream",
          "text": [
            "[  88/1000] train_loss: 0.00836 valid_loss: 0.07015\n",
            "EarlyStopping counter: 5 out of 100\n"
          ],
          "name": "stdout"
        },
        {
          "output_type": "stream",
          "text": [
            "1024it [00:05, 196.69it/s]\n",
            "1014it [00:01, 655.20it/s]\n",
            "17it [00:00, 164.75it/s]"
          ],
          "name": "stderr"
        },
        {
          "output_type": "stream",
          "text": [
            "[  89/1000] train_loss: 0.00833 valid_loss: 0.07194\n",
            "EarlyStopping counter: 6 out of 100\n"
          ],
          "name": "stdout"
        },
        {
          "output_type": "stream",
          "text": [
            "1024it [00:05, 195.03it/s]\n",
            "1014it [00:01, 689.80it/s]\n",
            "20it [00:00, 190.90it/s]"
          ],
          "name": "stderr"
        },
        {
          "output_type": "stream",
          "text": [
            "[  90/1000] train_loss: 0.00800 valid_loss: 0.07117\n",
            "EarlyStopping counter: 7 out of 100\n"
          ],
          "name": "stdout"
        },
        {
          "output_type": "stream",
          "text": [
            "1024it [00:05, 202.13it/s]\n",
            "1014it [00:01, 669.34it/s]\n",
            "20it [00:00, 195.38it/s]"
          ],
          "name": "stderr"
        },
        {
          "output_type": "stream",
          "text": [
            "[  91/1000] train_loss: 0.00811 valid_loss: 0.06901\n",
            "Validation loss decreased (0.070077 --> 0.069007).  Saving model ...\n"
          ],
          "name": "stdout"
        },
        {
          "output_type": "stream",
          "text": [
            "1024it [00:05, 197.20it/s]\n",
            "1014it [00:01, 656.78it/s]\n",
            "18it [00:00, 175.34it/s]"
          ],
          "name": "stderr"
        },
        {
          "output_type": "stream",
          "text": [
            "[  92/1000] train_loss: 0.00811 valid_loss: 0.07106\n",
            "EarlyStopping counter: 1 out of 100\n"
          ],
          "name": "stdout"
        },
        {
          "output_type": "stream",
          "text": [
            "1024it [00:05, 193.50it/s]\n",
            "1014it [00:01, 662.01it/s]\n",
            "21it [00:00, 204.03it/s]"
          ],
          "name": "stderr"
        },
        {
          "output_type": "stream",
          "text": [
            "[  93/1000] train_loss: 0.00776 valid_loss: 0.06836\n",
            "Validation loss decreased (0.069007 --> 0.068358).  Saving model ...\n"
          ],
          "name": "stdout"
        },
        {
          "output_type": "stream",
          "text": [
            "1024it [00:05, 197.88it/s]\n",
            "1014it [00:01, 649.64it/s]\n",
            "20it [00:00, 198.29it/s]"
          ],
          "name": "stderr"
        },
        {
          "output_type": "stream",
          "text": [
            "[  94/1000] train_loss: 0.00740 valid_loss: 0.06825\n",
            "Validation loss decreased (0.068358 --> 0.068252).  Saving model ...\n"
          ],
          "name": "stdout"
        },
        {
          "output_type": "stream",
          "text": [
            "1024it [00:05, 195.11it/s]\n",
            "1014it [00:01, 660.87it/s]\n",
            "19it [00:00, 184.66it/s]"
          ],
          "name": "stderr"
        },
        {
          "output_type": "stream",
          "text": [
            "[  95/1000] train_loss: 0.00733 valid_loss: 0.06681\n",
            "Validation loss decreased (0.068252 --> 0.066814).  Saving model ...\n"
          ],
          "name": "stdout"
        },
        {
          "output_type": "stream",
          "text": [
            "1024it [00:05, 194.54it/s]\n",
            "1014it [00:01, 645.65it/s]\n",
            "20it [00:00, 192.09it/s]"
          ],
          "name": "stderr"
        },
        {
          "output_type": "stream",
          "text": [
            "[  96/1000] train_loss: 0.00756 valid_loss: 0.06844\n",
            "EarlyStopping counter: 1 out of 100\n"
          ],
          "name": "stdout"
        },
        {
          "output_type": "stream",
          "text": [
            "1024it [00:05, 198.01it/s]\n",
            "1014it [00:01, 658.49it/s]\n",
            "20it [00:00, 195.38it/s]"
          ],
          "name": "stderr"
        },
        {
          "output_type": "stream",
          "text": [
            "[  97/1000] train_loss: 0.00767 valid_loss: 0.06719\n",
            "EarlyStopping counter: 2 out of 100\n"
          ],
          "name": "stdout"
        },
        {
          "output_type": "stream",
          "text": [
            "1024it [00:05, 196.84it/s]\n",
            "1014it [00:01, 649.80it/s]\n",
            "21it [00:00, 206.97it/s]"
          ],
          "name": "stderr"
        },
        {
          "output_type": "stream",
          "text": [
            "[  98/1000] train_loss: 0.00750 valid_loss: 0.06413\n",
            "Validation loss decreased (0.066814 --> 0.064126).  Saving model ...\n"
          ],
          "name": "stdout"
        },
        {
          "output_type": "stream",
          "text": [
            "1024it [00:05, 196.54it/s]\n",
            "1014it [00:01, 656.13it/s]\n",
            "21it [00:00, 202.86it/s]"
          ],
          "name": "stderr"
        },
        {
          "output_type": "stream",
          "text": [
            "[  99/1000] train_loss: 0.00718 valid_loss: 0.06700\n",
            "EarlyStopping counter: 1 out of 100\n"
          ],
          "name": "stdout"
        },
        {
          "output_type": "stream",
          "text": [
            "1024it [00:05, 196.57it/s]\n",
            "1014it [00:01, 677.07it/s]\n",
            "23it [00:00, 221.11it/s]"
          ],
          "name": "stderr"
        },
        {
          "output_type": "stream",
          "text": [
            "[ 100/1000] train_loss: 0.00744 valid_loss: 0.06355\n",
            "Validation loss decreased (0.064126 --> 0.063549).  Saving model ...\n"
          ],
          "name": "stdout"
        },
        {
          "output_type": "stream",
          "text": [
            "1024it [00:04, 206.34it/s]\n",
            "1014it [00:01, 665.89it/s]\n",
            "19it [00:00, 186.47it/s]"
          ],
          "name": "stderr"
        },
        {
          "output_type": "stream",
          "text": [
            "[ 101/1000] train_loss: 0.00726 valid_loss: 0.06732\n",
            "EarlyStopping counter: 1 out of 100\n"
          ],
          "name": "stdout"
        },
        {
          "output_type": "stream",
          "text": [
            "1024it [00:05, 199.82it/s]\n",
            "1014it [00:01, 651.61it/s]\n",
            "22it [00:00, 210.81it/s]"
          ],
          "name": "stderr"
        },
        {
          "output_type": "stream",
          "text": [
            "[ 102/1000] train_loss: 0.00695 valid_loss: 0.06630\n",
            "EarlyStopping counter: 2 out of 100\n"
          ],
          "name": "stdout"
        },
        {
          "output_type": "stream",
          "text": [
            "1024it [00:05, 198.61it/s]\n",
            "1014it [00:01, 667.05it/s]\n",
            "18it [00:00, 178.32it/s]"
          ],
          "name": "stderr"
        },
        {
          "output_type": "stream",
          "text": [
            "[ 103/1000] train_loss: 0.00708 valid_loss: 0.06781\n",
            "EarlyStopping counter: 3 out of 100\n"
          ],
          "name": "stdout"
        },
        {
          "output_type": "stream",
          "text": [
            "1024it [00:05, 195.12it/s]\n",
            "1014it [00:01, 657.44it/s]\n",
            "21it [00:00, 209.01it/s]"
          ],
          "name": "stderr"
        },
        {
          "output_type": "stream",
          "text": [
            "[ 104/1000] train_loss: 0.00686 valid_loss: 0.06882\n",
            "EarlyStopping counter: 4 out of 100\n"
          ],
          "name": "stdout"
        },
        {
          "output_type": "stream",
          "text": [
            "1024it [00:05, 195.52it/s]\n",
            "1014it [00:01, 635.10it/s]\n",
            "20it [00:00, 193.65it/s]"
          ],
          "name": "stderr"
        },
        {
          "output_type": "stream",
          "text": [
            "[ 105/1000] train_loss: 0.00656 valid_loss: 0.06667\n",
            "EarlyStopping counter: 5 out of 100\n"
          ],
          "name": "stdout"
        },
        {
          "output_type": "stream",
          "text": [
            "1024it [00:05, 196.46it/s]\n",
            "1014it [00:01, 659.35it/s]\n",
            "19it [00:00, 184.34it/s]"
          ],
          "name": "stderr"
        },
        {
          "output_type": "stream",
          "text": [
            "[ 106/1000] train_loss: 0.00687 valid_loss: 0.06822\n",
            "EarlyStopping counter: 6 out of 100\n"
          ],
          "name": "stdout"
        },
        {
          "output_type": "stream",
          "text": [
            "1024it [00:05, 193.69it/s]\n",
            "1014it [00:01, 647.31it/s]\n",
            "21it [00:00, 202.48it/s]"
          ],
          "name": "stderr"
        },
        {
          "output_type": "stream",
          "text": [
            "[ 107/1000] train_loss: 0.00655 valid_loss: 0.06474\n",
            "EarlyStopping counter: 7 out of 100\n"
          ],
          "name": "stdout"
        },
        {
          "output_type": "stream",
          "text": [
            "1024it [00:05, 191.37it/s]\n",
            "1014it [00:01, 648.75it/s]\n",
            "19it [00:00, 184.95it/s]"
          ],
          "name": "stderr"
        },
        {
          "output_type": "stream",
          "text": [
            "[ 108/1000] train_loss: 0.00670 valid_loss: 0.06633\n",
            "EarlyStopping counter: 8 out of 100\n"
          ],
          "name": "stdout"
        },
        {
          "output_type": "stream",
          "text": [
            "1024it [00:05, 191.56it/s]\n",
            "1014it [00:01, 641.75it/s]\n",
            "19it [00:00, 183.00it/s]"
          ],
          "name": "stderr"
        },
        {
          "output_type": "stream",
          "text": [
            "[ 109/1000] train_loss: 0.00662 valid_loss: 0.06352\n",
            "Validation loss decreased (0.063549 --> 0.063517).  Saving model ...\n"
          ],
          "name": "stdout"
        },
        {
          "output_type": "stream",
          "text": [
            "1024it [00:05, 185.72it/s]\n",
            "1014it [00:01, 658.37it/s]\n",
            "18it [00:00, 179.44it/s]"
          ],
          "name": "stderr"
        },
        {
          "output_type": "stream",
          "text": [
            "[ 110/1000] train_loss: 0.00695 valid_loss: 0.06651\n",
            "EarlyStopping counter: 1 out of 100\n"
          ],
          "name": "stdout"
        },
        {
          "output_type": "stream",
          "text": [
            "1024it [00:05, 194.99it/s]\n",
            "1014it [00:01, 646.96it/s]\n",
            "19it [00:00, 187.30it/s]"
          ],
          "name": "stderr"
        },
        {
          "output_type": "stream",
          "text": [
            "[ 111/1000] train_loss: 0.00701 valid_loss: 0.06392\n",
            "EarlyStopping counter: 2 out of 100\n"
          ],
          "name": "stdout"
        },
        {
          "output_type": "stream",
          "text": [
            "1024it [00:05, 194.68it/s]\n",
            "1014it [00:01, 650.34it/s]\n",
            "20it [00:00, 199.37it/s]"
          ],
          "name": "stderr"
        },
        {
          "output_type": "stream",
          "text": [
            "[ 112/1000] train_loss: 0.00678 valid_loss: 0.06326\n",
            "Validation loss decreased (0.063517 --> 0.063261).  Saving model ...\n"
          ],
          "name": "stdout"
        },
        {
          "output_type": "stream",
          "text": [
            "1024it [00:05, 194.35it/s]\n",
            "1014it [00:01, 652.07it/s]\n",
            "21it [00:00, 205.53it/s]"
          ],
          "name": "stderr"
        },
        {
          "output_type": "stream",
          "text": [
            "[ 113/1000] train_loss: 0.00637 valid_loss: 0.06432\n",
            "EarlyStopping counter: 1 out of 100\n"
          ],
          "name": "stdout"
        },
        {
          "output_type": "stream",
          "text": [
            "1024it [00:05, 196.41it/s]\n",
            "1014it [00:01, 653.28it/s]\n",
            "20it [00:00, 198.35it/s]"
          ],
          "name": "stderr"
        },
        {
          "output_type": "stream",
          "text": [
            "[ 114/1000] train_loss: 0.00655 valid_loss: 0.06650\n",
            "EarlyStopping counter: 2 out of 100\n"
          ],
          "name": "stdout"
        },
        {
          "output_type": "stream",
          "text": [
            "1024it [00:05, 195.47it/s]\n",
            "1014it [00:01, 658.09it/s]\n",
            "20it [00:00, 198.14it/s]"
          ],
          "name": "stderr"
        },
        {
          "output_type": "stream",
          "text": [
            "[ 115/1000] train_loss: 0.00629 valid_loss: 0.06766\n",
            "EarlyStopping counter: 3 out of 100\n"
          ],
          "name": "stdout"
        },
        {
          "output_type": "stream",
          "text": [
            "1024it [00:05, 195.78it/s]\n",
            "1014it [00:01, 666.23it/s]\n",
            "21it [00:00, 202.51it/s]"
          ],
          "name": "stderr"
        },
        {
          "output_type": "stream",
          "text": [
            "[ 116/1000] train_loss: 0.00616 valid_loss: 0.06686\n",
            "EarlyStopping counter: 4 out of 100\n"
          ],
          "name": "stdout"
        },
        {
          "output_type": "stream",
          "text": [
            "1024it [00:05, 197.02it/s]\n",
            "1014it [00:01, 651.68it/s]\n",
            "20it [00:00, 191.27it/s]"
          ],
          "name": "stderr"
        },
        {
          "output_type": "stream",
          "text": [
            "[ 117/1000] train_loss: 0.00618 valid_loss: 0.06472\n",
            "EarlyStopping counter: 5 out of 100\n"
          ],
          "name": "stdout"
        },
        {
          "output_type": "stream",
          "text": [
            "1024it [00:05, 194.81it/s]\n",
            "1014it [00:01, 644.36it/s]\n",
            "21it [00:00, 202.03it/s]"
          ],
          "name": "stderr"
        },
        {
          "output_type": "stream",
          "text": [
            "[ 118/1000] train_loss: 0.00572 valid_loss: 0.06347\n",
            "EarlyStopping counter: 6 out of 100\n"
          ],
          "name": "stdout"
        },
        {
          "output_type": "stream",
          "text": [
            "1024it [00:05, 197.22it/s]\n",
            "1014it [00:01, 659.48it/s]\n",
            "20it [00:00, 197.27it/s]"
          ],
          "name": "stderr"
        },
        {
          "output_type": "stream",
          "text": [
            "[ 119/1000] train_loss: 0.00613 valid_loss: 0.06649\n",
            "EarlyStopping counter: 7 out of 100\n"
          ],
          "name": "stdout"
        },
        {
          "output_type": "stream",
          "text": [
            "1024it [00:05, 195.73it/s]\n",
            "1014it [00:01, 669.78it/s]\n",
            "16it [00:00, 154.63it/s]"
          ],
          "name": "stderr"
        },
        {
          "output_type": "stream",
          "text": [
            "[ 120/1000] train_loss: 0.00559 valid_loss: 0.06443\n",
            "EarlyStopping counter: 8 out of 100\n"
          ],
          "name": "stdout"
        },
        {
          "output_type": "stream",
          "text": [
            "1024it [00:05, 194.58it/s]\n",
            "1014it [00:01, 642.61it/s]\n",
            "20it [00:00, 197.11it/s]"
          ],
          "name": "stderr"
        },
        {
          "output_type": "stream",
          "text": [
            "[ 121/1000] train_loss: 0.00555 valid_loss: 0.06124\n",
            "Validation loss decreased (0.063261 --> 0.061240).  Saving model ...\n"
          ],
          "name": "stdout"
        },
        {
          "output_type": "stream",
          "text": [
            "1024it [00:05, 196.28it/s]\n",
            "1014it [00:01, 651.01it/s]\n",
            "19it [00:00, 189.53it/s]"
          ],
          "name": "stderr"
        },
        {
          "output_type": "stream",
          "text": [
            "[ 122/1000] train_loss: 0.00579 valid_loss: 0.05851\n",
            "Validation loss decreased (0.061240 --> 0.058510).  Saving model ...\n"
          ],
          "name": "stdout"
        },
        {
          "output_type": "stream",
          "text": [
            "1024it [00:05, 192.75it/s]\n",
            "1014it [00:01, 657.47it/s]\n",
            "18it [00:00, 173.37it/s]"
          ],
          "name": "stderr"
        },
        {
          "output_type": "stream",
          "text": [
            "[ 123/1000] train_loss: 0.00593 valid_loss: 0.05915\n",
            "EarlyStopping counter: 1 out of 100\n"
          ],
          "name": "stdout"
        },
        {
          "output_type": "stream",
          "text": [
            "1024it [00:05, 197.21it/s]\n",
            "1014it [00:01, 669.73it/s]\n",
            "19it [00:00, 184.54it/s]"
          ],
          "name": "stderr"
        },
        {
          "output_type": "stream",
          "text": [
            "[ 124/1000] train_loss: 0.00557 valid_loss: 0.05590\n",
            "Validation loss decreased (0.058510 --> 0.055902).  Saving model ...\n"
          ],
          "name": "stdout"
        },
        {
          "output_type": "stream",
          "text": [
            "1024it [00:05, 197.19it/s]\n",
            "1014it [00:01, 663.12it/s]\n",
            "20it [00:00, 198.09it/s]"
          ],
          "name": "stderr"
        },
        {
          "output_type": "stream",
          "text": [
            "[ 125/1000] train_loss: 0.00588 valid_loss: 0.05412\n",
            "Validation loss decreased (0.055902 --> 0.054121).  Saving model ...\n"
          ],
          "name": "stdout"
        },
        {
          "output_type": "stream",
          "text": [
            "1024it [00:05, 197.24it/s]\n",
            "1014it [00:01, 659.81it/s]\n",
            "21it [00:00, 203.50it/s]"
          ],
          "name": "stderr"
        },
        {
          "output_type": "stream",
          "text": [
            "[ 126/1000] train_loss: 0.00525 valid_loss: 0.05431\n",
            "EarlyStopping counter: 1 out of 100\n"
          ],
          "name": "stdout"
        },
        {
          "output_type": "stream",
          "text": [
            "1024it [00:05, 196.00it/s]\n",
            "1014it [00:01, 657.28it/s]\n",
            "21it [00:00, 206.24it/s]"
          ],
          "name": "stderr"
        },
        {
          "output_type": "stream",
          "text": [
            "[ 127/1000] train_loss: 0.00528 valid_loss: 0.05440\n",
            "EarlyStopping counter: 2 out of 100\n"
          ],
          "name": "stdout"
        },
        {
          "output_type": "stream",
          "text": [
            "1024it [00:05, 196.74it/s]\n",
            "1014it [00:01, 657.74it/s]\n",
            "20it [00:00, 197.55it/s]"
          ],
          "name": "stderr"
        },
        {
          "output_type": "stream",
          "text": [
            "[ 128/1000] train_loss: 0.00491 valid_loss: 0.05714\n",
            "EarlyStopping counter: 3 out of 100\n"
          ],
          "name": "stdout"
        },
        {
          "output_type": "stream",
          "text": [
            "1024it [00:05, 195.58it/s]\n",
            "1014it [00:01, 672.06it/s]\n",
            "21it [00:00, 201.90it/s]"
          ],
          "name": "stderr"
        },
        {
          "output_type": "stream",
          "text": [
            "[ 129/1000] train_loss: 0.00525 valid_loss: 0.05338\n",
            "Validation loss decreased (0.054121 --> 0.053379).  Saving model ...\n"
          ],
          "name": "stdout"
        },
        {
          "output_type": "stream",
          "text": [
            "1024it [00:05, 194.76it/s]\n",
            "1014it [00:01, 653.18it/s]\n",
            "19it [00:00, 185.65it/s]"
          ],
          "name": "stderr"
        },
        {
          "output_type": "stream",
          "text": [
            "[ 130/1000] train_loss: 0.00485 valid_loss: 0.05556\n",
            "EarlyStopping counter: 1 out of 100\n"
          ],
          "name": "stdout"
        },
        {
          "output_type": "stream",
          "text": [
            "1024it [00:05, 194.12it/s]\n",
            "1014it [00:01, 655.76it/s]\n",
            "18it [00:00, 174.93it/s]"
          ],
          "name": "stderr"
        },
        {
          "output_type": "stream",
          "text": [
            "[ 131/1000] train_loss: 0.00483 valid_loss: 0.05749\n",
            "EarlyStopping counter: 2 out of 100\n"
          ],
          "name": "stdout"
        },
        {
          "output_type": "stream",
          "text": [
            "1024it [00:05, 196.35it/s]\n",
            "1014it [00:01, 634.91it/s]\n",
            "20it [00:00, 197.94it/s]"
          ],
          "name": "stderr"
        },
        {
          "output_type": "stream",
          "text": [
            "[ 132/1000] train_loss: 0.00512 valid_loss: 0.05557\n",
            "EarlyStopping counter: 3 out of 100\n"
          ],
          "name": "stdout"
        },
        {
          "output_type": "stream",
          "text": [
            "1024it [00:05, 193.72it/s]\n",
            "1014it [00:01, 654.98it/s]\n",
            "15it [00:00, 148.34it/s]"
          ],
          "name": "stderr"
        },
        {
          "output_type": "stream",
          "text": [
            "[ 133/1000] train_loss: 0.00491 valid_loss: 0.05601\n",
            "EarlyStopping counter: 4 out of 100\n"
          ],
          "name": "stdout"
        },
        {
          "output_type": "stream",
          "text": [
            "1024it [00:05, 189.95it/s]\n",
            "1014it [00:01, 650.06it/s]\n",
            "21it [00:00, 203.61it/s]"
          ],
          "name": "stderr"
        },
        {
          "output_type": "stream",
          "text": [
            "[ 134/1000] train_loss: 0.00466 valid_loss: 0.05613\n",
            "EarlyStopping counter: 5 out of 100\n"
          ],
          "name": "stdout"
        },
        {
          "output_type": "stream",
          "text": [
            "1024it [00:05, 193.21it/s]\n",
            "1014it [00:01, 650.13it/s]\n",
            "18it [00:00, 174.66it/s]"
          ],
          "name": "stderr"
        },
        {
          "output_type": "stream",
          "text": [
            "[ 135/1000] train_loss: 0.00464 valid_loss: 0.05435\n",
            "EarlyStopping counter: 6 out of 100\n"
          ],
          "name": "stdout"
        },
        {
          "output_type": "stream",
          "text": [
            "1024it [00:05, 197.13it/s]\n",
            "1014it [00:01, 656.67it/s]\n",
            "18it [00:00, 179.92it/s]"
          ],
          "name": "stderr"
        },
        {
          "output_type": "stream",
          "text": [
            "[ 136/1000] train_loss: 0.00466 valid_loss: 0.05682\n",
            "EarlyStopping counter: 7 out of 100\n"
          ],
          "name": "stdout"
        },
        {
          "output_type": "stream",
          "text": [
            "1024it [00:05, 192.48it/s]\n",
            "1014it [00:01, 660.21it/s]\n",
            "17it [00:00, 166.30it/s]"
          ],
          "name": "stderr"
        },
        {
          "output_type": "stream",
          "text": [
            "[ 137/1000] train_loss: 0.00436 valid_loss: 0.05331\n",
            "Validation loss decreased (0.053379 --> 0.053309).  Saving model ...\n"
          ],
          "name": "stdout"
        },
        {
          "output_type": "stream",
          "text": [
            "1024it [00:05, 194.66it/s]\n",
            "1014it [00:01, 651.56it/s]\n",
            "21it [00:00, 207.85it/s]"
          ],
          "name": "stderr"
        },
        {
          "output_type": "stream",
          "text": [
            "[ 138/1000] train_loss: 0.00435 valid_loss: 0.05499\n",
            "EarlyStopping counter: 1 out of 100\n"
          ],
          "name": "stdout"
        },
        {
          "output_type": "stream",
          "text": [
            "1024it [00:05, 196.48it/s]\n",
            "1014it [00:01, 662.92it/s]\n",
            "20it [00:00, 196.76it/s]"
          ],
          "name": "stderr"
        },
        {
          "output_type": "stream",
          "text": [
            "[ 139/1000] train_loss: 0.00438 valid_loss: 0.05817\n",
            "EarlyStopping counter: 2 out of 100\n"
          ],
          "name": "stdout"
        },
        {
          "output_type": "stream",
          "text": [
            "1024it [00:05, 192.32it/s]\n",
            "1014it [00:01, 640.00it/s]\n",
            "20it [00:00, 190.81it/s]"
          ],
          "name": "stderr"
        },
        {
          "output_type": "stream",
          "text": [
            "[ 140/1000] train_loss: 0.00453 valid_loss: 0.05520\n",
            "EarlyStopping counter: 3 out of 100\n"
          ],
          "name": "stdout"
        },
        {
          "output_type": "stream",
          "text": [
            "1024it [00:05, 197.21it/s]\n",
            "1014it [00:01, 635.49it/s]\n",
            "18it [00:00, 177.37it/s]"
          ],
          "name": "stderr"
        },
        {
          "output_type": "stream",
          "text": [
            "[ 141/1000] train_loss: 0.00477 valid_loss: 0.05353\n",
            "EarlyStopping counter: 4 out of 100\n"
          ],
          "name": "stdout"
        },
        {
          "output_type": "stream",
          "text": [
            "1024it [00:05, 194.48it/s]\n",
            "1014it [00:01, 656.27it/s]\n",
            "19it [00:00, 177.50it/s]"
          ],
          "name": "stderr"
        },
        {
          "output_type": "stream",
          "text": [
            "[ 142/1000] train_loss: 0.00485 valid_loss: 0.05710\n",
            "EarlyStopping counter: 5 out of 100\n"
          ],
          "name": "stdout"
        },
        {
          "output_type": "stream",
          "text": [
            "1024it [00:05, 194.11it/s]\n",
            "1014it [00:01, 654.52it/s]\n",
            "20it [00:00, 199.87it/s]"
          ],
          "name": "stderr"
        },
        {
          "output_type": "stream",
          "text": [
            "[ 143/1000] train_loss: 0.00423 valid_loss: 0.05602\n",
            "EarlyStopping counter: 6 out of 100\n"
          ],
          "name": "stdout"
        },
        {
          "output_type": "stream",
          "text": [
            "1024it [00:05, 193.12it/s]\n",
            "1014it [00:01, 634.85it/s]\n",
            "20it [00:00, 197.77it/s]"
          ],
          "name": "stderr"
        },
        {
          "output_type": "stream",
          "text": [
            "[ 144/1000] train_loss: 0.00465 valid_loss: 0.05396\n",
            "EarlyStopping counter: 7 out of 100\n"
          ],
          "name": "stdout"
        },
        {
          "output_type": "stream",
          "text": [
            "1024it [00:05, 192.21it/s]\n",
            "1014it [00:01, 653.50it/s]\n",
            "19it [00:00, 189.45it/s]"
          ],
          "name": "stderr"
        },
        {
          "output_type": "stream",
          "text": [
            "[ 145/1000] train_loss: 0.00442 valid_loss: 0.05382\n",
            "EarlyStopping counter: 8 out of 100\n"
          ],
          "name": "stdout"
        },
        {
          "output_type": "stream",
          "text": [
            "1024it [00:05, 194.33it/s]\n",
            "1014it [00:01, 652.13it/s]\n",
            "20it [00:00, 195.73it/s]"
          ],
          "name": "stderr"
        },
        {
          "output_type": "stream",
          "text": [
            "[ 146/1000] train_loss: 0.00413 valid_loss: 0.05183\n",
            "Validation loss decreased (0.053309 --> 0.051828).  Saving model ...\n"
          ],
          "name": "stdout"
        },
        {
          "output_type": "stream",
          "text": [
            "1024it [00:05, 196.11it/s]\n",
            "1014it [00:01, 660.49it/s]\n",
            "20it [00:00, 191.74it/s]"
          ],
          "name": "stderr"
        },
        {
          "output_type": "stream",
          "text": [
            "[ 147/1000] train_loss: 0.00420 valid_loss: 0.05018\n",
            "Validation loss decreased (0.051828 --> 0.050181).  Saving model ...\n"
          ],
          "name": "stdout"
        },
        {
          "output_type": "stream",
          "text": [
            "1024it [00:05, 194.70it/s]\n",
            "1014it [00:01, 666.28it/s]\n",
            "20it [00:00, 197.64it/s]"
          ],
          "name": "stderr"
        },
        {
          "output_type": "stream",
          "text": [
            "[ 148/1000] train_loss: 0.00456 valid_loss: 0.05017\n",
            "EarlyStopping counter: 1 out of 100\n"
          ],
          "name": "stdout"
        },
        {
          "output_type": "stream",
          "text": [
            "1024it [00:05, 191.75it/s]\n",
            "1014it [00:01, 647.84it/s]\n",
            "19it [00:00, 184.39it/s]"
          ],
          "name": "stderr"
        },
        {
          "output_type": "stream",
          "text": [
            "[ 149/1000] train_loss: 0.00480 valid_loss: 0.04721\n",
            "Validation loss decreased (0.050181 --> 0.047214).  Saving model ...\n"
          ],
          "name": "stdout"
        },
        {
          "output_type": "stream",
          "text": [
            "1024it [00:05, 193.60it/s]\n",
            "1014it [00:01, 634.09it/s]\n",
            "21it [00:00, 204.66it/s]"
          ],
          "name": "stderr"
        },
        {
          "output_type": "stream",
          "text": [
            "[ 150/1000] train_loss: 0.00431 valid_loss: 0.04802\n",
            "EarlyStopping counter: 1 out of 100\n"
          ],
          "name": "stdout"
        },
        {
          "output_type": "stream",
          "text": [
            "1024it [00:05, 195.35it/s]\n",
            "1014it [00:01, 658.88it/s]\n",
            "21it [00:00, 206.42it/s]"
          ],
          "name": "stderr"
        },
        {
          "output_type": "stream",
          "text": [
            "[ 151/1000] train_loss: 0.00357 valid_loss: 0.04743\n",
            "EarlyStopping counter: 2 out of 100\n"
          ],
          "name": "stdout"
        },
        {
          "output_type": "stream",
          "text": [
            "1024it [00:05, 194.94it/s]\n",
            "1014it [00:01, 646.33it/s]\n",
            "20it [00:00, 197.87it/s]"
          ],
          "name": "stderr"
        },
        {
          "output_type": "stream",
          "text": [
            "[ 152/1000] train_loss: 0.00368 valid_loss: 0.04582\n",
            "Validation loss decreased (0.047214 --> 0.045816).  Saving model ...\n"
          ],
          "name": "stdout"
        },
        {
          "output_type": "stream",
          "text": [
            "1024it [00:05, 188.18it/s]\n",
            "1014it [00:01, 665.50it/s]\n",
            "19it [00:00, 186.76it/s]"
          ],
          "name": "stderr"
        },
        {
          "output_type": "stream",
          "text": [
            "[ 153/1000] train_loss: 0.00398 valid_loss: 0.04610\n",
            "EarlyStopping counter: 1 out of 100\n"
          ],
          "name": "stdout"
        },
        {
          "output_type": "stream",
          "text": [
            "1024it [00:05, 192.54it/s]\n",
            "1014it [00:01, 651.84it/s]\n",
            "19it [00:00, 184.50it/s]"
          ],
          "name": "stderr"
        },
        {
          "output_type": "stream",
          "text": [
            "[ 154/1000] train_loss: 0.00455 valid_loss: 0.04319\n",
            "Validation loss decreased (0.045816 --> 0.043186).  Saving model ...\n"
          ],
          "name": "stdout"
        },
        {
          "output_type": "stream",
          "text": [
            "1024it [00:05, 188.53it/s]\n",
            "1014it [00:01, 645.85it/s]\n",
            "19it [00:00, 185.54it/s]"
          ],
          "name": "stderr"
        },
        {
          "output_type": "stream",
          "text": [
            "[ 155/1000] train_loss: 0.00437 valid_loss: 0.04140\n",
            "Validation loss decreased (0.043186 --> 0.041396).  Saving model ...\n"
          ],
          "name": "stdout"
        },
        {
          "output_type": "stream",
          "text": [
            "1024it [00:05, 187.75it/s]\n",
            "1014it [00:01, 666.82it/s]\n",
            "20it [00:00, 195.47it/s]"
          ],
          "name": "stderr"
        },
        {
          "output_type": "stream",
          "text": [
            "[ 156/1000] train_loss: 0.00436 valid_loss: 0.04052\n",
            "Validation loss decreased (0.041396 --> 0.040516).  Saving model ...\n"
          ],
          "name": "stdout"
        },
        {
          "output_type": "stream",
          "text": [
            "1024it [00:05, 193.69it/s]\n",
            "1014it [00:01, 648.65it/s]\n",
            "21it [00:00, 202.32it/s]"
          ],
          "name": "stderr"
        },
        {
          "output_type": "stream",
          "text": [
            "[ 157/1000] train_loss: 0.00406 valid_loss: 0.04081\n",
            "EarlyStopping counter: 1 out of 100\n"
          ],
          "name": "stdout"
        },
        {
          "output_type": "stream",
          "text": [
            "1024it [00:05, 195.53it/s]\n",
            "1014it [00:01, 679.51it/s]\n",
            "20it [00:00, 198.16it/s]"
          ],
          "name": "stderr"
        },
        {
          "output_type": "stream",
          "text": [
            "[ 158/1000] train_loss: 0.00395 valid_loss: 0.04315\n",
            "EarlyStopping counter: 2 out of 100\n"
          ],
          "name": "stdout"
        },
        {
          "output_type": "stream",
          "text": [
            "1024it [00:05, 195.12it/s]\n",
            "1014it [00:01, 642.61it/s]\n",
            "21it [00:00, 201.74it/s]"
          ],
          "name": "stderr"
        },
        {
          "output_type": "stream",
          "text": [
            "[ 159/1000] train_loss: 0.00433 valid_loss: 0.04334\n",
            "EarlyStopping counter: 3 out of 100\n"
          ],
          "name": "stdout"
        },
        {
          "output_type": "stream",
          "text": [
            "1024it [00:05, 194.79it/s]\n",
            "1014it [00:01, 655.95it/s]\n",
            "20it [00:00, 197.04it/s]"
          ],
          "name": "stderr"
        },
        {
          "output_type": "stream",
          "text": [
            "[ 160/1000] train_loss: 0.00378 valid_loss: 0.04025\n",
            "Validation loss decreased (0.040516 --> 0.040251).  Saving model ...\n"
          ],
          "name": "stdout"
        },
        {
          "output_type": "stream",
          "text": [
            "1024it [00:05, 194.82it/s]\n",
            "1014it [00:01, 651.89it/s]\n",
            "20it [00:00, 195.39it/s]"
          ],
          "name": "stderr"
        },
        {
          "output_type": "stream",
          "text": [
            "[ 161/1000] train_loss: 0.00363 valid_loss: 0.04404\n",
            "EarlyStopping counter: 1 out of 100\n"
          ],
          "name": "stdout"
        },
        {
          "output_type": "stream",
          "text": [
            "1024it [00:05, 193.28it/s]\n",
            "1014it [00:01, 647.85it/s]\n",
            "21it [00:00, 201.60it/s]"
          ],
          "name": "stderr"
        },
        {
          "output_type": "stream",
          "text": [
            "[ 162/1000] train_loss: 0.00361 valid_loss: 0.04541\n",
            "EarlyStopping counter: 2 out of 100\n"
          ],
          "name": "stdout"
        },
        {
          "output_type": "stream",
          "text": [
            "1024it [00:05, 194.49it/s]\n",
            "1014it [00:01, 647.61it/s]\n",
            "19it [00:00, 188.46it/s]"
          ],
          "name": "stderr"
        },
        {
          "output_type": "stream",
          "text": [
            "[ 163/1000] train_loss: 0.00324 valid_loss: 0.04411\n",
            "EarlyStopping counter: 3 out of 100\n"
          ],
          "name": "stdout"
        },
        {
          "output_type": "stream",
          "text": [
            "1024it [00:05, 197.13it/s]\n",
            "1014it [00:01, 649.02it/s]\n",
            "18it [00:00, 178.92it/s]"
          ],
          "name": "stderr"
        },
        {
          "output_type": "stream",
          "text": [
            "[ 164/1000] train_loss: 0.00362 valid_loss: 0.04737\n",
            "EarlyStopping counter: 4 out of 100\n"
          ],
          "name": "stdout"
        },
        {
          "output_type": "stream",
          "text": [
            "1024it [00:05, 191.67it/s]\n",
            "1014it [00:01, 652.74it/s]\n",
            "21it [00:00, 208.92it/s]"
          ],
          "name": "stderr"
        },
        {
          "output_type": "stream",
          "text": [
            "[ 165/1000] train_loss: 0.00389 valid_loss: 0.04298\n",
            "EarlyStopping counter: 5 out of 100\n"
          ],
          "name": "stdout"
        },
        {
          "output_type": "stream",
          "text": [
            "1024it [00:05, 191.54it/s]\n",
            "1014it [00:01, 655.84it/s]\n",
            "19it [00:00, 187.28it/s]"
          ],
          "name": "stderr"
        },
        {
          "output_type": "stream",
          "text": [
            "[ 166/1000] train_loss: 0.00343 valid_loss: 0.03892\n",
            "Validation loss decreased (0.040251 --> 0.038923).  Saving model ...\n"
          ],
          "name": "stdout"
        },
        {
          "output_type": "stream",
          "text": [
            "1024it [00:05, 195.95it/s]\n",
            "1014it [00:01, 678.99it/s]\n",
            "20it [00:00, 197.75it/s]"
          ],
          "name": "stderr"
        },
        {
          "output_type": "stream",
          "text": [
            "[ 167/1000] train_loss: 0.00346 valid_loss: 0.03577\n",
            "Validation loss decreased (0.038923 --> 0.035772).  Saving model ...\n"
          ],
          "name": "stdout"
        },
        {
          "output_type": "stream",
          "text": [
            "1024it [00:05, 196.25it/s]\n",
            "1014it [00:01, 652.75it/s]\n",
            "19it [00:00, 182.19it/s]"
          ],
          "name": "stderr"
        },
        {
          "output_type": "stream",
          "text": [
            "[ 168/1000] train_loss: 0.00362 valid_loss: 0.03550\n",
            "Validation loss decreased (0.035772 --> 0.035499).  Saving model ...\n"
          ],
          "name": "stdout"
        },
        {
          "output_type": "stream",
          "text": [
            "1024it [00:05, 197.18it/s]\n",
            "1014it [00:01, 674.19it/s]\n",
            "20it [00:00, 190.96it/s]"
          ],
          "name": "stderr"
        },
        {
          "output_type": "stream",
          "text": [
            "[ 169/1000] train_loss: 0.00358 valid_loss: 0.03152\n",
            "Validation loss decreased (0.035499 --> 0.031519).  Saving model ...\n"
          ],
          "name": "stdout"
        },
        {
          "output_type": "stream",
          "text": [
            "1024it [00:05, 195.26it/s]\n",
            "1014it [00:01, 649.95it/s]\n",
            "21it [00:00, 206.72it/s]"
          ],
          "name": "stderr"
        },
        {
          "output_type": "stream",
          "text": [
            "[ 170/1000] train_loss: 0.00337 valid_loss: 0.03382\n",
            "EarlyStopping counter: 1 out of 100\n"
          ],
          "name": "stdout"
        },
        {
          "output_type": "stream",
          "text": [
            "1024it [00:05, 194.73it/s]\n",
            "1014it [00:01, 655.85it/s]\n",
            "18it [00:00, 175.35it/s]"
          ],
          "name": "stderr"
        },
        {
          "output_type": "stream",
          "text": [
            "[ 171/1000] train_loss: 0.00407 valid_loss: 0.03028\n",
            "Validation loss decreased (0.031519 --> 0.030278).  Saving model ...\n"
          ],
          "name": "stdout"
        },
        {
          "output_type": "stream",
          "text": [
            "1024it [00:05, 197.15it/s]\n",
            "1014it [00:01, 688.76it/s]\n",
            "21it [00:00, 202.25it/s]"
          ],
          "name": "stderr"
        },
        {
          "output_type": "stream",
          "text": [
            "[ 172/1000] train_loss: 0.00385 valid_loss: 0.02826\n",
            "Validation loss decreased (0.030278 --> 0.028256).  Saving model ...\n"
          ],
          "name": "stdout"
        },
        {
          "output_type": "stream",
          "text": [
            "1024it [00:05, 197.05it/s]\n",
            "1014it [00:01, 660.65it/s]\n",
            "20it [00:00, 195.09it/s]"
          ],
          "name": "stderr"
        },
        {
          "output_type": "stream",
          "text": [
            "[ 173/1000] train_loss: 0.00332 valid_loss: 0.03052\n",
            "EarlyStopping counter: 1 out of 100\n"
          ],
          "name": "stdout"
        },
        {
          "output_type": "stream",
          "text": [
            "1024it [00:05, 194.58it/s]\n",
            "1014it [00:01, 665.54it/s]\n",
            "20it [00:00, 195.07it/s]"
          ],
          "name": "stderr"
        },
        {
          "output_type": "stream",
          "text": [
            "[ 174/1000] train_loss: 0.00341 valid_loss: 0.02822\n",
            "Validation loss decreased (0.028256 --> 0.028222).  Saving model ...\n"
          ],
          "name": "stdout"
        },
        {
          "output_type": "stream",
          "text": [
            "1024it [00:05, 193.75it/s]\n",
            "1014it [00:01, 655.77it/s]\n",
            "21it [00:00, 203.35it/s]"
          ],
          "name": "stderr"
        },
        {
          "output_type": "stream",
          "text": [
            "[ 175/1000] train_loss: 0.00363 valid_loss: 0.02759\n",
            "Validation loss decreased (0.028222 --> 0.027588).  Saving model ...\n"
          ],
          "name": "stdout"
        },
        {
          "output_type": "stream",
          "text": [
            "1024it [00:05, 196.64it/s]\n",
            "1014it [00:01, 659.48it/s]\n",
            "18it [00:00, 177.22it/s]"
          ],
          "name": "stderr"
        },
        {
          "output_type": "stream",
          "text": [
            "[ 176/1000] train_loss: 0.00346 valid_loss: 0.02846\n",
            "EarlyStopping counter: 1 out of 100\n"
          ],
          "name": "stdout"
        },
        {
          "output_type": "stream",
          "text": [
            "1024it [00:05, 198.43it/s]\n",
            "1014it [00:01, 659.39it/s]\n",
            "21it [00:00, 203.09it/s]"
          ],
          "name": "stderr"
        },
        {
          "output_type": "stream",
          "text": [
            "[ 177/1000] train_loss: 0.00343 valid_loss: 0.02721\n",
            "Validation loss decreased (0.027588 --> 0.027210).  Saving model ...\n"
          ],
          "name": "stdout"
        },
        {
          "output_type": "stream",
          "text": [
            "1024it [00:05, 195.61it/s]\n",
            "1014it [00:01, 648.85it/s]\n",
            "20it [00:00, 194.96it/s]"
          ],
          "name": "stderr"
        },
        {
          "output_type": "stream",
          "text": [
            "[ 178/1000] train_loss: 0.00347 valid_loss: 0.02853\n",
            "EarlyStopping counter: 1 out of 100\n"
          ],
          "name": "stdout"
        },
        {
          "output_type": "stream",
          "text": [
            "1024it [00:05, 193.65it/s]\n",
            "1014it [00:01, 653.78it/s]\n",
            "22it [00:00, 213.02it/s]"
          ],
          "name": "stderr"
        },
        {
          "output_type": "stream",
          "text": [
            "[ 179/1000] train_loss: 0.00340 valid_loss: 0.02852\n",
            "EarlyStopping counter: 2 out of 100\n"
          ],
          "name": "stdout"
        },
        {
          "output_type": "stream",
          "text": [
            "1024it [00:05, 194.99it/s]\n",
            "1014it [00:01, 645.62it/s]\n",
            "21it [00:00, 202.86it/s]"
          ],
          "name": "stderr"
        },
        {
          "output_type": "stream",
          "text": [
            "[ 180/1000] train_loss: 0.00329 valid_loss: 0.02616\n",
            "Validation loss decreased (0.027210 --> 0.026158).  Saving model ...\n"
          ],
          "name": "stdout"
        },
        {
          "output_type": "stream",
          "text": [
            "1024it [00:05, 192.64it/s]\n",
            "1014it [00:01, 659.57it/s]\n",
            "20it [00:00, 196.54it/s]"
          ],
          "name": "stderr"
        },
        {
          "output_type": "stream",
          "text": [
            "[ 181/1000] train_loss: 0.00355 valid_loss: 0.02489\n",
            "Validation loss decreased (0.026158 --> 0.024894).  Saving model ...\n"
          ],
          "name": "stdout"
        },
        {
          "output_type": "stream",
          "text": [
            "1024it [00:05, 195.27it/s]\n",
            "1014it [00:01, 671.34it/s]\n",
            "19it [00:00, 186.78it/s]"
          ],
          "name": "stderr"
        },
        {
          "output_type": "stream",
          "text": [
            "[ 182/1000] train_loss: 0.00313 valid_loss: 0.02764\n",
            "EarlyStopping counter: 1 out of 100\n"
          ],
          "name": "stdout"
        },
        {
          "output_type": "stream",
          "text": [
            "1024it [00:05, 193.27it/s]\n",
            "1014it [00:01, 665.77it/s]\n",
            "20it [00:00, 193.18it/s]"
          ],
          "name": "stderr"
        },
        {
          "output_type": "stream",
          "text": [
            "[ 183/1000] train_loss: 0.00303 valid_loss: 0.02532\n",
            "EarlyStopping counter: 2 out of 100\n"
          ],
          "name": "stdout"
        },
        {
          "output_type": "stream",
          "text": [
            "1024it [00:05, 193.00it/s]\n",
            "1014it [00:01, 642.31it/s]\n",
            "20it [00:00, 199.32it/s]"
          ],
          "name": "stderr"
        },
        {
          "output_type": "stream",
          "text": [
            "[ 184/1000] train_loss: 0.00353 valid_loss: 0.02411\n",
            "Validation loss decreased (0.024894 --> 0.024115).  Saving model ...\n"
          ],
          "name": "stdout"
        },
        {
          "output_type": "stream",
          "text": [
            "1024it [00:05, 193.55it/s]\n",
            "1014it [00:01, 655.25it/s]\n",
            "20it [00:00, 190.54it/s]"
          ],
          "name": "stderr"
        },
        {
          "output_type": "stream",
          "text": [
            "[ 185/1000] train_loss: 0.00300 valid_loss: 0.02562\n",
            "EarlyStopping counter: 1 out of 100\n"
          ],
          "name": "stdout"
        },
        {
          "output_type": "stream",
          "text": [
            "1024it [00:05, 194.31it/s]\n",
            "1014it [00:01, 650.26it/s]\n",
            "20it [00:00, 199.68it/s]"
          ],
          "name": "stderr"
        },
        {
          "output_type": "stream",
          "text": [
            "[ 186/1000] train_loss: 0.00274 valid_loss: 0.02463\n",
            "EarlyStopping counter: 2 out of 100\n"
          ],
          "name": "stdout"
        },
        {
          "output_type": "stream",
          "text": [
            "1024it [00:05, 194.29it/s]\n",
            "1014it [00:01, 628.65it/s]\n",
            "18it [00:00, 176.15it/s]"
          ],
          "name": "stderr"
        },
        {
          "output_type": "stream",
          "text": [
            "[ 187/1000] train_loss: 0.00330 valid_loss: 0.02263\n",
            "Validation loss decreased (0.024115 --> 0.022627).  Saving model ...\n"
          ],
          "name": "stdout"
        },
        {
          "output_type": "stream",
          "text": [
            "1024it [00:05, 193.62it/s]\n",
            "1014it [00:01, 658.94it/s]\n",
            "21it [00:00, 200.79it/s]"
          ],
          "name": "stderr"
        },
        {
          "output_type": "stream",
          "text": [
            "[ 188/1000] train_loss: 0.00327 valid_loss: 0.02236\n",
            "Validation loss decreased (0.022627 --> 0.022361).  Saving model ...\n"
          ],
          "name": "stdout"
        },
        {
          "output_type": "stream",
          "text": [
            "1024it [00:05, 191.59it/s]\n",
            "1014it [00:01, 652.31it/s]\n",
            "21it [00:00, 206.03it/s]"
          ],
          "name": "stderr"
        },
        {
          "output_type": "stream",
          "text": [
            "[ 189/1000] train_loss: 0.00317 valid_loss: 0.02591\n",
            "EarlyStopping counter: 1 out of 100\n"
          ],
          "name": "stdout"
        },
        {
          "output_type": "stream",
          "text": [
            "1024it [00:05, 197.60it/s]\n",
            "1014it [00:01, 639.91it/s]\n",
            "19it [00:00, 185.12it/s]"
          ],
          "name": "stderr"
        },
        {
          "output_type": "stream",
          "text": [
            "[ 190/1000] train_loss: 0.00359 valid_loss: 0.02504\n",
            "EarlyStopping counter: 2 out of 100\n"
          ],
          "name": "stdout"
        },
        {
          "output_type": "stream",
          "text": [
            "1024it [00:05, 194.00it/s]\n",
            "1014it [00:01, 657.53it/s]\n",
            "18it [00:00, 179.56it/s]"
          ],
          "name": "stderr"
        },
        {
          "output_type": "stream",
          "text": [
            "[ 191/1000] train_loss: 0.00343 valid_loss: 0.02506\n",
            "EarlyStopping counter: 3 out of 100\n"
          ],
          "name": "stdout"
        },
        {
          "output_type": "stream",
          "text": [
            "1024it [00:05, 193.44it/s]\n",
            "1014it [00:01, 652.58it/s]\n",
            "20it [00:00, 193.65it/s]"
          ],
          "name": "stderr"
        },
        {
          "output_type": "stream",
          "text": [
            "[ 192/1000] train_loss: 0.00324 valid_loss: 0.02577\n",
            "EarlyStopping counter: 4 out of 100\n"
          ],
          "name": "stdout"
        },
        {
          "output_type": "stream",
          "text": [
            "1024it [00:05, 195.84it/s]\n",
            "1014it [00:01, 638.72it/s]\n",
            "17it [00:00, 168.32it/s]"
          ],
          "name": "stderr"
        },
        {
          "output_type": "stream",
          "text": [
            "[ 193/1000] train_loss: 0.00303 valid_loss: 0.02694\n",
            "EarlyStopping counter: 5 out of 100\n"
          ],
          "name": "stdout"
        },
        {
          "output_type": "stream",
          "text": [
            "1024it [00:05, 194.17it/s]\n",
            "1014it [00:01, 661.99it/s]\n",
            "21it [00:00, 207.00it/s]"
          ],
          "name": "stderr"
        },
        {
          "output_type": "stream",
          "text": [
            "[ 194/1000] train_loss: 0.00314 valid_loss: 0.02308\n",
            "EarlyStopping counter: 6 out of 100\n"
          ],
          "name": "stdout"
        },
        {
          "output_type": "stream",
          "text": [
            "1024it [00:05, 195.46it/s]\n",
            "1014it [00:01, 645.28it/s]\n",
            "21it [00:00, 204.15it/s]"
          ],
          "name": "stderr"
        },
        {
          "output_type": "stream",
          "text": [
            "[ 195/1000] train_loss: 0.00322 valid_loss: 0.02405\n",
            "EarlyStopping counter: 7 out of 100\n"
          ],
          "name": "stdout"
        },
        {
          "output_type": "stream",
          "text": [
            "1024it [00:05, 194.74it/s]\n",
            "1014it [00:01, 646.26it/s]\n",
            "21it [00:00, 203.85it/s]"
          ],
          "name": "stderr"
        },
        {
          "output_type": "stream",
          "text": [
            "[ 196/1000] train_loss: 0.00338 valid_loss: 0.02370\n",
            "EarlyStopping counter: 8 out of 100\n"
          ],
          "name": "stdout"
        },
        {
          "output_type": "stream",
          "text": [
            "1024it [00:05, 194.30it/s]\n",
            "1014it [00:01, 646.90it/s]\n",
            "18it [00:00, 173.02it/s]"
          ],
          "name": "stderr"
        },
        {
          "output_type": "stream",
          "text": [
            "[ 197/1000] train_loss: 0.00304 valid_loss: 0.02329\n",
            "EarlyStopping counter: 9 out of 100\n"
          ],
          "name": "stdout"
        },
        {
          "output_type": "stream",
          "text": [
            "1024it [00:05, 189.41it/s]\n",
            "1014it [00:01, 632.09it/s]\n",
            "19it [00:00, 180.11it/s]"
          ],
          "name": "stderr"
        },
        {
          "output_type": "stream",
          "text": [
            "[ 198/1000] train_loss: 0.00281 valid_loss: 0.02295\n",
            "EarlyStopping counter: 10 out of 100\n"
          ],
          "name": "stdout"
        },
        {
          "output_type": "stream",
          "text": [
            "1024it [00:05, 194.35it/s]\n",
            "1014it [00:01, 652.63it/s]\n",
            "18it [00:00, 179.99it/s]"
          ],
          "name": "stderr"
        },
        {
          "output_type": "stream",
          "text": [
            "[ 199/1000] train_loss: 0.00301 valid_loss: 0.02174\n",
            "Validation loss decreased (0.022361 --> 0.021744).  Saving model ...\n"
          ],
          "name": "stdout"
        },
        {
          "output_type": "stream",
          "text": [
            "1024it [00:05, 191.18it/s]\n",
            "1014it [00:01, 659.95it/s]\n",
            "17it [00:00, 164.10it/s]"
          ],
          "name": "stderr"
        },
        {
          "output_type": "stream",
          "text": [
            "[ 200/1000] train_loss: 0.00299 valid_loss: 0.02303\n",
            "EarlyStopping counter: 1 out of 100\n"
          ],
          "name": "stdout"
        },
        {
          "output_type": "stream",
          "text": [
            "1024it [00:05, 184.12it/s]\n",
            "1014it [00:01, 645.40it/s]\n",
            "17it [00:00, 169.50it/s]"
          ],
          "name": "stderr"
        },
        {
          "output_type": "stream",
          "text": [
            "[ 201/1000] train_loss: 0.00351 valid_loss: 0.02034\n",
            "Validation loss decreased (0.021744 --> 0.020345).  Saving model ...\n"
          ],
          "name": "stdout"
        },
        {
          "output_type": "stream",
          "text": [
            "1024it [00:05, 191.12it/s]\n",
            "1014it [00:01, 654.85it/s]\n",
            "20it [00:00, 192.55it/s]"
          ],
          "name": "stderr"
        },
        {
          "output_type": "stream",
          "text": [
            "[ 202/1000] train_loss: 0.00314 valid_loss: 0.02136\n",
            "EarlyStopping counter: 1 out of 100\n"
          ],
          "name": "stdout"
        },
        {
          "output_type": "stream",
          "text": [
            "1024it [00:05, 192.97it/s]\n",
            "1014it [00:01, 666.60it/s]\n",
            "19it [00:00, 189.96it/s]"
          ],
          "name": "stderr"
        },
        {
          "output_type": "stream",
          "text": [
            "[ 203/1000] train_loss: 0.00306 valid_loss: 0.02153\n",
            "EarlyStopping counter: 2 out of 100\n"
          ],
          "name": "stdout"
        },
        {
          "output_type": "stream",
          "text": [
            "1024it [00:05, 195.03it/s]\n",
            "1014it [00:01, 671.38it/s]\n",
            "17it [00:00, 159.19it/s]"
          ],
          "name": "stderr"
        },
        {
          "output_type": "stream",
          "text": [
            "[ 204/1000] train_loss: 0.00335 valid_loss: 0.01977\n",
            "Validation loss decreased (0.020345 --> 0.019771).  Saving model ...\n"
          ],
          "name": "stdout"
        },
        {
          "output_type": "stream",
          "text": [
            "1024it [00:05, 190.26it/s]\n",
            "1014it [00:01, 657.34it/s]\n",
            "21it [00:00, 208.33it/s]"
          ],
          "name": "stderr"
        },
        {
          "output_type": "stream",
          "text": [
            "[ 205/1000] train_loss: 0.00315 valid_loss: 0.01851\n",
            "Validation loss decreased (0.019771 --> 0.018507).  Saving model ...\n"
          ],
          "name": "stdout"
        },
        {
          "output_type": "stream",
          "text": [
            "1024it [00:05, 192.34it/s]\n",
            "1014it [00:01, 650.61it/s]\n",
            "20it [00:00, 193.80it/s]"
          ],
          "name": "stderr"
        },
        {
          "output_type": "stream",
          "text": [
            "[ 206/1000] train_loss: 0.00337 valid_loss: 0.01746\n",
            "Validation loss decreased (0.018507 --> 0.017461).  Saving model ...\n"
          ],
          "name": "stdout"
        },
        {
          "output_type": "stream",
          "text": [
            "1024it [00:05, 194.99it/s]\n",
            "1014it [00:01, 653.92it/s]\n",
            "18it [00:00, 176.69it/s]"
          ],
          "name": "stderr"
        },
        {
          "output_type": "stream",
          "text": [
            "[ 207/1000] train_loss: 0.00315 valid_loss: 0.02037\n",
            "EarlyStopping counter: 1 out of 100\n"
          ],
          "name": "stdout"
        },
        {
          "output_type": "stream",
          "text": [
            "1024it [00:05, 193.01it/s]\n",
            "1014it [00:01, 650.86it/s]\n",
            "19it [00:00, 189.43it/s]"
          ],
          "name": "stderr"
        },
        {
          "output_type": "stream",
          "text": [
            "[ 208/1000] train_loss: 0.00313 valid_loss: 0.01985\n",
            "EarlyStopping counter: 2 out of 100\n"
          ],
          "name": "stdout"
        },
        {
          "output_type": "stream",
          "text": [
            "1024it [00:05, 193.97it/s]\n",
            "1014it [00:01, 634.82it/s]\n",
            "21it [00:00, 200.83it/s]"
          ],
          "name": "stderr"
        },
        {
          "output_type": "stream",
          "text": [
            "[ 209/1000] train_loss: 0.00364 valid_loss: 0.01612\n",
            "Validation loss decreased (0.017461 --> 0.016117).  Saving model ...\n"
          ],
          "name": "stdout"
        },
        {
          "output_type": "stream",
          "text": [
            "1024it [00:05, 196.03it/s]\n",
            "1014it [00:01, 653.26it/s]\n",
            "17it [00:00, 165.46it/s]"
          ],
          "name": "stderr"
        },
        {
          "output_type": "stream",
          "text": [
            "[ 210/1000] train_loss: 0.00374 valid_loss: 0.01508\n",
            "Validation loss decreased (0.016117 --> 0.015077).  Saving model ...\n"
          ],
          "name": "stdout"
        },
        {
          "output_type": "stream",
          "text": [
            "1024it [00:05, 192.62it/s]\n",
            "1014it [00:01, 653.42it/s]\n",
            "20it [00:00, 198.18it/s]"
          ],
          "name": "stderr"
        },
        {
          "output_type": "stream",
          "text": [
            "[ 211/1000] train_loss: 0.00310 valid_loss: 0.01620\n",
            "EarlyStopping counter: 1 out of 100\n"
          ],
          "name": "stdout"
        },
        {
          "output_type": "stream",
          "text": [
            "1024it [00:05, 193.76it/s]\n",
            "1014it [00:01, 654.00it/s]\n",
            "19it [00:00, 184.83it/s]"
          ],
          "name": "stderr"
        },
        {
          "output_type": "stream",
          "text": [
            "[ 212/1000] train_loss: 0.00283 valid_loss: 0.01663\n",
            "EarlyStopping counter: 2 out of 100\n"
          ],
          "name": "stdout"
        },
        {
          "output_type": "stream",
          "text": [
            "1024it [00:05, 196.07it/s]\n",
            "1014it [00:01, 658.99it/s]\n",
            "19it [00:00, 188.77it/s]"
          ],
          "name": "stderr"
        },
        {
          "output_type": "stream",
          "text": [
            "[ 213/1000] train_loss: 0.00310 valid_loss: 0.01751\n",
            "EarlyStopping counter: 3 out of 100\n"
          ],
          "name": "stdout"
        },
        {
          "output_type": "stream",
          "text": [
            "1024it [00:05, 192.81it/s]\n",
            "1014it [00:01, 660.29it/s]\n",
            "21it [00:00, 202.44it/s]"
          ],
          "name": "stderr"
        },
        {
          "output_type": "stream",
          "text": [
            "[ 214/1000] train_loss: 0.00276 valid_loss: 0.01655\n",
            "EarlyStopping counter: 4 out of 100\n"
          ],
          "name": "stdout"
        },
        {
          "output_type": "stream",
          "text": [
            "1024it [00:05, 195.40it/s]\n",
            "1014it [00:01, 656.96it/s]\n",
            "17it [00:00, 167.66it/s]"
          ],
          "name": "stderr"
        },
        {
          "output_type": "stream",
          "text": [
            "[ 215/1000] train_loss: 0.00340 valid_loss: 0.01572\n",
            "EarlyStopping counter: 5 out of 100\n"
          ],
          "name": "stdout"
        },
        {
          "output_type": "stream",
          "text": [
            "1024it [00:05, 193.33it/s]\n",
            "1014it [00:01, 661.87it/s]\n",
            "19it [00:00, 183.01it/s]"
          ],
          "name": "stderr"
        },
        {
          "output_type": "stream",
          "text": [
            "[ 216/1000] train_loss: 0.00319 valid_loss: 0.01537\n",
            "EarlyStopping counter: 6 out of 100\n"
          ],
          "name": "stdout"
        },
        {
          "output_type": "stream",
          "text": [
            "1024it [00:05, 195.78it/s]\n",
            "1014it [00:01, 648.37it/s]\n",
            "21it [00:00, 203.93it/s]"
          ],
          "name": "stderr"
        },
        {
          "output_type": "stream",
          "text": [
            "[ 217/1000] train_loss: 0.00292 valid_loss: 0.01609\n",
            "EarlyStopping counter: 7 out of 100\n"
          ],
          "name": "stdout"
        },
        {
          "output_type": "stream",
          "text": [
            "1024it [00:05, 197.34it/s]\n",
            "1014it [00:01, 660.26it/s]\n",
            "19it [00:00, 186.73it/s]"
          ],
          "name": "stderr"
        },
        {
          "output_type": "stream",
          "text": [
            "[ 218/1000] train_loss: 0.00314 valid_loss: 0.01596\n",
            "EarlyStopping counter: 8 out of 100\n"
          ],
          "name": "stdout"
        },
        {
          "output_type": "stream",
          "text": [
            "1024it [00:05, 192.10it/s]\n",
            "1014it [00:01, 660.04it/s]\n",
            "20it [00:00, 195.49it/s]"
          ],
          "name": "stderr"
        },
        {
          "output_type": "stream",
          "text": [
            "[ 219/1000] train_loss: 0.00254 valid_loss: 0.01489\n",
            "Validation loss decreased (0.015077 --> 0.014893).  Saving model ...\n"
          ],
          "name": "stdout"
        },
        {
          "output_type": "stream",
          "text": [
            "1024it [00:05, 192.53it/s]\n",
            "1014it [00:01, 681.24it/s]\n",
            "17it [00:00, 166.86it/s]"
          ],
          "name": "stderr"
        },
        {
          "output_type": "stream",
          "text": [
            "[ 220/1000] train_loss: 0.00247 valid_loss: 0.01470\n",
            "Validation loss decreased (0.014893 --> 0.014697).  Saving model ...\n"
          ],
          "name": "stdout"
        },
        {
          "output_type": "stream",
          "text": [
            "1024it [00:05, 192.91it/s]\n",
            "1014it [00:01, 664.85it/s]\n",
            "21it [00:00, 198.76it/s]"
          ],
          "name": "stderr"
        },
        {
          "output_type": "stream",
          "text": [
            "[ 221/1000] train_loss: 0.00297 valid_loss: 0.01631\n",
            "EarlyStopping counter: 1 out of 100\n"
          ],
          "name": "stdout"
        },
        {
          "output_type": "stream",
          "text": [
            "1024it [00:05, 196.08it/s]\n",
            "1014it [00:01, 664.29it/s]\n",
            "19it [00:00, 189.52it/s]"
          ],
          "name": "stderr"
        },
        {
          "output_type": "stream",
          "text": [
            "[ 222/1000] train_loss: 0.00273 valid_loss: 0.01363\n",
            "Validation loss decreased (0.014697 --> 0.013628).  Saving model ...\n"
          ],
          "name": "stdout"
        },
        {
          "output_type": "stream",
          "text": [
            "1024it [00:05, 193.85it/s]\n",
            "1014it [00:01, 641.48it/s]\n",
            "19it [00:00, 189.10it/s]"
          ],
          "name": "stderr"
        },
        {
          "output_type": "stream",
          "text": [
            "[ 223/1000] train_loss: 0.00269 valid_loss: 0.01444\n",
            "EarlyStopping counter: 1 out of 100\n"
          ],
          "name": "stdout"
        },
        {
          "output_type": "stream",
          "text": [
            "1024it [00:05, 194.62it/s]\n",
            "1014it [00:01, 658.14it/s]\n",
            "18it [00:00, 178.80it/s]"
          ],
          "name": "stderr"
        },
        {
          "output_type": "stream",
          "text": [
            "[ 224/1000] train_loss: 0.00333 valid_loss: 0.01486\n",
            "EarlyStopping counter: 2 out of 100\n"
          ],
          "name": "stdout"
        },
        {
          "output_type": "stream",
          "text": [
            "1024it [00:05, 194.93it/s]\n",
            "1014it [00:01, 658.79it/s]\n",
            "16it [00:00, 159.56it/s]"
          ],
          "name": "stderr"
        },
        {
          "output_type": "stream",
          "text": [
            "[ 225/1000] train_loss: 0.00260 valid_loss: 0.01516\n",
            "EarlyStopping counter: 3 out of 100\n"
          ],
          "name": "stdout"
        },
        {
          "output_type": "stream",
          "text": [
            "1024it [00:05, 193.30it/s]\n",
            "1014it [00:01, 649.42it/s]\n",
            "20it [00:00, 192.04it/s]"
          ],
          "name": "stderr"
        },
        {
          "output_type": "stream",
          "text": [
            "[ 226/1000] train_loss: 0.00294 valid_loss: 0.01568\n",
            "EarlyStopping counter: 4 out of 100\n"
          ],
          "name": "stdout"
        },
        {
          "output_type": "stream",
          "text": [
            "1024it [00:05, 193.57it/s]\n",
            "1014it [00:01, 646.50it/s]\n",
            "15it [00:00, 148.61it/s]"
          ],
          "name": "stderr"
        },
        {
          "output_type": "stream",
          "text": [
            "[ 227/1000] train_loss: 0.00294 valid_loss: 0.01460\n",
            "EarlyStopping counter: 5 out of 100\n"
          ],
          "name": "stdout"
        },
        {
          "output_type": "stream",
          "text": [
            "1024it [00:05, 192.32it/s]\n",
            "1014it [00:01, 652.75it/s]\n",
            "21it [00:00, 201.13it/s]"
          ],
          "name": "stderr"
        },
        {
          "output_type": "stream",
          "text": [
            "[ 228/1000] train_loss: 0.00312 valid_loss: 0.01487\n",
            "EarlyStopping counter: 6 out of 100\n"
          ],
          "name": "stdout"
        },
        {
          "output_type": "stream",
          "text": [
            "1024it [00:05, 196.89it/s]\n",
            "1014it [00:01, 676.43it/s]\n",
            "20it [00:00, 189.75it/s]"
          ],
          "name": "stderr"
        },
        {
          "output_type": "stream",
          "text": [
            "[ 229/1000] train_loss: 0.00268 valid_loss: 0.01426\n",
            "EarlyStopping counter: 7 out of 100\n"
          ],
          "name": "stdout"
        },
        {
          "output_type": "stream",
          "text": [
            "1024it [00:05, 195.71it/s]\n",
            "1014it [00:01, 657.66it/s]\n",
            "20it [00:00, 197.84it/s]"
          ],
          "name": "stderr"
        },
        {
          "output_type": "stream",
          "text": [
            "[ 230/1000] train_loss: 0.00307 valid_loss: 0.01255\n",
            "Validation loss decreased (0.013628 --> 0.012547).  Saving model ...\n"
          ],
          "name": "stdout"
        },
        {
          "output_type": "stream",
          "text": [
            "1024it [00:05, 197.59it/s]\n",
            "1014it [00:01, 651.35it/s]\n",
            "21it [00:00, 202.32it/s]"
          ],
          "name": "stderr"
        },
        {
          "output_type": "stream",
          "text": [
            "[ 231/1000] train_loss: 0.00310 valid_loss: 0.01799\n",
            "EarlyStopping counter: 1 out of 100\n"
          ],
          "name": "stdout"
        },
        {
          "output_type": "stream",
          "text": [
            "1024it [00:05, 196.37it/s]\n",
            "1014it [00:01, 653.54it/s]\n",
            "14it [00:00, 135.00it/s]"
          ],
          "name": "stderr"
        },
        {
          "output_type": "stream",
          "text": [
            "[ 232/1000] train_loss: 0.00294 valid_loss: 0.01508\n",
            "EarlyStopping counter: 2 out of 100\n"
          ],
          "name": "stdout"
        },
        {
          "output_type": "stream",
          "text": [
            "1024it [00:05, 191.56it/s]\n",
            "1014it [00:01, 663.14it/s]\n",
            "19it [00:00, 187.33it/s]"
          ],
          "name": "stderr"
        },
        {
          "output_type": "stream",
          "text": [
            "[ 233/1000] train_loss: 0.00359 valid_loss: 0.01480\n",
            "EarlyStopping counter: 3 out of 100\n"
          ],
          "name": "stdout"
        },
        {
          "output_type": "stream",
          "text": [
            "1024it [00:05, 196.16it/s]\n",
            "1014it [00:01, 657.64it/s]\n",
            "21it [00:00, 201.80it/s]"
          ],
          "name": "stderr"
        },
        {
          "output_type": "stream",
          "text": [
            "[ 234/1000] train_loss: 0.00283 valid_loss: 0.01783\n",
            "EarlyStopping counter: 4 out of 100\n"
          ],
          "name": "stdout"
        },
        {
          "output_type": "stream",
          "text": [
            "1024it [00:05, 197.49it/s]\n",
            "1014it [00:01, 669.54it/s]\n",
            "21it [00:00, 201.53it/s]"
          ],
          "name": "stderr"
        },
        {
          "output_type": "stream",
          "text": [
            "[ 235/1000] train_loss: 0.00323 valid_loss: 0.01733\n",
            "EarlyStopping counter: 5 out of 100\n"
          ],
          "name": "stdout"
        },
        {
          "output_type": "stream",
          "text": [
            "1024it [00:05, 196.30it/s]\n",
            "1014it [00:01, 637.36it/s]\n",
            "22it [00:00, 210.85it/s]"
          ],
          "name": "stderr"
        },
        {
          "output_type": "stream",
          "text": [
            "[ 236/1000] train_loss: 0.00254 valid_loss: 0.01417\n",
            "EarlyStopping counter: 6 out of 100\n"
          ],
          "name": "stdout"
        },
        {
          "output_type": "stream",
          "text": [
            "1024it [00:05, 195.29it/s]\n",
            "1014it [00:01, 639.99it/s]\n",
            "18it [00:00, 179.14it/s]"
          ],
          "name": "stderr"
        },
        {
          "output_type": "stream",
          "text": [
            "[ 237/1000] train_loss: 0.00263 valid_loss: 0.01362\n",
            "EarlyStopping counter: 7 out of 100\n"
          ],
          "name": "stdout"
        },
        {
          "output_type": "stream",
          "text": [
            "1024it [00:05, 195.27it/s]\n",
            "1014it [00:01, 667.84it/s]\n",
            "17it [00:00, 163.10it/s]"
          ],
          "name": "stderr"
        },
        {
          "output_type": "stream",
          "text": [
            "[ 238/1000] train_loss: 0.00264 valid_loss: 0.01345\n",
            "EarlyStopping counter: 8 out of 100\n"
          ],
          "name": "stdout"
        },
        {
          "output_type": "stream",
          "text": [
            "1024it [00:05, 196.57it/s]\n",
            "1014it [00:01, 667.02it/s]\n",
            "21it [00:00, 207.47it/s]"
          ],
          "name": "stderr"
        },
        {
          "output_type": "stream",
          "text": [
            "[ 239/1000] train_loss: 0.00279 valid_loss: 0.01433\n",
            "EarlyStopping counter: 9 out of 100\n"
          ],
          "name": "stdout"
        },
        {
          "output_type": "stream",
          "text": [
            "1024it [00:05, 202.84it/s]\n",
            "1014it [00:01, 661.08it/s]\n",
            "19it [00:00, 188.28it/s]"
          ],
          "name": "stderr"
        },
        {
          "output_type": "stream",
          "text": [
            "[ 240/1000] train_loss: 0.00255 valid_loss: 0.01274\n",
            "EarlyStopping counter: 10 out of 100\n"
          ],
          "name": "stdout"
        },
        {
          "output_type": "stream",
          "text": [
            "1024it [00:05, 198.14it/s]\n",
            "1014it [00:01, 661.60it/s]\n",
            "20it [00:00, 199.73it/s]"
          ],
          "name": "stderr"
        },
        {
          "output_type": "stream",
          "text": [
            "[ 241/1000] train_loss: 0.00270 valid_loss: 0.01366\n",
            "EarlyStopping counter: 11 out of 100\n"
          ],
          "name": "stdout"
        },
        {
          "output_type": "stream",
          "text": [
            "1024it [00:05, 197.18it/s]\n",
            "1014it [00:01, 668.30it/s]\n",
            "19it [00:00, 188.30it/s]"
          ],
          "name": "stderr"
        },
        {
          "output_type": "stream",
          "text": [
            "[ 242/1000] train_loss: 0.00256 valid_loss: 0.01247\n",
            "Validation loss decreased (0.012547 --> 0.012471).  Saving model ...\n"
          ],
          "name": "stdout"
        },
        {
          "output_type": "stream",
          "text": [
            "1024it [00:05, 198.59it/s]\n",
            "1014it [00:01, 678.07it/s]\n",
            "20it [00:00, 194.50it/s]"
          ],
          "name": "stderr"
        },
        {
          "output_type": "stream",
          "text": [
            "[ 243/1000] train_loss: 0.00259 valid_loss: 0.01344\n",
            "EarlyStopping counter: 1 out of 100\n"
          ],
          "name": "stdout"
        },
        {
          "output_type": "stream",
          "text": [
            "1024it [00:05, 198.97it/s]\n",
            "1014it [00:01, 678.53it/s]\n",
            "20it [00:00, 193.27it/s]"
          ],
          "name": "stderr"
        },
        {
          "output_type": "stream",
          "text": [
            "[ 244/1000] train_loss: 0.00241 valid_loss: 0.01272\n",
            "EarlyStopping counter: 2 out of 100\n"
          ],
          "name": "stdout"
        },
        {
          "output_type": "stream",
          "text": [
            "1024it [00:05, 202.46it/s]\n",
            "1014it [00:01, 683.67it/s]\n",
            "21it [00:00, 207.80it/s]"
          ],
          "name": "stderr"
        },
        {
          "output_type": "stream",
          "text": [
            "[ 245/1000] train_loss: 0.00224 valid_loss: 0.01330\n",
            "EarlyStopping counter: 3 out of 100\n"
          ],
          "name": "stdout"
        },
        {
          "output_type": "stream",
          "text": [
            "1024it [00:05, 196.92it/s]\n",
            "1014it [00:01, 669.59it/s]\n",
            "20it [00:00, 193.40it/s]"
          ],
          "name": "stderr"
        },
        {
          "output_type": "stream",
          "text": [
            "[ 246/1000] train_loss: 0.00233 valid_loss: 0.01239\n",
            "Validation loss decreased (0.012471 --> 0.012386).  Saving model ...\n"
          ],
          "name": "stdout"
        },
        {
          "output_type": "stream",
          "text": [
            "1024it [00:05, 191.70it/s]\n",
            "1014it [00:01, 670.58it/s]\n",
            "20it [00:00, 190.64it/s]"
          ],
          "name": "stderr"
        },
        {
          "output_type": "stream",
          "text": [
            "[ 247/1000] train_loss: 0.00260 valid_loss: 0.01275\n",
            "EarlyStopping counter: 1 out of 100\n"
          ],
          "name": "stdout"
        },
        {
          "output_type": "stream",
          "text": [
            "1024it [00:05, 198.39it/s]\n",
            "1014it [00:01, 667.62it/s]\n",
            "21it [00:00, 204.10it/s]"
          ],
          "name": "stderr"
        },
        {
          "output_type": "stream",
          "text": [
            "[ 248/1000] train_loss: 0.00229 valid_loss: 0.01293\n",
            "EarlyStopping counter: 2 out of 100\n"
          ],
          "name": "stdout"
        },
        {
          "output_type": "stream",
          "text": [
            "1024it [00:05, 203.39it/s]\n",
            "1014it [00:01, 673.07it/s]\n",
            "22it [00:00, 211.53it/s]"
          ],
          "name": "stderr"
        },
        {
          "output_type": "stream",
          "text": [
            "[ 249/1000] train_loss: 0.00226 valid_loss: 0.01264\n",
            "EarlyStopping counter: 3 out of 100\n"
          ],
          "name": "stdout"
        },
        {
          "output_type": "stream",
          "text": [
            "1024it [00:05, 200.78it/s]\n",
            "1014it [00:01, 677.80it/s]\n",
            "22it [00:00, 218.02it/s]"
          ],
          "name": "stderr"
        },
        {
          "output_type": "stream",
          "text": [
            "[ 250/1000] train_loss: 0.00251 valid_loss: 0.01284\n",
            "EarlyStopping counter: 4 out of 100\n"
          ],
          "name": "stdout"
        },
        {
          "output_type": "stream",
          "text": [
            "1024it [00:05, 199.57it/s]\n",
            "1014it [00:01, 670.61it/s]\n",
            "20it [00:00, 189.76it/s]"
          ],
          "name": "stderr"
        },
        {
          "output_type": "stream",
          "text": [
            "[ 251/1000] train_loss: 0.00210 valid_loss: 0.01160\n",
            "Validation loss decreased (0.012386 --> 0.011596).  Saving model ...\n"
          ],
          "name": "stdout"
        },
        {
          "output_type": "stream",
          "text": [
            "1024it [00:05, 196.52it/s]\n",
            "1014it [00:01, 673.24it/s]\n",
            "19it [00:00, 187.60it/s]"
          ],
          "name": "stderr"
        },
        {
          "output_type": "stream",
          "text": [
            "[ 252/1000] train_loss: 0.00193 valid_loss: 0.01178\n",
            "EarlyStopping counter: 1 out of 100\n"
          ],
          "name": "stdout"
        },
        {
          "output_type": "stream",
          "text": [
            "1024it [00:05, 197.77it/s]\n",
            "1014it [00:01, 661.78it/s]\n",
            "21it [00:00, 205.96it/s]"
          ],
          "name": "stderr"
        },
        {
          "output_type": "stream",
          "text": [
            "[ 253/1000] train_loss: 0.00201 valid_loss: 0.01115\n",
            "Validation loss decreased (0.011596 --> 0.011153).  Saving model ...\n"
          ],
          "name": "stdout"
        },
        {
          "output_type": "stream",
          "text": [
            "1024it [00:05, 200.46it/s]\n",
            "1014it [00:01, 676.40it/s]\n",
            "21it [00:00, 208.88it/s]"
          ],
          "name": "stderr"
        },
        {
          "output_type": "stream",
          "text": [
            "[ 254/1000] train_loss: 0.00220 valid_loss: 0.01357\n",
            "EarlyStopping counter: 1 out of 100\n"
          ],
          "name": "stdout"
        },
        {
          "output_type": "stream",
          "text": [
            "1024it [00:05, 200.14it/s]\n",
            "1014it [00:01, 679.42it/s]\n",
            "21it [00:00, 201.80it/s]"
          ],
          "name": "stderr"
        },
        {
          "output_type": "stream",
          "text": [
            "[ 255/1000] train_loss: 0.00281 valid_loss: 0.00979\n",
            "Validation loss decreased (0.011153 --> 0.009785).  Saving model ...\n"
          ],
          "name": "stdout"
        },
        {
          "output_type": "stream",
          "text": [
            "1024it [00:05, 198.71it/s]\n",
            "1014it [00:01, 679.75it/s]\n",
            "22it [00:00, 212.77it/s]"
          ],
          "name": "stderr"
        },
        {
          "output_type": "stream",
          "text": [
            "[ 256/1000] train_loss: 0.00249 valid_loss: 0.01234\n",
            "EarlyStopping counter: 1 out of 100\n"
          ],
          "name": "stdout"
        },
        {
          "output_type": "stream",
          "text": [
            "1024it [00:05, 201.62it/s]\n",
            "1014it [00:01, 665.29it/s]\n",
            "21it [00:00, 202.16it/s]"
          ],
          "name": "stderr"
        },
        {
          "output_type": "stream",
          "text": [
            "[ 257/1000] train_loss: 0.00244 valid_loss: 0.01207\n",
            "EarlyStopping counter: 2 out of 100\n"
          ],
          "name": "stdout"
        },
        {
          "output_type": "stream",
          "text": [
            "1024it [00:05, 199.16it/s]\n",
            "1014it [00:01, 668.13it/s]\n",
            "22it [00:00, 211.98it/s]"
          ],
          "name": "stderr"
        },
        {
          "output_type": "stream",
          "text": [
            "[ 258/1000] train_loss: 0.00227 valid_loss: 0.01247\n",
            "EarlyStopping counter: 3 out of 100\n"
          ],
          "name": "stdout"
        },
        {
          "output_type": "stream",
          "text": [
            "1024it [00:05, 199.99it/s]\n",
            "1014it [00:01, 679.26it/s]\n",
            "21it [00:00, 208.64it/s]"
          ],
          "name": "stderr"
        },
        {
          "output_type": "stream",
          "text": [
            "[ 259/1000] train_loss: 0.00236 valid_loss: 0.01208\n",
            "EarlyStopping counter: 4 out of 100\n"
          ],
          "name": "stdout"
        },
        {
          "output_type": "stream",
          "text": [
            "1024it [00:05, 201.48it/s]\n",
            "1014it [00:01, 669.41it/s]\n",
            "21it [00:00, 208.72it/s]"
          ],
          "name": "stderr"
        },
        {
          "output_type": "stream",
          "text": [
            "[ 260/1000] train_loss: 0.00192 valid_loss: 0.00998\n",
            "EarlyStopping counter: 5 out of 100\n"
          ],
          "name": "stdout"
        },
        {
          "output_type": "stream",
          "text": [
            "1024it [00:05, 201.15it/s]\n",
            "1014it [00:01, 688.79it/s]\n",
            "20it [00:00, 197.71it/s]"
          ],
          "name": "stderr"
        },
        {
          "output_type": "stream",
          "text": [
            "[ 261/1000] train_loss: 0.00220 valid_loss: 0.01032\n",
            "EarlyStopping counter: 6 out of 100\n"
          ],
          "name": "stdout"
        },
        {
          "output_type": "stream",
          "text": [
            "1024it [00:05, 199.09it/s]\n",
            "1014it [00:01, 661.15it/s]\n",
            "21it [00:00, 209.58it/s]"
          ],
          "name": "stderr"
        },
        {
          "output_type": "stream",
          "text": [
            "[ 262/1000] train_loss: 0.00243 valid_loss: 0.01226\n",
            "EarlyStopping counter: 7 out of 100\n"
          ],
          "name": "stdout"
        },
        {
          "output_type": "stream",
          "text": [
            "1024it [00:05, 203.11it/s]\n",
            "1014it [00:01, 672.46it/s]\n",
            "21it [00:00, 204.20it/s]"
          ],
          "name": "stderr"
        },
        {
          "output_type": "stream",
          "text": [
            "[ 263/1000] train_loss: 0.00254 valid_loss: 0.01123\n",
            "EarlyStopping counter: 8 out of 100\n"
          ],
          "name": "stdout"
        },
        {
          "output_type": "stream",
          "text": [
            "1024it [00:05, 200.61it/s]\n",
            "1014it [00:01, 671.39it/s]\n",
            "21it [00:00, 207.22it/s]"
          ],
          "name": "stderr"
        },
        {
          "output_type": "stream",
          "text": [
            "[ 264/1000] train_loss: 0.00220 valid_loss: 0.00901\n",
            "Validation loss decreased (0.009785 --> 0.009007).  Saving model ...\n"
          ],
          "name": "stdout"
        },
        {
          "output_type": "stream",
          "text": [
            "1024it [00:05, 200.72it/s]\n",
            "1014it [00:01, 689.18it/s]\n",
            "21it [00:00, 204.98it/s]"
          ],
          "name": "stderr"
        },
        {
          "output_type": "stream",
          "text": [
            "[ 265/1000] train_loss: 0.00184 valid_loss: 0.00904\n",
            "EarlyStopping counter: 1 out of 100\n"
          ],
          "name": "stdout"
        },
        {
          "output_type": "stream",
          "text": [
            "1024it [00:05, 199.53it/s]\n",
            "1014it [00:01, 662.96it/s]\n",
            "20it [00:00, 197.31it/s]"
          ],
          "name": "stderr"
        },
        {
          "output_type": "stream",
          "text": [
            "[ 266/1000] train_loss: 0.00175 valid_loss: 0.00811\n",
            "Validation loss decreased (0.009007 --> 0.008111).  Saving model ...\n"
          ],
          "name": "stdout"
        },
        {
          "output_type": "stream",
          "text": [
            "1024it [00:05, 201.22it/s]\n",
            "1014it [00:01, 675.44it/s]\n",
            "18it [00:00, 174.47it/s]"
          ],
          "name": "stderr"
        },
        {
          "output_type": "stream",
          "text": [
            "[ 267/1000] train_loss: 0.00226 valid_loss: 0.00879\n",
            "EarlyStopping counter: 1 out of 100\n"
          ],
          "name": "stdout"
        },
        {
          "output_type": "stream",
          "text": [
            "1024it [00:05, 199.54it/s]\n",
            "1014it [00:01, 668.24it/s]\n",
            "22it [00:00, 210.68it/s]"
          ],
          "name": "stderr"
        },
        {
          "output_type": "stream",
          "text": [
            "[ 268/1000] train_loss: 0.00215 valid_loss: 0.01050\n",
            "EarlyStopping counter: 2 out of 100\n"
          ],
          "name": "stdout"
        },
        {
          "output_type": "stream",
          "text": [
            "1024it [00:05, 200.98it/s]\n",
            "1014it [00:01, 675.05it/s]\n",
            "22it [00:00, 212.14it/s]"
          ],
          "name": "stderr"
        },
        {
          "output_type": "stream",
          "text": [
            "[ 269/1000] train_loss: 0.00207 valid_loss: 0.00740\n",
            "Validation loss decreased (0.008111 --> 0.007405).  Saving model ...\n"
          ],
          "name": "stdout"
        },
        {
          "output_type": "stream",
          "text": [
            "1024it [00:05, 200.29it/s]\n",
            "1014it [00:01, 681.42it/s]\n",
            "20it [00:00, 198.12it/s]"
          ],
          "name": "stderr"
        },
        {
          "output_type": "stream",
          "text": [
            "[ 270/1000] train_loss: 0.00212 valid_loss: 0.00717\n",
            "Validation loss decreased (0.007405 --> 0.007170).  Saving model ...\n"
          ],
          "name": "stdout"
        },
        {
          "output_type": "stream",
          "text": [
            "1024it [00:05, 200.07it/s]\n",
            "1014it [00:01, 666.82it/s]\n",
            "22it [00:00, 211.73it/s]"
          ],
          "name": "stderr"
        },
        {
          "output_type": "stream",
          "text": [
            "[ 271/1000] train_loss: 0.00164 valid_loss: 0.00610\n",
            "Validation loss decreased (0.007170 --> 0.006096).  Saving model ...\n"
          ],
          "name": "stdout"
        },
        {
          "output_type": "stream",
          "text": [
            "1024it [00:05, 199.59it/s]\n",
            "1014it [00:01, 690.72it/s]\n",
            "22it [00:00, 213.13it/s]"
          ],
          "name": "stderr"
        },
        {
          "output_type": "stream",
          "text": [
            "[ 272/1000] train_loss: 0.00142 valid_loss: 0.00540\n",
            "Validation loss decreased (0.006096 --> 0.005403).  Saving model ...\n"
          ],
          "name": "stdout"
        },
        {
          "output_type": "stream",
          "text": [
            "1024it [00:05, 200.48it/s]\n",
            "1014it [00:01, 679.22it/s]\n",
            "22it [00:00, 215.02it/s]"
          ],
          "name": "stderr"
        },
        {
          "output_type": "stream",
          "text": [
            "[ 273/1000] train_loss: 0.00150 valid_loss: 0.00568\n",
            "EarlyStopping counter: 1 out of 100\n"
          ],
          "name": "stdout"
        },
        {
          "output_type": "stream",
          "text": [
            "1024it [00:05, 200.63it/s]\n",
            "1014it [00:01, 675.84it/s]\n",
            "20it [00:00, 194.82it/s]"
          ],
          "name": "stderr"
        },
        {
          "output_type": "stream",
          "text": [
            "[ 274/1000] train_loss: 0.00162 valid_loss: 0.00703\n",
            "EarlyStopping counter: 2 out of 100\n"
          ],
          "name": "stdout"
        },
        {
          "output_type": "stream",
          "text": [
            "1024it [00:05, 199.13it/s]\n",
            "1014it [00:01, 683.14it/s]\n",
            "18it [00:00, 179.68it/s]"
          ],
          "name": "stderr"
        },
        {
          "output_type": "stream",
          "text": [
            "[ 275/1000] train_loss: 0.00213 valid_loss: 0.00702\n",
            "EarlyStopping counter: 3 out of 100\n"
          ],
          "name": "stdout"
        },
        {
          "output_type": "stream",
          "text": [
            "1024it [00:05, 200.05it/s]\n",
            "1014it [00:01, 674.58it/s]\n",
            "21it [00:00, 203.57it/s]"
          ],
          "name": "stderr"
        },
        {
          "output_type": "stream",
          "text": [
            "[ 276/1000] train_loss: 0.00206 valid_loss: 0.00592\n",
            "EarlyStopping counter: 4 out of 100\n"
          ],
          "name": "stdout"
        },
        {
          "output_type": "stream",
          "text": [
            "1024it [00:05, 200.57it/s]\n",
            "1014it [00:01, 677.40it/s]\n",
            "19it [00:00, 188.78it/s]"
          ],
          "name": "stderr"
        },
        {
          "output_type": "stream",
          "text": [
            "[ 277/1000] train_loss: 0.00167 valid_loss: 0.00688\n",
            "EarlyStopping counter: 5 out of 100\n"
          ],
          "name": "stdout"
        },
        {
          "output_type": "stream",
          "text": [
            "1024it [00:05, 200.14it/s]\n",
            "1014it [00:01, 682.23it/s]\n",
            "21it [00:00, 209.49it/s]"
          ],
          "name": "stderr"
        },
        {
          "output_type": "stream",
          "text": [
            "[ 278/1000] train_loss: 0.00176 valid_loss: 0.00869\n",
            "EarlyStopping counter: 6 out of 100\n"
          ],
          "name": "stdout"
        },
        {
          "output_type": "stream",
          "text": [
            "1024it [00:05, 201.48it/s]\n",
            "1014it [00:01, 668.14it/s]\n",
            "19it [00:00, 187.43it/s]"
          ],
          "name": "stderr"
        },
        {
          "output_type": "stream",
          "text": [
            "[ 279/1000] train_loss: 0.00178 valid_loss: 0.00626\n",
            "EarlyStopping counter: 7 out of 100\n"
          ],
          "name": "stdout"
        },
        {
          "output_type": "stream",
          "text": [
            "1024it [00:05, 201.12it/s]\n",
            "1014it [00:01, 674.64it/s]\n",
            "21it [00:00, 202.44it/s]"
          ],
          "name": "stderr"
        },
        {
          "output_type": "stream",
          "text": [
            "[ 280/1000] train_loss: 0.00176 valid_loss: 0.00637\n",
            "EarlyStopping counter: 8 out of 100\n"
          ],
          "name": "stdout"
        },
        {
          "output_type": "stream",
          "text": [
            "1024it [00:05, 201.79it/s]\n",
            "1014it [00:01, 686.00it/s]\n",
            "19it [00:00, 184.33it/s]"
          ],
          "name": "stderr"
        },
        {
          "output_type": "stream",
          "text": [
            "[ 281/1000] train_loss: 0.00173 valid_loss: 0.00664\n",
            "EarlyStopping counter: 9 out of 100\n"
          ],
          "name": "stdout"
        },
        {
          "output_type": "stream",
          "text": [
            "1024it [00:05, 200.86it/s]\n",
            "1014it [00:01, 667.20it/s]\n",
            "22it [00:00, 210.74it/s]"
          ],
          "name": "stderr"
        },
        {
          "output_type": "stream",
          "text": [
            "[ 282/1000] train_loss: 0.00170 valid_loss: 0.00658\n",
            "EarlyStopping counter: 10 out of 100\n"
          ],
          "name": "stdout"
        },
        {
          "output_type": "stream",
          "text": [
            "1024it [00:05, 200.60it/s]\n",
            "1014it [00:01, 652.55it/s]\n",
            "20it [00:00, 192.03it/s]"
          ],
          "name": "stderr"
        },
        {
          "output_type": "stream",
          "text": [
            "[ 283/1000] train_loss: 0.00215 valid_loss: 0.00557\n",
            "EarlyStopping counter: 11 out of 100\n"
          ],
          "name": "stdout"
        },
        {
          "output_type": "stream",
          "text": [
            "1024it [00:05, 200.63it/s]\n",
            "1014it [00:01, 678.60it/s]\n",
            "21it [00:00, 200.87it/s]"
          ],
          "name": "stderr"
        },
        {
          "output_type": "stream",
          "text": [
            "[ 284/1000] train_loss: 0.00198 valid_loss: 0.00692\n",
            "EarlyStopping counter: 12 out of 100\n"
          ],
          "name": "stdout"
        },
        {
          "output_type": "stream",
          "text": [
            "1024it [00:05, 202.23it/s]\n",
            "1014it [00:01, 677.22it/s]\n",
            "20it [00:00, 195.76it/s]"
          ],
          "name": "stderr"
        },
        {
          "output_type": "stream",
          "text": [
            "[ 285/1000] train_loss: 0.00243 valid_loss: 0.00811\n",
            "EarlyStopping counter: 13 out of 100\n"
          ],
          "name": "stdout"
        },
        {
          "output_type": "stream",
          "text": [
            "1024it [00:04, 205.31it/s]\n",
            "1014it [00:01, 673.67it/s]\n",
            "20it [00:00, 192.76it/s]"
          ],
          "name": "stderr"
        },
        {
          "output_type": "stream",
          "text": [
            "[ 286/1000] train_loss: 0.00205 valid_loss: 0.00648\n",
            "EarlyStopping counter: 14 out of 100\n"
          ],
          "name": "stdout"
        },
        {
          "output_type": "stream",
          "text": [
            "1024it [00:05, 200.64it/s]\n",
            "1014it [00:01, 671.39it/s]\n",
            "20it [00:00, 193.92it/s]"
          ],
          "name": "stderr"
        },
        {
          "output_type": "stream",
          "text": [
            "[ 287/1000] train_loss: 0.00165 valid_loss: 0.00581\n",
            "EarlyStopping counter: 15 out of 100\n"
          ],
          "name": "stdout"
        },
        {
          "output_type": "stream",
          "text": [
            "1024it [00:05, 196.78it/s]\n",
            "1014it [00:01, 683.32it/s]\n",
            "18it [00:00, 173.83it/s]"
          ],
          "name": "stderr"
        },
        {
          "output_type": "stream",
          "text": [
            "[ 288/1000] train_loss: 0.00143 valid_loss: 0.00505\n",
            "Validation loss decreased (0.005403 --> 0.005054).  Saving model ...\n"
          ],
          "name": "stdout"
        },
        {
          "output_type": "stream",
          "text": [
            "1024it [00:05, 196.94it/s]\n",
            "1014it [00:01, 676.36it/s]\n",
            "22it [00:00, 211.39it/s]"
          ],
          "name": "stderr"
        },
        {
          "output_type": "stream",
          "text": [
            "[ 289/1000] train_loss: 0.00154 valid_loss: 0.00586\n",
            "EarlyStopping counter: 1 out of 100\n"
          ],
          "name": "stdout"
        },
        {
          "output_type": "stream",
          "text": [
            "1024it [00:05, 197.61it/s]\n",
            "1014it [00:01, 667.01it/s]\n",
            "21it [00:00, 201.31it/s]"
          ],
          "name": "stderr"
        },
        {
          "output_type": "stream",
          "text": [
            "[ 290/1000] train_loss: 0.00195 valid_loss: 0.00629\n",
            "EarlyStopping counter: 2 out of 100\n"
          ],
          "name": "stdout"
        },
        {
          "output_type": "stream",
          "text": [
            "1024it [00:05, 199.03it/s]\n",
            "1014it [00:01, 686.92it/s]\n",
            "21it [00:00, 204.05it/s]"
          ],
          "name": "stderr"
        },
        {
          "output_type": "stream",
          "text": [
            "[ 291/1000] train_loss: 0.00174 valid_loss: 0.00471\n",
            "Validation loss decreased (0.005054 --> 0.004713).  Saving model ...\n"
          ],
          "name": "stdout"
        },
        {
          "output_type": "stream",
          "text": [
            "1024it [00:05, 201.34it/s]\n",
            "1014it [00:01, 683.23it/s]\n",
            "22it [00:00, 215.87it/s]"
          ],
          "name": "stderr"
        },
        {
          "output_type": "stream",
          "text": [
            "[ 292/1000] train_loss: 0.00170 valid_loss: 0.00419\n",
            "Validation loss decreased (0.004713 --> 0.004193).  Saving model ...\n"
          ],
          "name": "stdout"
        },
        {
          "output_type": "stream",
          "text": [
            "1024it [00:05, 197.93it/s]\n",
            "1014it [00:01, 666.45it/s]\n",
            "19it [00:00, 186.60it/s]"
          ],
          "name": "stderr"
        },
        {
          "output_type": "stream",
          "text": [
            "[ 293/1000] train_loss: 0.00175 valid_loss: 0.00465\n",
            "EarlyStopping counter: 1 out of 100\n"
          ],
          "name": "stdout"
        },
        {
          "output_type": "stream",
          "text": [
            "1024it [00:05, 193.05it/s]\n",
            "1014it [00:01, 682.06it/s]\n",
            "20it [00:00, 192.35it/s]"
          ],
          "name": "stderr"
        },
        {
          "output_type": "stream",
          "text": [
            "[ 294/1000] train_loss: 0.00178 valid_loss: 0.00463\n",
            "EarlyStopping counter: 2 out of 100\n"
          ],
          "name": "stdout"
        },
        {
          "output_type": "stream",
          "text": [
            "1024it [00:05, 199.52it/s]\n",
            "1014it [00:01, 669.93it/s]\n",
            "22it [00:00, 211.31it/s]"
          ],
          "name": "stderr"
        },
        {
          "output_type": "stream",
          "text": [
            "[ 295/1000] train_loss: 0.00170 valid_loss: 0.00516\n",
            "EarlyStopping counter: 3 out of 100\n"
          ],
          "name": "stdout"
        },
        {
          "output_type": "stream",
          "text": [
            "1024it [00:05, 201.14it/s]\n",
            "1014it [00:01, 685.10it/s]\n",
            "20it [00:00, 191.52it/s]"
          ],
          "name": "stderr"
        },
        {
          "output_type": "stream",
          "text": [
            "[ 296/1000] train_loss: 0.00185 valid_loss: 0.00425\n",
            "EarlyStopping counter: 4 out of 100\n"
          ],
          "name": "stdout"
        },
        {
          "output_type": "stream",
          "text": [
            "1024it [00:05, 200.87it/s]\n",
            "1014it [00:01, 674.94it/s]\n",
            "21it [00:00, 204.37it/s]"
          ],
          "name": "stderr"
        },
        {
          "output_type": "stream",
          "text": [
            "[ 297/1000] train_loss: 0.00171 valid_loss: 0.00443\n",
            "EarlyStopping counter: 5 out of 100\n"
          ],
          "name": "stdout"
        },
        {
          "output_type": "stream",
          "text": [
            "1024it [00:05, 200.46it/s]\n",
            "1014it [00:01, 682.32it/s]\n",
            "20it [00:00, 193.39it/s]"
          ],
          "name": "stderr"
        },
        {
          "output_type": "stream",
          "text": [
            "[ 298/1000] train_loss: 0.00156 valid_loss: 0.00342\n",
            "Validation loss decreased (0.004193 --> 0.003419).  Saving model ...\n"
          ],
          "name": "stdout"
        },
        {
          "output_type": "stream",
          "text": [
            "1024it [00:05, 198.23it/s]\n",
            "1014it [00:01, 667.04it/s]\n",
            "20it [00:00, 193.28it/s]"
          ],
          "name": "stderr"
        },
        {
          "output_type": "stream",
          "text": [
            "[ 299/1000] train_loss: 0.00174 valid_loss: 0.00361\n",
            "EarlyStopping counter: 1 out of 100\n"
          ],
          "name": "stdout"
        },
        {
          "output_type": "stream",
          "text": [
            "1024it [00:05, 200.31it/s]\n",
            "1014it [00:01, 658.90it/s]\n",
            "21it [00:00, 205.85it/s]"
          ],
          "name": "stderr"
        },
        {
          "output_type": "stream",
          "text": [
            "[ 300/1000] train_loss: 0.00174 valid_loss: 0.00374\n",
            "EarlyStopping counter: 2 out of 100\n"
          ],
          "name": "stdout"
        },
        {
          "output_type": "stream",
          "text": [
            "1024it [00:05, 199.30it/s]\n",
            "1014it [00:01, 683.09it/s]\n",
            "20it [00:00, 191.84it/s]"
          ],
          "name": "stderr"
        },
        {
          "output_type": "stream",
          "text": [
            "[ 301/1000] train_loss: 0.00171 valid_loss: 0.00364\n",
            "EarlyStopping counter: 3 out of 100\n"
          ],
          "name": "stdout"
        },
        {
          "output_type": "stream",
          "text": [
            "1024it [00:05, 201.69it/s]\n",
            "1014it [00:01, 666.58it/s]\n",
            "21it [00:00, 204.85it/s]"
          ],
          "name": "stderr"
        },
        {
          "output_type": "stream",
          "text": [
            "[ 302/1000] train_loss: 0.00158 valid_loss: 0.00326\n",
            "Validation loss decreased (0.003419 --> 0.003262).  Saving model ...\n"
          ],
          "name": "stdout"
        },
        {
          "output_type": "stream",
          "text": [
            "1024it [00:05, 200.50it/s]\n",
            "1014it [00:01, 678.74it/s]\n",
            "18it [00:00, 179.30it/s]"
          ],
          "name": "stderr"
        },
        {
          "output_type": "stream",
          "text": [
            "[ 303/1000] train_loss: 0.00181 valid_loss: 0.00482\n",
            "EarlyStopping counter: 1 out of 100\n"
          ],
          "name": "stdout"
        },
        {
          "output_type": "stream",
          "text": [
            "1024it [00:05, 197.12it/s]\n",
            "1014it [00:01, 665.46it/s]\n",
            "21it [00:00, 207.00it/s]"
          ],
          "name": "stderr"
        },
        {
          "output_type": "stream",
          "text": [
            "[ 304/1000] train_loss: 0.00184 valid_loss: 0.00377\n",
            "EarlyStopping counter: 2 out of 100\n"
          ],
          "name": "stdout"
        },
        {
          "output_type": "stream",
          "text": [
            "1024it [00:05, 201.20it/s]\n",
            "1014it [00:01, 679.31it/s]\n",
            "21it [00:00, 208.22it/s]"
          ],
          "name": "stderr"
        },
        {
          "output_type": "stream",
          "text": [
            "[ 305/1000] train_loss: 0.00201 valid_loss: 0.00461\n",
            "EarlyStopping counter: 3 out of 100\n"
          ],
          "name": "stdout"
        },
        {
          "output_type": "stream",
          "text": [
            "1024it [00:05, 199.62it/s]\n",
            "1014it [00:01, 653.33it/s]\n",
            "21it [00:00, 207.07it/s]"
          ],
          "name": "stderr"
        },
        {
          "output_type": "stream",
          "text": [
            "[ 306/1000] train_loss: 0.00176 valid_loss: 0.00444\n",
            "EarlyStopping counter: 4 out of 100\n"
          ],
          "name": "stdout"
        },
        {
          "output_type": "stream",
          "text": [
            "1024it [00:05, 201.44it/s]\n",
            "1014it [00:01, 687.06it/s]\n",
            "21it [00:00, 208.00it/s]"
          ],
          "name": "stderr"
        },
        {
          "output_type": "stream",
          "text": [
            "[ 307/1000] train_loss: 0.00147 valid_loss: 0.00359\n",
            "EarlyStopping counter: 5 out of 100\n"
          ],
          "name": "stdout"
        },
        {
          "output_type": "stream",
          "text": [
            "1024it [00:05, 200.90it/s]\n",
            "1014it [00:01, 675.01it/s]\n",
            "21it [00:00, 206.59it/s]"
          ],
          "name": "stderr"
        },
        {
          "output_type": "stream",
          "text": [
            "[ 308/1000] train_loss: 0.00135 valid_loss: 0.00360\n",
            "EarlyStopping counter: 6 out of 100\n"
          ],
          "name": "stdout"
        },
        {
          "output_type": "stream",
          "text": [
            "1024it [00:05, 200.51it/s]\n",
            "1014it [00:01, 656.41it/s]\n",
            "21it [00:00, 206.75it/s]"
          ],
          "name": "stderr"
        },
        {
          "output_type": "stream",
          "text": [
            "[ 309/1000] train_loss: 0.00125 valid_loss: 0.00323\n",
            "Validation loss decreased (0.003262 --> 0.003230).  Saving model ...\n"
          ],
          "name": "stdout"
        },
        {
          "output_type": "stream",
          "text": [
            "1024it [00:05, 200.66it/s]\n",
            "1014it [00:01, 686.92it/s]\n",
            "21it [00:00, 202.33it/s]"
          ],
          "name": "stderr"
        },
        {
          "output_type": "stream",
          "text": [
            "[ 310/1000] train_loss: 0.00114 valid_loss: 0.00268\n",
            "Validation loss decreased (0.003230 --> 0.002679).  Saving model ...\n"
          ],
          "name": "stdout"
        },
        {
          "output_type": "stream",
          "text": [
            "1024it [00:05, 202.61it/s]\n",
            "1014it [00:01, 683.13it/s]\n",
            "21it [00:00, 203.53it/s]"
          ],
          "name": "stderr"
        },
        {
          "output_type": "stream",
          "text": [
            "[ 311/1000] train_loss: 0.00136 valid_loss: 0.00312\n",
            "EarlyStopping counter: 1 out of 100\n"
          ],
          "name": "stdout"
        },
        {
          "output_type": "stream",
          "text": [
            "1024it [00:05, 201.33it/s]\n",
            "1014it [00:01, 681.34it/s]\n",
            "21it [00:00, 208.31it/s]"
          ],
          "name": "stderr"
        },
        {
          "output_type": "stream",
          "text": [
            "[ 312/1000] train_loss: 0.00123 valid_loss: 0.00348\n",
            "EarlyStopping counter: 2 out of 100\n"
          ],
          "name": "stdout"
        },
        {
          "output_type": "stream",
          "text": [
            "1024it [00:05, 202.48it/s]\n",
            "1014it [00:01, 687.93it/s]\n",
            "22it [00:00, 212.13it/s]"
          ],
          "name": "stderr"
        },
        {
          "output_type": "stream",
          "text": [
            "[ 313/1000] train_loss: 0.00106 valid_loss: 0.00281\n",
            "EarlyStopping counter: 3 out of 100\n"
          ],
          "name": "stdout"
        },
        {
          "output_type": "stream",
          "text": [
            "1024it [00:05, 199.42it/s]\n",
            "1014it [00:01, 669.56it/s]\n",
            "22it [00:00, 211.08it/s]"
          ],
          "name": "stderr"
        },
        {
          "output_type": "stream",
          "text": [
            "[ 314/1000] train_loss: 0.00140 valid_loss: 0.00363\n",
            "EarlyStopping counter: 4 out of 100\n"
          ],
          "name": "stdout"
        },
        {
          "output_type": "stream",
          "text": [
            "1024it [00:05, 203.42it/s]\n",
            "1014it [00:01, 679.39it/s]\n",
            "20it [00:00, 199.30it/s]"
          ],
          "name": "stderr"
        },
        {
          "output_type": "stream",
          "text": [
            "[ 315/1000] train_loss: 0.00196 valid_loss: 0.00369\n",
            "EarlyStopping counter: 5 out of 100\n"
          ],
          "name": "stdout"
        },
        {
          "output_type": "stream",
          "text": [
            "1024it [00:05, 202.74it/s]\n",
            "1014it [00:01, 673.35it/s]\n",
            "20it [00:00, 196.35it/s]"
          ],
          "name": "stderr"
        },
        {
          "output_type": "stream",
          "text": [
            "[ 316/1000] train_loss: 0.00105 valid_loss: 0.00335\n",
            "EarlyStopping counter: 6 out of 100\n"
          ],
          "name": "stdout"
        },
        {
          "output_type": "stream",
          "text": [
            "1024it [00:05, 202.14it/s]\n",
            "1014it [00:01, 691.33it/s]\n",
            "20it [00:00, 194.53it/s]"
          ],
          "name": "stderr"
        },
        {
          "output_type": "stream",
          "text": [
            "[ 317/1000] train_loss: 0.00130 valid_loss: 0.00468\n",
            "EarlyStopping counter: 7 out of 100\n"
          ],
          "name": "stdout"
        },
        {
          "output_type": "stream",
          "text": [
            "1024it [00:05, 198.54it/s]\n",
            "1014it [00:01, 666.95it/s]\n",
            "20it [00:00, 197.83it/s]"
          ],
          "name": "stderr"
        },
        {
          "output_type": "stream",
          "text": [
            "[ 318/1000] train_loss: 0.00151 valid_loss: 0.00376\n",
            "EarlyStopping counter: 8 out of 100\n"
          ],
          "name": "stdout"
        },
        {
          "output_type": "stream",
          "text": [
            "1024it [00:05, 201.42it/s]\n",
            "1014it [00:01, 675.31it/s]\n",
            "22it [00:00, 219.68it/s]"
          ],
          "name": "stderr"
        },
        {
          "output_type": "stream",
          "text": [
            "[ 319/1000] train_loss: 0.00161 valid_loss: 0.00363\n",
            "EarlyStopping counter: 9 out of 100\n"
          ],
          "name": "stdout"
        },
        {
          "output_type": "stream",
          "text": [
            "1024it [00:05, 199.64it/s]\n",
            "1014it [00:01, 669.55it/s]\n",
            "19it [00:00, 187.65it/s]"
          ],
          "name": "stderr"
        },
        {
          "output_type": "stream",
          "text": [
            "[ 320/1000] train_loss: 0.00109 valid_loss: 0.00350\n",
            "EarlyStopping counter: 10 out of 100\n"
          ],
          "name": "stdout"
        },
        {
          "output_type": "stream",
          "text": [
            "1024it [00:05, 201.98it/s]\n",
            "1014it [00:01, 661.57it/s]\n",
            "21it [00:00, 205.07it/s]"
          ],
          "name": "stderr"
        },
        {
          "output_type": "stream",
          "text": [
            "[ 321/1000] train_loss: 0.00119 valid_loss: 0.00356\n",
            "EarlyStopping counter: 11 out of 100\n"
          ],
          "name": "stdout"
        },
        {
          "output_type": "stream",
          "text": [
            "1024it [00:05, 201.43it/s]\n",
            "1014it [00:01, 668.99it/s]\n",
            "20it [00:00, 195.75it/s]"
          ],
          "name": "stderr"
        },
        {
          "output_type": "stream",
          "text": [
            "[ 322/1000] train_loss: 0.00124 valid_loss: 0.00561\n",
            "EarlyStopping counter: 12 out of 100\n"
          ],
          "name": "stdout"
        },
        {
          "output_type": "stream",
          "text": [
            "1024it [00:05, 200.14it/s]\n",
            "1014it [00:01, 671.76it/s]\n",
            "21it [00:00, 202.91it/s]"
          ],
          "name": "stderr"
        },
        {
          "output_type": "stream",
          "text": [
            "[ 323/1000] train_loss: 0.00187 valid_loss: 0.00587\n",
            "EarlyStopping counter: 13 out of 100\n"
          ],
          "name": "stdout"
        },
        {
          "output_type": "stream",
          "text": [
            "1024it [00:05, 200.91it/s]\n",
            "1014it [00:01, 650.72it/s]\n",
            "19it [00:00, 182.54it/s]"
          ],
          "name": "stderr"
        },
        {
          "output_type": "stream",
          "text": [
            "[ 324/1000] train_loss: 0.00166 valid_loss: 0.00517\n",
            "EarlyStopping counter: 14 out of 100\n"
          ],
          "name": "stdout"
        },
        {
          "output_type": "stream",
          "text": [
            "1024it [00:05, 198.26it/s]\n",
            "1014it [00:01, 685.66it/s]\n",
            "19it [00:00, 185.42it/s]"
          ],
          "name": "stderr"
        },
        {
          "output_type": "stream",
          "text": [
            "[ 325/1000] train_loss: 0.00132 valid_loss: 0.00416\n",
            "EarlyStopping counter: 15 out of 100\n"
          ],
          "name": "stdout"
        },
        {
          "output_type": "stream",
          "text": [
            "1024it [00:05, 201.87it/s]\n",
            "1014it [00:01, 672.47it/s]\n",
            "22it [00:00, 211.78it/s]"
          ],
          "name": "stderr"
        },
        {
          "output_type": "stream",
          "text": [
            "[ 326/1000] train_loss: 0.00128 valid_loss: 0.00283\n",
            "EarlyStopping counter: 16 out of 100\n"
          ],
          "name": "stdout"
        },
        {
          "output_type": "stream",
          "text": [
            "1024it [00:04, 205.00it/s]\n",
            "1014it [00:01, 681.73it/s]\n",
            "21it [00:00, 203.34it/s]"
          ],
          "name": "stderr"
        },
        {
          "output_type": "stream",
          "text": [
            "[ 327/1000] train_loss: 0.00106 valid_loss: 0.00329\n",
            "EarlyStopping counter: 17 out of 100\n"
          ],
          "name": "stdout"
        },
        {
          "output_type": "stream",
          "text": [
            "1024it [00:05, 197.91it/s]\n",
            "1014it [00:01, 682.13it/s]\n",
            "20it [00:00, 192.70it/s]"
          ],
          "name": "stderr"
        },
        {
          "output_type": "stream",
          "text": [
            "[ 328/1000] train_loss: 0.00135 valid_loss: 0.00426\n",
            "EarlyStopping counter: 18 out of 100\n"
          ],
          "name": "stdout"
        },
        {
          "output_type": "stream",
          "text": [
            "1024it [00:05, 201.63it/s]\n",
            "1014it [00:01, 659.63it/s]\n",
            "21it [00:00, 207.73it/s]"
          ],
          "name": "stderr"
        },
        {
          "output_type": "stream",
          "text": [
            "[ 329/1000] train_loss: 0.00162 valid_loss: 0.00392\n",
            "EarlyStopping counter: 19 out of 100\n"
          ],
          "name": "stdout"
        },
        {
          "output_type": "stream",
          "text": [
            "1024it [00:05, 198.53it/s]\n",
            "1014it [00:01, 674.53it/s]\n",
            "21it [00:00, 204.45it/s]"
          ],
          "name": "stderr"
        },
        {
          "output_type": "stream",
          "text": [
            "[ 330/1000] train_loss: 0.00159 valid_loss: 0.00308\n",
            "EarlyStopping counter: 20 out of 100\n"
          ],
          "name": "stdout"
        },
        {
          "output_type": "stream",
          "text": [
            "1024it [00:05, 204.06it/s]\n",
            "1014it [00:01, 681.00it/s]\n",
            "18it [00:00, 179.76it/s]"
          ],
          "name": "stderr"
        },
        {
          "output_type": "stream",
          "text": [
            "[ 331/1000] train_loss: 0.00115 valid_loss: 0.00265\n",
            "Validation loss decreased (0.002679 --> 0.002654).  Saving model ...\n"
          ],
          "name": "stdout"
        },
        {
          "output_type": "stream",
          "text": [
            "1024it [00:05, 195.84it/s]\n",
            "1014it [00:01, 679.80it/s]\n",
            "20it [00:00, 194.67it/s]"
          ],
          "name": "stderr"
        },
        {
          "output_type": "stream",
          "text": [
            "[ 332/1000] train_loss: 0.00132 valid_loss: 0.00242\n",
            "Validation loss decreased (0.002654 --> 0.002416).  Saving model ...\n"
          ],
          "name": "stdout"
        },
        {
          "output_type": "stream",
          "text": [
            "1024it [00:05, 198.06it/s]\n",
            "1014it [00:01, 686.21it/s]\n",
            "19it [00:00, 189.93it/s]"
          ],
          "name": "stderr"
        },
        {
          "output_type": "stream",
          "text": [
            "[ 333/1000] train_loss: 0.00096 valid_loss: 0.00257\n",
            "EarlyStopping counter: 1 out of 100\n"
          ],
          "name": "stdout"
        },
        {
          "output_type": "stream",
          "text": [
            "1024it [00:05, 200.80it/s]\n",
            "1014it [00:01, 654.35it/s]\n",
            "20it [00:00, 198.52it/s]"
          ],
          "name": "stderr"
        },
        {
          "output_type": "stream",
          "text": [
            "[ 334/1000] train_loss: 0.00168 valid_loss: 0.00256\n",
            "EarlyStopping counter: 2 out of 100\n"
          ],
          "name": "stdout"
        },
        {
          "output_type": "stream",
          "text": [
            "1024it [00:05, 197.24it/s]\n",
            "1014it [00:01, 676.53it/s]\n",
            "18it [00:00, 178.28it/s]"
          ],
          "name": "stderr"
        },
        {
          "output_type": "stream",
          "text": [
            "[ 335/1000] train_loss: 0.00135 valid_loss: 0.00326\n",
            "EarlyStopping counter: 3 out of 100\n"
          ],
          "name": "stdout"
        },
        {
          "output_type": "stream",
          "text": [
            "1024it [00:05, 200.03it/s]\n",
            "1014it [00:01, 680.28it/s]\n",
            "21it [00:00, 202.45it/s]"
          ],
          "name": "stderr"
        },
        {
          "output_type": "stream",
          "text": [
            "[ 336/1000] train_loss: 0.00083 valid_loss: 0.00287\n",
            "EarlyStopping counter: 4 out of 100\n"
          ],
          "name": "stdout"
        },
        {
          "output_type": "stream",
          "text": [
            "1024it [00:05, 200.42it/s]\n",
            "1014it [00:01, 681.50it/s]\n",
            "21it [00:00, 202.49it/s]"
          ],
          "name": "stderr"
        },
        {
          "output_type": "stream",
          "text": [
            "[ 337/1000] train_loss: 0.00084 valid_loss: 0.00357\n",
            "EarlyStopping counter: 5 out of 100\n"
          ],
          "name": "stdout"
        },
        {
          "output_type": "stream",
          "text": [
            "1024it [00:05, 200.08it/s]\n",
            "1014it [00:01, 679.37it/s]\n",
            "21it [00:00, 209.61it/s]"
          ],
          "name": "stderr"
        },
        {
          "output_type": "stream",
          "text": [
            "[ 338/1000] train_loss: 0.00133 valid_loss: 0.00479\n",
            "EarlyStopping counter: 6 out of 100\n"
          ],
          "name": "stdout"
        },
        {
          "output_type": "stream",
          "text": [
            "1024it [00:05, 203.33it/s]\n",
            "1014it [00:01, 650.86it/s]\n",
            "20it [00:00, 199.30it/s]"
          ],
          "name": "stderr"
        },
        {
          "output_type": "stream",
          "text": [
            "[ 339/1000] train_loss: 0.00157 valid_loss: 0.00499\n",
            "EarlyStopping counter: 7 out of 100\n"
          ],
          "name": "stdout"
        },
        {
          "output_type": "stream",
          "text": [
            "1024it [00:05, 192.07it/s]\n",
            "1014it [00:01, 653.00it/s]\n",
            "18it [00:00, 179.49it/s]"
          ],
          "name": "stderr"
        },
        {
          "output_type": "stream",
          "text": [
            "[ 340/1000] train_loss: 0.00155 valid_loss: 0.00515\n",
            "EarlyStopping counter: 8 out of 100\n"
          ],
          "name": "stdout"
        },
        {
          "output_type": "stream",
          "text": [
            "1024it [00:05, 191.87it/s]\n",
            "1014it [00:01, 676.56it/s]\n",
            "21it [00:00, 206.47it/s]"
          ],
          "name": "stderr"
        },
        {
          "output_type": "stream",
          "text": [
            "[ 341/1000] train_loss: 0.00172 valid_loss: 0.00593\n",
            "EarlyStopping counter: 9 out of 100\n"
          ],
          "name": "stdout"
        },
        {
          "output_type": "stream",
          "text": [
            "1024it [00:05, 203.15it/s]\n",
            "1014it [00:01, 679.26it/s]\n",
            "20it [00:00, 199.87it/s]"
          ],
          "name": "stderr"
        },
        {
          "output_type": "stream",
          "text": [
            "[ 342/1000] train_loss: 0.00225 valid_loss: 0.00485\n",
            "EarlyStopping counter: 10 out of 100\n"
          ],
          "name": "stdout"
        },
        {
          "output_type": "stream",
          "text": [
            "1024it [00:05, 201.03it/s]\n",
            "1014it [00:01, 676.92it/s]\n",
            "17it [00:00, 164.32it/s]"
          ],
          "name": "stderr"
        },
        {
          "output_type": "stream",
          "text": [
            "[ 343/1000] train_loss: 0.00178 valid_loss: 0.00376\n",
            "EarlyStopping counter: 11 out of 100\n"
          ],
          "name": "stdout"
        },
        {
          "output_type": "stream",
          "text": [
            "1024it [00:05, 203.58it/s]\n",
            "1014it [00:01, 661.17it/s]\n",
            "21it [00:00, 209.83it/s]"
          ],
          "name": "stderr"
        },
        {
          "output_type": "stream",
          "text": [
            "[ 344/1000] train_loss: 0.00150 valid_loss: 0.00307\n",
            "EarlyStopping counter: 12 out of 100\n"
          ],
          "name": "stdout"
        },
        {
          "output_type": "stream",
          "text": [
            "1024it [00:05, 200.09it/s]\n",
            "1014it [00:01, 674.71it/s]\n",
            "21it [00:00, 207.00it/s]"
          ],
          "name": "stderr"
        },
        {
          "output_type": "stream",
          "text": [
            "[ 345/1000] train_loss: 0.00176 valid_loss: 0.00449\n",
            "EarlyStopping counter: 13 out of 100\n"
          ],
          "name": "stdout"
        },
        {
          "output_type": "stream",
          "text": [
            "1024it [00:05, 202.05it/s]\n",
            "1014it [00:01, 668.28it/s]\n",
            "20it [00:00, 195.75it/s]"
          ],
          "name": "stderr"
        },
        {
          "output_type": "stream",
          "text": [
            "[ 346/1000] train_loss: 0.00170 valid_loss: 0.00404\n",
            "EarlyStopping counter: 14 out of 100\n"
          ],
          "name": "stdout"
        },
        {
          "output_type": "stream",
          "text": [
            "1024it [00:05, 200.31it/s]\n",
            "1014it [00:01, 672.60it/s]\n",
            "22it [00:00, 211.61it/s]"
          ],
          "name": "stderr"
        },
        {
          "output_type": "stream",
          "text": [
            "[ 347/1000] train_loss: 0.00167 valid_loss: 0.00300\n",
            "EarlyStopping counter: 15 out of 100\n"
          ],
          "name": "stdout"
        },
        {
          "output_type": "stream",
          "text": [
            "1024it [00:05, 200.47it/s]\n",
            "1014it [00:01, 667.21it/s]\n",
            "22it [00:00, 217.98it/s]"
          ],
          "name": "stderr"
        },
        {
          "output_type": "stream",
          "text": [
            "[ 348/1000] train_loss: 0.00109 valid_loss: 0.00302\n",
            "EarlyStopping counter: 16 out of 100\n"
          ],
          "name": "stdout"
        },
        {
          "output_type": "stream",
          "text": [
            "1024it [00:05, 201.12it/s]\n",
            "1014it [00:01, 662.10it/s]\n",
            "22it [00:00, 212.37it/s]"
          ],
          "name": "stderr"
        },
        {
          "output_type": "stream",
          "text": [
            "[ 349/1000] train_loss: 0.00108 valid_loss: 0.00263\n",
            "EarlyStopping counter: 17 out of 100\n"
          ],
          "name": "stdout"
        },
        {
          "output_type": "stream",
          "text": [
            "1024it [00:05, 201.11it/s]\n",
            "1014it [00:01, 683.50it/s]\n",
            "16it [00:00, 158.41it/s]"
          ],
          "name": "stderr"
        },
        {
          "output_type": "stream",
          "text": [
            "[ 350/1000] train_loss: 0.00113 valid_loss: 0.00285\n",
            "EarlyStopping counter: 18 out of 100\n"
          ],
          "name": "stdout"
        },
        {
          "output_type": "stream",
          "text": [
            "1024it [00:05, 198.14it/s]\n",
            "1014it [00:01, 676.29it/s]\n",
            "20it [00:00, 193.70it/s]"
          ],
          "name": "stderr"
        },
        {
          "output_type": "stream",
          "text": [
            "[ 351/1000] train_loss: 0.00136 valid_loss: 0.00279\n",
            "EarlyStopping counter: 19 out of 100\n"
          ],
          "name": "stdout"
        },
        {
          "output_type": "stream",
          "text": [
            "1024it [00:05, 201.53it/s]\n",
            "1014it [00:01, 665.03it/s]\n",
            "19it [00:00, 182.10it/s]"
          ],
          "name": "stderr"
        },
        {
          "output_type": "stream",
          "text": [
            "[ 352/1000] train_loss: 0.00098 valid_loss: 0.00168\n",
            "Validation loss decreased (0.002416 --> 0.001680).  Saving model ...\n"
          ],
          "name": "stdout"
        },
        {
          "output_type": "stream",
          "text": [
            "1024it [00:05, 198.38it/s]\n",
            "1014it [00:01, 661.47it/s]\n",
            "20it [00:00, 199.07it/s]"
          ],
          "name": "stderr"
        },
        {
          "output_type": "stream",
          "text": [
            "[ 353/1000] train_loss: 0.00103 valid_loss: 0.00315\n",
            "EarlyStopping counter: 1 out of 100\n"
          ],
          "name": "stdout"
        },
        {
          "output_type": "stream",
          "text": [
            "1024it [00:05, 200.90it/s]\n",
            "1014it [00:01, 678.52it/s]\n",
            "21it [00:00, 209.17it/s]"
          ],
          "name": "stderr"
        },
        {
          "output_type": "stream",
          "text": [
            "[ 354/1000] train_loss: 0.00127 valid_loss: 0.00397\n",
            "EarlyStopping counter: 2 out of 100\n"
          ],
          "name": "stdout"
        },
        {
          "output_type": "stream",
          "text": [
            "1024it [00:05, 198.32it/s]\n",
            "1014it [00:01, 667.32it/s]\n",
            "20it [00:00, 193.17it/s]"
          ],
          "name": "stderr"
        },
        {
          "output_type": "stream",
          "text": [
            "[ 355/1000] train_loss: 0.00164 valid_loss: 0.00352\n",
            "EarlyStopping counter: 3 out of 100\n"
          ],
          "name": "stdout"
        },
        {
          "output_type": "stream",
          "text": [
            "1024it [00:05, 201.91it/s]\n",
            "1014it [00:01, 666.11it/s]\n",
            "21it [00:00, 207.19it/s]"
          ],
          "name": "stderr"
        },
        {
          "output_type": "stream",
          "text": [
            "[ 356/1000] train_loss: 0.00134 valid_loss: 0.00280\n",
            "EarlyStopping counter: 4 out of 100\n"
          ],
          "name": "stdout"
        },
        {
          "output_type": "stream",
          "text": [
            "1024it [00:05, 198.45it/s]\n",
            "1014it [00:01, 673.08it/s]\n",
            "19it [00:00, 182.97it/s]"
          ],
          "name": "stderr"
        },
        {
          "output_type": "stream",
          "text": [
            "[ 357/1000] train_loss: 0.00129 valid_loss: 0.00230\n",
            "EarlyStopping counter: 5 out of 100\n"
          ],
          "name": "stdout"
        },
        {
          "output_type": "stream",
          "text": [
            "1024it [00:05, 198.75it/s]\n",
            "1014it [00:01, 679.60it/s]\n",
            "21it [00:00, 202.33it/s]"
          ],
          "name": "stderr"
        },
        {
          "output_type": "stream",
          "text": [
            "[ 358/1000] train_loss: 0.00149 valid_loss: 0.00257\n",
            "EarlyStopping counter: 6 out of 100\n"
          ],
          "name": "stdout"
        },
        {
          "output_type": "stream",
          "text": [
            "1024it [00:05, 202.42it/s]\n",
            "1014it [00:01, 672.69it/s]\n",
            "22it [00:00, 214.27it/s]"
          ],
          "name": "stderr"
        },
        {
          "output_type": "stream",
          "text": [
            "[ 359/1000] train_loss: 0.00093 valid_loss: 0.00198\n",
            "EarlyStopping counter: 7 out of 100\n"
          ],
          "name": "stdout"
        },
        {
          "output_type": "stream",
          "text": [
            "1024it [00:05, 199.70it/s]\n",
            "1014it [00:01, 672.44it/s]\n",
            "22it [00:00, 213.03it/s]"
          ],
          "name": "stderr"
        },
        {
          "output_type": "stream",
          "text": [
            "[ 360/1000] train_loss: 0.00096 valid_loss: 0.00253\n",
            "EarlyStopping counter: 8 out of 100\n"
          ],
          "name": "stdout"
        },
        {
          "output_type": "stream",
          "text": [
            "1024it [00:05, 201.28it/s]\n",
            "1014it [00:01, 662.05it/s]\n",
            "20it [00:00, 195.55it/s]"
          ],
          "name": "stderr"
        },
        {
          "output_type": "stream",
          "text": [
            "[ 361/1000] train_loss: 0.00120 valid_loss: 0.00417\n",
            "EarlyStopping counter: 9 out of 100\n"
          ],
          "name": "stdout"
        },
        {
          "output_type": "stream",
          "text": [
            "1024it [00:05, 202.17it/s]\n",
            "1014it [00:01, 669.53it/s]\n",
            "19it [00:00, 184.72it/s]"
          ],
          "name": "stderr"
        },
        {
          "output_type": "stream",
          "text": [
            "[ 362/1000] train_loss: 0.00146 valid_loss: 0.00488\n",
            "EarlyStopping counter: 10 out of 100\n"
          ],
          "name": "stdout"
        },
        {
          "output_type": "stream",
          "text": [
            "1024it [00:05, 199.51it/s]\n",
            "1014it [00:01, 683.06it/s]\n",
            "19it [00:00, 188.42it/s]"
          ],
          "name": "stderr"
        },
        {
          "output_type": "stream",
          "text": [
            "[ 363/1000] train_loss: 0.00157 valid_loss: 0.00436\n",
            "EarlyStopping counter: 11 out of 100\n"
          ],
          "name": "stdout"
        },
        {
          "output_type": "stream",
          "text": [
            "1024it [00:05, 202.88it/s]\n",
            "1014it [00:01, 671.61it/s]\n",
            "21it [00:00, 207.60it/s]"
          ],
          "name": "stderr"
        },
        {
          "output_type": "stream",
          "text": [
            "[ 364/1000] train_loss: 0.00139 valid_loss: 0.00332\n",
            "EarlyStopping counter: 12 out of 100\n"
          ],
          "name": "stdout"
        },
        {
          "output_type": "stream",
          "text": [
            "1024it [00:05, 204.41it/s]\n",
            "1014it [00:01, 686.96it/s]\n",
            "21it [00:00, 197.40it/s]"
          ],
          "name": "stderr"
        },
        {
          "output_type": "stream",
          "text": [
            "[ 365/1000] train_loss: 0.00090 valid_loss: 0.00372\n",
            "EarlyStopping counter: 13 out of 100\n"
          ],
          "name": "stdout"
        },
        {
          "output_type": "stream",
          "text": [
            "1024it [00:05, 202.34it/s]\n",
            "1014it [00:01, 671.93it/s]\n",
            "21it [00:00, 208.11it/s]"
          ],
          "name": "stderr"
        },
        {
          "output_type": "stream",
          "text": [
            "[ 366/1000] train_loss: 0.00127 valid_loss: 0.00304\n",
            "EarlyStopping counter: 14 out of 100\n"
          ],
          "name": "stdout"
        },
        {
          "output_type": "stream",
          "text": [
            "1024it [00:05, 204.50it/s]\n",
            "1014it [00:01, 682.68it/s]\n",
            "21it [00:00, 203.62it/s]"
          ],
          "name": "stderr"
        },
        {
          "output_type": "stream",
          "text": [
            "[ 367/1000] train_loss: 0.00136 valid_loss: 0.00280\n",
            "EarlyStopping counter: 15 out of 100\n"
          ],
          "name": "stdout"
        },
        {
          "output_type": "stream",
          "text": [
            "1024it [00:05, 199.87it/s]\n",
            "1014it [00:01, 667.73it/s]\n",
            "18it [00:00, 172.41it/s]"
          ],
          "name": "stderr"
        },
        {
          "output_type": "stream",
          "text": [
            "[ 368/1000] train_loss: 0.00186 valid_loss: 0.00349\n",
            "EarlyStopping counter: 16 out of 100\n"
          ],
          "name": "stdout"
        },
        {
          "output_type": "stream",
          "text": [
            "1024it [00:05, 201.42it/s]\n",
            "1014it [00:01, 679.09it/s]\n",
            "21it [00:00, 208.12it/s]"
          ],
          "name": "stderr"
        },
        {
          "output_type": "stream",
          "text": [
            "[ 369/1000] train_loss: 0.00154 valid_loss: 0.00263\n",
            "EarlyStopping counter: 17 out of 100\n"
          ],
          "name": "stdout"
        },
        {
          "output_type": "stream",
          "text": [
            "1024it [00:05, 203.71it/s]\n",
            "1014it [00:01, 648.85it/s]\n",
            "21it [00:00, 203.60it/s]"
          ],
          "name": "stderr"
        },
        {
          "output_type": "stream",
          "text": [
            "[ 370/1000] train_loss: 0.00125 valid_loss: 0.00218\n",
            "EarlyStopping counter: 18 out of 100\n"
          ],
          "name": "stdout"
        },
        {
          "output_type": "stream",
          "text": [
            "1024it [00:05, 201.26it/s]\n",
            "1014it [00:01, 672.56it/s]\n",
            "21it [00:00, 203.33it/s]"
          ],
          "name": "stderr"
        },
        {
          "output_type": "stream",
          "text": [
            "[ 371/1000] train_loss: 0.00145 valid_loss: 0.00221\n",
            "EarlyStopping counter: 19 out of 100\n"
          ],
          "name": "stdout"
        },
        {
          "output_type": "stream",
          "text": [
            "1024it [00:05, 199.86it/s]\n",
            "1014it [00:01, 674.63it/s]\n",
            "21it [00:00, 204.61it/s]"
          ],
          "name": "stderr"
        },
        {
          "output_type": "stream",
          "text": [
            "[ 372/1000] train_loss: 0.00151 valid_loss: 0.00284\n",
            "EarlyStopping counter: 20 out of 100\n"
          ],
          "name": "stdout"
        },
        {
          "output_type": "stream",
          "text": [
            "1024it [00:05, 202.54it/s]\n",
            "1014it [00:01, 653.41it/s]\n",
            "21it [00:00, 205.67it/s]"
          ],
          "name": "stderr"
        },
        {
          "output_type": "stream",
          "text": [
            "[ 373/1000] train_loss: 0.00114 valid_loss: 0.00190\n",
            "EarlyStopping counter: 21 out of 100\n"
          ],
          "name": "stdout"
        },
        {
          "output_type": "stream",
          "text": [
            "1024it [00:05, 201.71it/s]\n",
            "1014it [00:01, 666.40it/s]\n",
            "20it [00:00, 197.08it/s]"
          ],
          "name": "stderr"
        },
        {
          "output_type": "stream",
          "text": [
            "[ 374/1000] train_loss: 0.00086 valid_loss: 0.00188\n",
            "EarlyStopping counter: 22 out of 100\n"
          ],
          "name": "stdout"
        },
        {
          "output_type": "stream",
          "text": [
            "1024it [00:05, 198.71it/s]\n",
            "1014it [00:01, 670.94it/s]\n",
            "19it [00:00, 185.54it/s]"
          ],
          "name": "stderr"
        },
        {
          "output_type": "stream",
          "text": [
            "[ 375/1000] train_loss: 0.00099 valid_loss: 0.00216\n",
            "EarlyStopping counter: 23 out of 100\n"
          ],
          "name": "stdout"
        },
        {
          "output_type": "stream",
          "text": [
            "1024it [00:05, 200.49it/s]\n",
            "1014it [00:01, 671.42it/s]\n",
            "21it [00:00, 199.84it/s]"
          ],
          "name": "stderr"
        },
        {
          "output_type": "stream",
          "text": [
            "[ 376/1000] train_loss: 0.00106 valid_loss: 0.00176\n",
            "EarlyStopping counter: 24 out of 100\n"
          ],
          "name": "stdout"
        },
        {
          "output_type": "stream",
          "text": [
            "1024it [00:05, 198.02it/s]\n",
            "1014it [00:01, 680.87it/s]\n",
            "21it [00:00, 201.99it/s]"
          ],
          "name": "stderr"
        },
        {
          "output_type": "stream",
          "text": [
            "[ 377/1000] train_loss: 0.00145 valid_loss: 0.00294\n",
            "EarlyStopping counter: 25 out of 100\n"
          ],
          "name": "stdout"
        },
        {
          "output_type": "stream",
          "text": [
            "1024it [00:05, 200.18it/s]\n",
            "1014it [00:01, 670.11it/s]\n",
            "22it [00:00, 211.43it/s]"
          ],
          "name": "stderr"
        },
        {
          "output_type": "stream",
          "text": [
            "[ 378/1000] train_loss: 0.00166 valid_loss: 0.00323\n",
            "EarlyStopping counter: 26 out of 100\n"
          ],
          "name": "stdout"
        },
        {
          "output_type": "stream",
          "text": [
            "1024it [00:05, 197.17it/s]\n",
            "1014it [00:01, 678.29it/s]\n",
            "20it [00:00, 199.69it/s]"
          ],
          "name": "stderr"
        },
        {
          "output_type": "stream",
          "text": [
            "[ 379/1000] train_loss: 0.00152 valid_loss: 0.00227\n",
            "EarlyStopping counter: 27 out of 100\n"
          ],
          "name": "stdout"
        },
        {
          "output_type": "stream",
          "text": [
            "1024it [00:05, 198.92it/s]\n",
            "1014it [00:01, 626.42it/s]\n",
            "21it [00:00, 201.56it/s]"
          ],
          "name": "stderr"
        },
        {
          "output_type": "stream",
          "text": [
            "[ 380/1000] train_loss: 0.00127 valid_loss: 0.00205\n",
            "EarlyStopping counter: 28 out of 100\n"
          ],
          "name": "stdout"
        },
        {
          "output_type": "stream",
          "text": [
            "1024it [00:05, 199.67it/s]\n",
            "1014it [00:01, 678.85it/s]\n",
            "23it [00:00, 221.48it/s]"
          ],
          "name": "stderr"
        },
        {
          "output_type": "stream",
          "text": [
            "[ 381/1000] train_loss: 0.00114 valid_loss: 0.00201\n",
            "EarlyStopping counter: 29 out of 100\n"
          ],
          "name": "stdout"
        },
        {
          "output_type": "stream",
          "text": [
            "1024it [00:04, 208.49it/s]\n",
            "1014it [00:01, 699.60it/s]\n",
            "22it [00:00, 213.71it/s]"
          ],
          "name": "stderr"
        },
        {
          "output_type": "stream",
          "text": [
            "[ 382/1000] train_loss: 0.00108 valid_loss: 0.00217\n",
            "EarlyStopping counter: 30 out of 100\n"
          ],
          "name": "stdout"
        },
        {
          "output_type": "stream",
          "text": [
            "1024it [00:05, 198.70it/s]\n",
            "1014it [00:01, 693.80it/s]\n",
            "22it [00:00, 215.98it/s]"
          ],
          "name": "stderr"
        },
        {
          "output_type": "stream",
          "text": [
            "[ 383/1000] train_loss: 0.00109 valid_loss: 0.00248\n",
            "EarlyStopping counter: 31 out of 100\n"
          ],
          "name": "stdout"
        },
        {
          "output_type": "stream",
          "text": [
            "1024it [00:04, 207.96it/s]\n",
            "1014it [00:01, 688.59it/s]\n",
            "21it [00:00, 201.90it/s]"
          ],
          "name": "stderr"
        },
        {
          "output_type": "stream",
          "text": [
            "[ 384/1000] train_loss: 0.00207 valid_loss: 0.00274\n",
            "EarlyStopping counter: 32 out of 100\n"
          ],
          "name": "stdout"
        },
        {
          "output_type": "stream",
          "text": [
            "1024it [00:05, 202.97it/s]\n",
            "1014it [00:01, 683.96it/s]\n",
            "22it [00:00, 210.85it/s]"
          ],
          "name": "stderr"
        },
        {
          "output_type": "stream",
          "text": [
            "[ 385/1000] train_loss: 0.00140 valid_loss: 0.00199\n",
            "EarlyStopping counter: 33 out of 100\n"
          ],
          "name": "stdout"
        },
        {
          "output_type": "stream",
          "text": [
            "1024it [00:04, 207.12it/s]\n",
            "1014it [00:01, 655.53it/s]\n",
            "21it [00:00, 201.06it/s]"
          ],
          "name": "stderr"
        },
        {
          "output_type": "stream",
          "text": [
            "[ 386/1000] train_loss: 0.00112 valid_loss: 0.00239\n",
            "EarlyStopping counter: 34 out of 100\n"
          ],
          "name": "stdout"
        },
        {
          "output_type": "stream",
          "text": [
            "1024it [00:05, 194.97it/s]\n",
            "1014it [00:01, 680.77it/s]\n",
            "21it [00:00, 208.37it/s]"
          ],
          "name": "stderr"
        },
        {
          "output_type": "stream",
          "text": [
            "[ 387/1000] train_loss: 0.00106 valid_loss: 0.00183\n",
            "EarlyStopping counter: 35 out of 100\n"
          ],
          "name": "stdout"
        },
        {
          "output_type": "stream",
          "text": [
            "1024it [00:05, 197.09it/s]\n",
            "1014it [00:01, 687.91it/s]\n",
            "22it [00:00, 219.54it/s]"
          ],
          "name": "stderr"
        },
        {
          "output_type": "stream",
          "text": [
            "[ 388/1000] train_loss: 0.00087 valid_loss: 0.00184\n",
            "EarlyStopping counter: 36 out of 100\n"
          ],
          "name": "stdout"
        },
        {
          "output_type": "stream",
          "text": [
            "1024it [00:04, 206.80it/s]\n",
            "1014it [00:01, 704.81it/s]\n",
            "22it [00:00, 214.54it/s]"
          ],
          "name": "stderr"
        },
        {
          "output_type": "stream",
          "text": [
            "[ 389/1000] train_loss: 0.00104 valid_loss: 0.00179\n",
            "EarlyStopping counter: 37 out of 100\n"
          ],
          "name": "stdout"
        },
        {
          "output_type": "stream",
          "text": [
            "1024it [00:04, 208.20it/s]\n",
            "1014it [00:01, 679.61it/s]\n",
            "21it [00:00, 206.36it/s]"
          ],
          "name": "stderr"
        },
        {
          "output_type": "stream",
          "text": [
            "[ 390/1000] train_loss: 0.00141 valid_loss: 0.00259\n",
            "EarlyStopping counter: 38 out of 100\n"
          ],
          "name": "stdout"
        },
        {
          "output_type": "stream",
          "text": [
            "1024it [00:05, 202.81it/s]\n",
            "1014it [00:01, 670.59it/s]\n",
            "21it [00:00, 206.54it/s]"
          ],
          "name": "stderr"
        },
        {
          "output_type": "stream",
          "text": [
            "[ 391/1000] train_loss: 0.00122 valid_loss: 0.00255\n",
            "EarlyStopping counter: 39 out of 100\n"
          ],
          "name": "stdout"
        },
        {
          "output_type": "stream",
          "text": [
            "1024it [00:05, 198.52it/s]\n",
            "1014it [00:01, 658.96it/s]\n",
            "18it [00:00, 178.64it/s]"
          ],
          "name": "stderr"
        },
        {
          "output_type": "stream",
          "text": [
            "[ 392/1000] train_loss: 0.00115 valid_loss: 0.00243\n",
            "EarlyStopping counter: 40 out of 100\n"
          ],
          "name": "stdout"
        },
        {
          "output_type": "stream",
          "text": [
            "1024it [00:05, 200.30it/s]\n",
            "1014it [00:01, 690.49it/s]\n",
            "20it [00:00, 196.35it/s]"
          ],
          "name": "stderr"
        },
        {
          "output_type": "stream",
          "text": [
            "[ 393/1000] train_loss: 0.00110 valid_loss: 0.00313\n",
            "EarlyStopping counter: 41 out of 100\n"
          ],
          "name": "stdout"
        },
        {
          "output_type": "stream",
          "text": [
            "1024it [00:05, 199.66it/s]\n",
            "1014it [00:01, 668.93it/s]\n",
            "19it [00:00, 188.02it/s]"
          ],
          "name": "stderr"
        },
        {
          "output_type": "stream",
          "text": [
            "[ 394/1000] train_loss: 0.00132 valid_loss: 0.00298\n",
            "EarlyStopping counter: 42 out of 100\n"
          ],
          "name": "stdout"
        },
        {
          "output_type": "stream",
          "text": [
            "1024it [00:05, 199.78it/s]\n",
            "1014it [00:01, 648.84it/s]\n",
            "21it [00:00, 208.48it/s]"
          ],
          "name": "stderr"
        },
        {
          "output_type": "stream",
          "text": [
            "[ 395/1000] train_loss: 0.00181 valid_loss: 0.00284\n",
            "EarlyStopping counter: 43 out of 100\n"
          ],
          "name": "stdout"
        },
        {
          "output_type": "stream",
          "text": [
            "1024it [00:05, 199.50it/s]\n",
            "1014it [00:01, 659.81it/s]\n",
            "21it [00:00, 207.62it/s]"
          ],
          "name": "stderr"
        },
        {
          "output_type": "stream",
          "text": [
            "[ 396/1000] train_loss: 0.00123 valid_loss: 0.00268\n",
            "EarlyStopping counter: 44 out of 100\n"
          ],
          "name": "stdout"
        },
        {
          "output_type": "stream",
          "text": [
            "1024it [00:05, 200.24it/s]\n",
            "1014it [00:01, 653.25it/s]\n",
            "22it [00:00, 211.02it/s]"
          ],
          "name": "stderr"
        },
        {
          "output_type": "stream",
          "text": [
            "[ 397/1000] train_loss: 0.00132 valid_loss: 0.00326\n",
            "EarlyStopping counter: 45 out of 100\n"
          ],
          "name": "stdout"
        },
        {
          "output_type": "stream",
          "text": [
            "1024it [00:05, 199.92it/s]\n",
            "1014it [00:01, 664.32it/s]\n",
            "21it [00:00, 207.05it/s]"
          ],
          "name": "stderr"
        },
        {
          "output_type": "stream",
          "text": [
            "[ 398/1000] train_loss: 0.00148 valid_loss: 0.00307\n",
            "EarlyStopping counter: 46 out of 100\n"
          ],
          "name": "stdout"
        },
        {
          "output_type": "stream",
          "text": [
            "1024it [00:05, 197.84it/s]\n",
            "1014it [00:01, 668.40it/s]\n",
            "21it [00:00, 205.59it/s]"
          ],
          "name": "stderr"
        },
        {
          "output_type": "stream",
          "text": [
            "[ 399/1000] train_loss: 0.00104 valid_loss: 0.00235\n",
            "EarlyStopping counter: 47 out of 100\n"
          ],
          "name": "stdout"
        },
        {
          "output_type": "stream",
          "text": [
            "1024it [00:05, 201.26it/s]\n",
            "1014it [00:01, 664.81it/s]\n",
            "21it [00:00, 202.20it/s]"
          ],
          "name": "stderr"
        },
        {
          "output_type": "stream",
          "text": [
            "[ 400/1000] train_loss: 0.00101 valid_loss: 0.00188\n",
            "EarlyStopping counter: 48 out of 100\n"
          ],
          "name": "stdout"
        },
        {
          "output_type": "stream",
          "text": [
            "1024it [00:05, 200.69it/s]\n",
            "1014it [00:01, 679.24it/s]\n",
            "22it [00:00, 217.11it/s]"
          ],
          "name": "stderr"
        },
        {
          "output_type": "stream",
          "text": [
            "[ 401/1000] train_loss: 0.00091 valid_loss: 0.00182\n",
            "EarlyStopping counter: 49 out of 100\n"
          ],
          "name": "stdout"
        },
        {
          "output_type": "stream",
          "text": [
            "1024it [00:05, 202.34it/s]\n",
            "1014it [00:01, 672.69it/s]\n",
            "20it [00:00, 197.60it/s]"
          ],
          "name": "stderr"
        },
        {
          "output_type": "stream",
          "text": [
            "[ 402/1000] train_loss: 0.00131 valid_loss: 0.00345\n",
            "EarlyStopping counter: 50 out of 100\n"
          ],
          "name": "stdout"
        },
        {
          "output_type": "stream",
          "text": [
            "1024it [00:05, 199.11it/s]\n",
            "1014it [00:01, 663.50it/s]\n",
            "20it [00:00, 191.98it/s]"
          ],
          "name": "stderr"
        },
        {
          "output_type": "stream",
          "text": [
            "[ 403/1000] train_loss: 0.00229 valid_loss: 0.00367\n",
            "EarlyStopping counter: 51 out of 100\n"
          ],
          "name": "stdout"
        },
        {
          "output_type": "stream",
          "text": [
            "1024it [00:05, 197.36it/s]\n",
            "1014it [00:01, 679.76it/s]\n",
            "21it [00:00, 207.66it/s]"
          ],
          "name": "stderr"
        },
        {
          "output_type": "stream",
          "text": [
            "[ 404/1000] train_loss: 0.00139 valid_loss: 0.00222\n",
            "EarlyStopping counter: 52 out of 100\n"
          ],
          "name": "stdout"
        },
        {
          "output_type": "stream",
          "text": [
            "1024it [00:05, 202.76it/s]\n",
            "1014it [00:01, 681.00it/s]\n",
            "16it [00:00, 159.71it/s]"
          ],
          "name": "stderr"
        },
        {
          "output_type": "stream",
          "text": [
            "[ 405/1000] train_loss: 0.00089 valid_loss: 0.00175\n",
            "EarlyStopping counter: 53 out of 100\n"
          ],
          "name": "stdout"
        },
        {
          "output_type": "stream",
          "text": [
            "1024it [00:05, 203.07it/s]\n",
            "1014it [00:01, 693.61it/s]\n",
            "21it [00:00, 205.59it/s]"
          ],
          "name": "stderr"
        },
        {
          "output_type": "stream",
          "text": [
            "[ 406/1000] train_loss: 0.00109 valid_loss: 0.00167\n",
            "EarlyStopping counter: 54 out of 100\n"
          ],
          "name": "stdout"
        },
        {
          "output_type": "stream",
          "text": [
            "1024it [00:05, 200.21it/s]\n",
            "1014it [00:01, 682.00it/s]\n",
            "22it [00:00, 211.40it/s]"
          ],
          "name": "stderr"
        },
        {
          "output_type": "stream",
          "text": [
            "[ 407/1000] train_loss: 0.00114 valid_loss: 0.00158\n",
            "Validation loss decreased (0.001680 --> 0.001583).  Saving model ...\n"
          ],
          "name": "stdout"
        },
        {
          "output_type": "stream",
          "text": [
            "1024it [00:05, 203.07it/s]\n",
            "1014it [00:01, 661.97it/s]\n",
            "21it [00:00, 207.96it/s]"
          ],
          "name": "stderr"
        },
        {
          "output_type": "stream",
          "text": [
            "[ 408/1000] train_loss: 0.00099 valid_loss: 0.00158\n",
            "EarlyStopping counter: 1 out of 100\n"
          ],
          "name": "stdout"
        },
        {
          "output_type": "stream",
          "text": [
            "1024it [00:05, 203.09it/s]\n",
            "1014it [00:01, 718.38it/s]\n",
            "22it [00:00, 212.79it/s]"
          ],
          "name": "stderr"
        },
        {
          "output_type": "stream",
          "text": [
            "[ 409/1000] train_loss: 0.00096 valid_loss: 0.00161\n",
            "EarlyStopping counter: 2 out of 100\n"
          ],
          "name": "stdout"
        },
        {
          "output_type": "stream",
          "text": [
            "1024it [00:05, 202.49it/s]\n",
            "1014it [00:01, 661.63it/s]\n",
            "21it [00:00, 205.60it/s]"
          ],
          "name": "stderr"
        },
        {
          "output_type": "stream",
          "text": [
            "[ 410/1000] train_loss: 0.00113 valid_loss: 0.00217\n",
            "EarlyStopping counter: 3 out of 100\n"
          ],
          "name": "stdout"
        },
        {
          "output_type": "stream",
          "text": [
            "1024it [00:05, 203.21it/s]\n",
            "1014it [00:01, 685.98it/s]\n",
            "21it [00:00, 205.45it/s]"
          ],
          "name": "stderr"
        },
        {
          "output_type": "stream",
          "text": [
            "[ 411/1000] train_loss: 0.00086 valid_loss: 0.00205\n",
            "EarlyStopping counter: 4 out of 100\n"
          ],
          "name": "stdout"
        },
        {
          "output_type": "stream",
          "text": [
            "1024it [00:05, 198.82it/s]\n",
            "1014it [00:01, 672.67it/s]\n",
            "22it [00:00, 212.40it/s]"
          ],
          "name": "stderr"
        },
        {
          "output_type": "stream",
          "text": [
            "[ 412/1000] train_loss: 0.00108 valid_loss: 0.00310\n",
            "EarlyStopping counter: 5 out of 100\n"
          ],
          "name": "stdout"
        },
        {
          "output_type": "stream",
          "text": [
            "1024it [00:05, 199.93it/s]\n",
            "1014it [00:01, 678.90it/s]\n",
            "19it [00:00, 186.92it/s]"
          ],
          "name": "stderr"
        },
        {
          "output_type": "stream",
          "text": [
            "[ 413/1000] train_loss: 0.00133 valid_loss: 0.00219\n",
            "EarlyStopping counter: 6 out of 100\n"
          ],
          "name": "stdout"
        },
        {
          "output_type": "stream",
          "text": [
            "1024it [00:05, 201.60it/s]\n",
            "1014it [00:01, 669.35it/s]\n",
            "20it [00:00, 193.78it/s]"
          ],
          "name": "stderr"
        },
        {
          "output_type": "stream",
          "text": [
            "[ 414/1000] train_loss: 0.00118 valid_loss: 0.00194\n",
            "EarlyStopping counter: 7 out of 100\n"
          ],
          "name": "stdout"
        },
        {
          "output_type": "stream",
          "text": [
            "1024it [00:05, 200.50it/s]\n",
            "1014it [00:01, 681.88it/s]\n",
            "20it [00:00, 199.82it/s]"
          ],
          "name": "stderr"
        },
        {
          "output_type": "stream",
          "text": [
            "[ 415/1000] train_loss: 0.00119 valid_loss: 0.00208\n",
            "EarlyStopping counter: 8 out of 100\n"
          ],
          "name": "stdout"
        },
        {
          "output_type": "stream",
          "text": [
            "1024it [00:05, 204.00it/s]\n",
            "1014it [00:01, 689.09it/s]\n",
            "22it [00:00, 213.95it/s]"
          ],
          "name": "stderr"
        },
        {
          "output_type": "stream",
          "text": [
            "[ 416/1000] train_loss: 0.00105 valid_loss: 0.00156\n",
            "Validation loss decreased (0.001583 --> 0.001558).  Saving model ...\n"
          ],
          "name": "stdout"
        },
        {
          "output_type": "stream",
          "text": [
            "1024it [00:05, 198.75it/s]\n",
            "1014it [00:01, 676.56it/s]\n",
            "21it [00:00, 201.83it/s]"
          ],
          "name": "stderr"
        },
        {
          "output_type": "stream",
          "text": [
            "[ 417/1000] train_loss: 0.00078 valid_loss: 0.00142\n",
            "Validation loss decreased (0.001558 --> 0.001416).  Saving model ...\n"
          ],
          "name": "stdout"
        },
        {
          "output_type": "stream",
          "text": [
            "1024it [00:05, 202.74it/s]\n",
            "1014it [00:01, 657.43it/s]\n",
            "21it [00:00, 203.96it/s]"
          ],
          "name": "stderr"
        },
        {
          "output_type": "stream",
          "text": [
            "[ 418/1000] train_loss: 0.00111 valid_loss: 0.00182\n",
            "EarlyStopping counter: 1 out of 100\n"
          ],
          "name": "stdout"
        },
        {
          "output_type": "stream",
          "text": [
            "1024it [00:05, 201.76it/s]\n",
            "1014it [00:01, 675.67it/s]\n",
            "20it [00:00, 199.61it/s]"
          ],
          "name": "stderr"
        },
        {
          "output_type": "stream",
          "text": [
            "[ 419/1000] train_loss: 0.00132 valid_loss: 0.00170\n",
            "EarlyStopping counter: 2 out of 100\n"
          ],
          "name": "stdout"
        },
        {
          "output_type": "stream",
          "text": [
            "1024it [00:05, 200.63it/s]\n",
            "1014it [00:01, 702.34it/s]\n",
            "21it [00:00, 208.20it/s]"
          ],
          "name": "stderr"
        },
        {
          "output_type": "stream",
          "text": [
            "[ 420/1000] train_loss: 0.00088 valid_loss: 0.00132\n",
            "Validation loss decreased (0.001416 --> 0.001319).  Saving model ...\n"
          ],
          "name": "stdout"
        },
        {
          "output_type": "stream",
          "text": [
            "1024it [00:05, 202.51it/s]\n",
            "1014it [00:01, 687.59it/s]\n",
            "21it [00:00, 205.74it/s]"
          ],
          "name": "stderr"
        },
        {
          "output_type": "stream",
          "text": [
            "[ 421/1000] train_loss: 0.00082 valid_loss: 0.00182\n",
            "EarlyStopping counter: 1 out of 100\n"
          ],
          "name": "stdout"
        },
        {
          "output_type": "stream",
          "text": [
            "1024it [00:05, 201.10it/s]\n",
            "1014it [00:01, 693.08it/s]\n",
            "20it [00:00, 193.48it/s]"
          ],
          "name": "stderr"
        },
        {
          "output_type": "stream",
          "text": [
            "[ 422/1000] train_loss: 0.00101 valid_loss: 0.00154\n",
            "EarlyStopping counter: 2 out of 100\n"
          ],
          "name": "stdout"
        },
        {
          "output_type": "stream",
          "text": [
            "1024it [00:05, 197.97it/s]\n",
            "1014it [00:01, 679.74it/s]\n",
            "22it [00:00, 212.28it/s]"
          ],
          "name": "stderr"
        },
        {
          "output_type": "stream",
          "text": [
            "[ 423/1000] train_loss: 0.00075 valid_loss: 0.00138\n",
            "EarlyStopping counter: 3 out of 100\n"
          ],
          "name": "stdout"
        },
        {
          "output_type": "stream",
          "text": [
            "1024it [00:05, 200.42it/s]\n",
            "1014it [00:01, 681.55it/s]\n",
            "21it [00:00, 202.58it/s]"
          ],
          "name": "stderr"
        },
        {
          "output_type": "stream",
          "text": [
            "[ 424/1000] train_loss: 0.00109 valid_loss: 0.00161\n",
            "EarlyStopping counter: 4 out of 100\n"
          ],
          "name": "stdout"
        },
        {
          "output_type": "stream",
          "text": [
            "1024it [00:04, 205.91it/s]\n",
            "1014it [00:01, 671.47it/s]\n",
            "21it [00:00, 209.34it/s]"
          ],
          "name": "stderr"
        },
        {
          "output_type": "stream",
          "text": [
            "[ 425/1000] train_loss: 0.00099 valid_loss: 0.00352\n",
            "EarlyStopping counter: 5 out of 100\n"
          ],
          "name": "stdout"
        },
        {
          "output_type": "stream",
          "text": [
            "1024it [00:05, 198.18it/s]\n",
            "1014it [00:01, 653.03it/s]\n",
            "20it [00:00, 198.94it/s]"
          ],
          "name": "stderr"
        },
        {
          "output_type": "stream",
          "text": [
            "[ 426/1000] train_loss: 0.00122 valid_loss: 0.00203\n",
            "EarlyStopping counter: 6 out of 100\n"
          ],
          "name": "stdout"
        },
        {
          "output_type": "stream",
          "text": [
            "1024it [00:05, 194.96it/s]\n",
            "1014it [00:01, 674.49it/s]\n",
            "20it [00:00, 197.52it/s]"
          ],
          "name": "stderr"
        },
        {
          "output_type": "stream",
          "text": [
            "[ 427/1000] train_loss: 0.00097 valid_loss: 0.00169\n",
            "EarlyStopping counter: 7 out of 100\n"
          ],
          "name": "stdout"
        },
        {
          "output_type": "stream",
          "text": [
            "1024it [00:05, 201.34it/s]\n",
            "1014it [00:01, 683.00it/s]\n",
            "20it [00:00, 193.36it/s]"
          ],
          "name": "stderr"
        },
        {
          "output_type": "stream",
          "text": [
            "[ 428/1000] train_loss: 0.00086 valid_loss: 0.00180\n",
            "EarlyStopping counter: 8 out of 100\n"
          ],
          "name": "stdout"
        },
        {
          "output_type": "stream",
          "text": [
            "1024it [00:05, 200.17it/s]\n",
            "1014it [00:01, 682.35it/s]\n",
            "20it [00:00, 198.91it/s]"
          ],
          "name": "stderr"
        },
        {
          "output_type": "stream",
          "text": [
            "[ 429/1000] train_loss: 0.00096 valid_loss: 0.00231\n",
            "EarlyStopping counter: 9 out of 100\n"
          ],
          "name": "stdout"
        },
        {
          "output_type": "stream",
          "text": [
            "1024it [00:05, 202.46it/s]\n",
            "1014it [00:01, 674.22it/s]\n",
            "21it [00:00, 204.83it/s]"
          ],
          "name": "stderr"
        },
        {
          "output_type": "stream",
          "text": [
            "[ 430/1000] train_loss: 0.00085 valid_loss: 0.00202\n",
            "EarlyStopping counter: 10 out of 100\n"
          ],
          "name": "stdout"
        },
        {
          "output_type": "stream",
          "text": [
            "1024it [00:05, 201.33it/s]\n",
            "1014it [00:01, 690.56it/s]\n",
            "21it [00:00, 204.94it/s]"
          ],
          "name": "stderr"
        },
        {
          "output_type": "stream",
          "text": [
            "[ 431/1000] train_loss: 0.00109 valid_loss: 0.00218\n",
            "EarlyStopping counter: 11 out of 100\n"
          ],
          "name": "stdout"
        },
        {
          "output_type": "stream",
          "text": [
            "1024it [00:04, 206.14it/s]\n",
            "1014it [00:01, 679.78it/s]\n",
            "21it [00:00, 209.89it/s]"
          ],
          "name": "stderr"
        },
        {
          "output_type": "stream",
          "text": [
            "[ 432/1000] train_loss: 0.00079 valid_loss: 0.00164\n",
            "EarlyStopping counter: 12 out of 100\n"
          ],
          "name": "stdout"
        },
        {
          "output_type": "stream",
          "text": [
            "1024it [00:05, 201.94it/s]\n",
            "1014it [00:01, 684.99it/s]\n",
            "21it [00:00, 203.85it/s]"
          ],
          "name": "stderr"
        },
        {
          "output_type": "stream",
          "text": [
            "[ 433/1000] train_loss: 0.00073 valid_loss: 0.00205\n",
            "EarlyStopping counter: 13 out of 100\n"
          ],
          "name": "stdout"
        },
        {
          "output_type": "stream",
          "text": [
            "1024it [00:05, 197.75it/s]\n",
            "1014it [00:01, 670.33it/s]\n",
            "20it [00:00, 196.29it/s]"
          ],
          "name": "stderr"
        },
        {
          "output_type": "stream",
          "text": [
            "[ 434/1000] train_loss: 0.00084 valid_loss: 0.00191\n",
            "EarlyStopping counter: 14 out of 100\n"
          ],
          "name": "stdout"
        },
        {
          "output_type": "stream",
          "text": [
            "1024it [00:05, 194.51it/s]\n",
            "1014it [00:01, 660.00it/s]\n",
            "18it [00:00, 175.38it/s]"
          ],
          "name": "stderr"
        },
        {
          "output_type": "stream",
          "text": [
            "[ 435/1000] train_loss: 0.00075 valid_loss: 0.00158\n",
            "EarlyStopping counter: 15 out of 100\n"
          ],
          "name": "stdout"
        },
        {
          "output_type": "stream",
          "text": [
            "1024it [00:05, 203.34it/s]\n",
            "1014it [00:01, 688.81it/s]\n",
            "22it [00:00, 212.31it/s]"
          ],
          "name": "stderr"
        },
        {
          "output_type": "stream",
          "text": [
            "[ 436/1000] train_loss: 0.00082 valid_loss: 0.00193\n",
            "EarlyStopping counter: 16 out of 100\n"
          ],
          "name": "stdout"
        },
        {
          "output_type": "stream",
          "text": [
            "1024it [00:04, 205.36it/s]\n",
            "1014it [00:01, 677.47it/s]\n",
            "21it [00:00, 202.52it/s]"
          ],
          "name": "stderr"
        },
        {
          "output_type": "stream",
          "text": [
            "[ 437/1000] train_loss: 0.00126 valid_loss: 0.00390\n",
            "EarlyStopping counter: 17 out of 100\n"
          ],
          "name": "stdout"
        },
        {
          "output_type": "stream",
          "text": [
            "1024it [00:05, 202.31it/s]\n",
            "1014it [00:01, 666.02it/s]\n",
            "19it [00:00, 188.05it/s]"
          ],
          "name": "stderr"
        },
        {
          "output_type": "stream",
          "text": [
            "[ 438/1000] train_loss: 0.00102 valid_loss: 0.00184\n",
            "EarlyStopping counter: 18 out of 100\n"
          ],
          "name": "stdout"
        },
        {
          "output_type": "stream",
          "text": [
            "1024it [00:05, 200.36it/s]\n",
            "1014it [00:01, 665.01it/s]\n",
            "22it [00:00, 215.68it/s]"
          ],
          "name": "stderr"
        },
        {
          "output_type": "stream",
          "text": [
            "[ 439/1000] train_loss: 0.00082 valid_loss: 0.00171\n",
            "EarlyStopping counter: 19 out of 100\n"
          ],
          "name": "stdout"
        },
        {
          "output_type": "stream",
          "text": [
            "1024it [00:05, 202.40it/s]\n",
            "1014it [00:01, 653.23it/s]\n",
            "19it [00:00, 182.52it/s]"
          ],
          "name": "stderr"
        },
        {
          "output_type": "stream",
          "text": [
            "[ 440/1000] train_loss: 0.00074 valid_loss: 0.00200\n",
            "EarlyStopping counter: 20 out of 100\n"
          ],
          "name": "stdout"
        },
        {
          "output_type": "stream",
          "text": [
            "1024it [00:05, 200.63it/s]\n",
            "1014it [00:01, 672.31it/s]\n",
            "20it [00:00, 195.99it/s]"
          ],
          "name": "stderr"
        },
        {
          "output_type": "stream",
          "text": [
            "[ 441/1000] train_loss: 0.00086 valid_loss: 0.00169\n",
            "EarlyStopping counter: 21 out of 100\n"
          ],
          "name": "stdout"
        },
        {
          "output_type": "stream",
          "text": [
            "1024it [00:05, 202.31it/s]\n",
            "1014it [00:01, 685.19it/s]\n",
            "18it [00:00, 170.76it/s]"
          ],
          "name": "stderr"
        },
        {
          "output_type": "stream",
          "text": [
            "[ 442/1000] train_loss: 0.00143 valid_loss: 0.00205\n",
            "EarlyStopping counter: 22 out of 100\n"
          ],
          "name": "stdout"
        },
        {
          "output_type": "stream",
          "text": [
            "1024it [00:05, 199.77it/s]\n",
            "1014it [00:01, 660.17it/s]\n",
            "20it [00:00, 193.61it/s]"
          ],
          "name": "stderr"
        },
        {
          "output_type": "stream",
          "text": [
            "[ 443/1000] train_loss: 0.00110 valid_loss: 0.00216\n",
            "EarlyStopping counter: 23 out of 100\n"
          ],
          "name": "stdout"
        },
        {
          "output_type": "stream",
          "text": [
            "1024it [00:05, 201.25it/s]\n",
            "1014it [00:01, 679.18it/s]\n",
            "20it [00:00, 195.51it/s]"
          ],
          "name": "stderr"
        },
        {
          "output_type": "stream",
          "text": [
            "[ 444/1000] train_loss: 0.00078 valid_loss: 0.00148\n",
            "EarlyStopping counter: 24 out of 100\n"
          ],
          "name": "stdout"
        },
        {
          "output_type": "stream",
          "text": [
            "1024it [00:05, 198.45it/s]\n",
            "1014it [00:01, 662.57it/s]\n",
            "21it [00:00, 197.78it/s]"
          ],
          "name": "stderr"
        },
        {
          "output_type": "stream",
          "text": [
            "[ 445/1000] train_loss: 0.00078 valid_loss: 0.00133\n",
            "EarlyStopping counter: 25 out of 100\n"
          ],
          "name": "stdout"
        },
        {
          "output_type": "stream",
          "text": [
            "1024it [00:05, 199.29it/s]\n",
            "1014it [00:01, 671.13it/s]\n",
            "21it [00:00, 203.47it/s]"
          ],
          "name": "stderr"
        },
        {
          "output_type": "stream",
          "text": [
            "[ 446/1000] train_loss: 0.00070 valid_loss: 0.00110\n",
            "Validation loss decreased (0.001319 --> 0.001096).  Saving model ...\n"
          ],
          "name": "stdout"
        },
        {
          "output_type": "stream",
          "text": [
            "1024it [00:05, 198.13it/s]\n",
            "1014it [00:01, 686.92it/s]\n",
            "19it [00:00, 185.19it/s]"
          ],
          "name": "stderr"
        },
        {
          "output_type": "stream",
          "text": [
            "[ 447/1000] train_loss: 0.00073 valid_loss: 0.00184\n",
            "EarlyStopping counter: 1 out of 100\n"
          ],
          "name": "stdout"
        },
        {
          "output_type": "stream",
          "text": [
            "1024it [00:05, 200.57it/s]\n",
            "1014it [00:01, 645.90it/s]\n",
            "18it [00:00, 178.36it/s]"
          ],
          "name": "stderr"
        },
        {
          "output_type": "stream",
          "text": [
            "[ 448/1000] train_loss: 0.00087 valid_loss: 0.00178\n",
            "EarlyStopping counter: 2 out of 100\n"
          ],
          "name": "stdout"
        },
        {
          "output_type": "stream",
          "text": [
            "1024it [00:05, 196.10it/s]\n",
            "1014it [00:01, 659.24it/s]\n",
            "21it [00:00, 201.17it/s]"
          ],
          "name": "stderr"
        },
        {
          "output_type": "stream",
          "text": [
            "[ 449/1000] train_loss: 0.00100 valid_loss: 0.00199\n",
            "EarlyStopping counter: 3 out of 100\n"
          ],
          "name": "stdout"
        },
        {
          "output_type": "stream",
          "text": [
            "1024it [00:05, 197.51it/s]\n",
            "1014it [00:01, 658.27it/s]\n",
            "21it [00:00, 207.59it/s]"
          ],
          "name": "stderr"
        },
        {
          "output_type": "stream",
          "text": [
            "[ 450/1000] train_loss: 0.00082 valid_loss: 0.00151\n",
            "EarlyStopping counter: 4 out of 100\n"
          ],
          "name": "stdout"
        },
        {
          "output_type": "stream",
          "text": [
            "1024it [00:05, 201.12it/s]\n",
            "1014it [00:01, 680.04it/s]\n",
            "21it [00:00, 207.91it/s]"
          ],
          "name": "stderr"
        },
        {
          "output_type": "stream",
          "text": [
            "[ 451/1000] train_loss: 0.00086 valid_loss: 0.00186\n",
            "EarlyStopping counter: 5 out of 100\n"
          ],
          "name": "stdout"
        },
        {
          "output_type": "stream",
          "text": [
            "1024it [00:05, 198.67it/s]\n",
            "1014it [00:01, 674.29it/s]\n",
            "21it [00:00, 202.08it/s]"
          ],
          "name": "stderr"
        },
        {
          "output_type": "stream",
          "text": [
            "[ 452/1000] train_loss: 0.00073 valid_loss: 0.00154\n",
            "EarlyStopping counter: 6 out of 100\n"
          ],
          "name": "stdout"
        },
        {
          "output_type": "stream",
          "text": [
            "1024it [00:05, 199.32it/s]\n",
            "1014it [00:01, 656.31it/s]\n",
            "21it [00:00, 203.77it/s]"
          ],
          "name": "stderr"
        },
        {
          "output_type": "stream",
          "text": [
            "[ 453/1000] train_loss: 0.00064 valid_loss: 0.00137\n",
            "EarlyStopping counter: 7 out of 100\n"
          ],
          "name": "stdout"
        },
        {
          "output_type": "stream",
          "text": [
            "1024it [00:05, 202.68it/s]\n",
            "1014it [00:01, 663.51it/s]\n",
            "20it [00:00, 192.66it/s]"
          ],
          "name": "stderr"
        },
        {
          "output_type": "stream",
          "text": [
            "[ 454/1000] train_loss: 0.00060 valid_loss: 0.00124\n",
            "EarlyStopping counter: 8 out of 100\n"
          ],
          "name": "stdout"
        },
        {
          "output_type": "stream",
          "text": [
            "1024it [00:05, 201.16it/s]\n",
            "1014it [00:01, 658.95it/s]\n",
            "19it [00:00, 183.42it/s]"
          ],
          "name": "stderr"
        },
        {
          "output_type": "stream",
          "text": [
            "[ 455/1000] train_loss: 0.00089 valid_loss: 0.00177\n",
            "EarlyStopping counter: 9 out of 100\n"
          ],
          "name": "stdout"
        },
        {
          "output_type": "stream",
          "text": [
            "1024it [00:05, 200.35it/s]\n",
            "1014it [00:01, 671.95it/s]\n",
            "18it [00:00, 179.88it/s]"
          ],
          "name": "stderr"
        },
        {
          "output_type": "stream",
          "text": [
            "[ 456/1000] train_loss: 0.00088 valid_loss: 0.00158\n",
            "EarlyStopping counter: 10 out of 100\n"
          ],
          "name": "stdout"
        },
        {
          "output_type": "stream",
          "text": [
            "1024it [00:05, 199.84it/s]\n",
            "1014it [00:01, 681.01it/s]\n",
            "19it [00:00, 185.81it/s]"
          ],
          "name": "stderr"
        },
        {
          "output_type": "stream",
          "text": [
            "[ 457/1000] train_loss: 0.00140 valid_loss: 0.00209\n",
            "EarlyStopping counter: 11 out of 100\n"
          ],
          "name": "stdout"
        },
        {
          "output_type": "stream",
          "text": [
            "1024it [00:05, 198.18it/s]\n",
            "1014it [00:01, 662.06it/s]\n",
            "20it [00:00, 192.69it/s]"
          ],
          "name": "stderr"
        },
        {
          "output_type": "stream",
          "text": [
            "[ 458/1000] train_loss: 0.00088 valid_loss: 0.00166\n",
            "EarlyStopping counter: 12 out of 100\n"
          ],
          "name": "stdout"
        },
        {
          "output_type": "stream",
          "text": [
            "1024it [00:05, 199.53it/s]\n",
            "1014it [00:01, 665.18it/s]\n",
            "19it [00:00, 183.68it/s]"
          ],
          "name": "stderr"
        },
        {
          "output_type": "stream",
          "text": [
            "[ 459/1000] train_loss: 0.00080 valid_loss: 0.00112\n",
            "EarlyStopping counter: 13 out of 100\n"
          ],
          "name": "stdout"
        },
        {
          "output_type": "stream",
          "text": [
            "1024it [00:05, 196.37it/s]\n",
            "1014it [00:01, 668.32it/s]\n",
            "21it [00:00, 204.93it/s]"
          ],
          "name": "stderr"
        },
        {
          "output_type": "stream",
          "text": [
            "[ 460/1000] train_loss: 0.00099 valid_loss: 0.00139\n",
            "EarlyStopping counter: 14 out of 100\n"
          ],
          "name": "stdout"
        },
        {
          "output_type": "stream",
          "text": [
            "1024it [00:05, 201.30it/s]\n",
            "1014it [00:01, 679.63it/s]\n",
            "19it [00:00, 188.65it/s]"
          ],
          "name": "stderr"
        },
        {
          "output_type": "stream",
          "text": [
            "[ 461/1000] train_loss: 0.00092 valid_loss: 0.00127\n",
            "EarlyStopping counter: 15 out of 100\n"
          ],
          "name": "stdout"
        },
        {
          "output_type": "stream",
          "text": [
            "1024it [00:05, 201.93it/s]\n",
            "1014it [00:01, 682.88it/s]\n",
            "22it [00:00, 212.31it/s]"
          ],
          "name": "stderr"
        },
        {
          "output_type": "stream",
          "text": [
            "[ 462/1000] train_loss: 0.00094 valid_loss: 0.00157\n",
            "EarlyStopping counter: 16 out of 100\n"
          ],
          "name": "stdout"
        },
        {
          "output_type": "stream",
          "text": [
            "1024it [00:05, 195.09it/s]\n",
            "1014it [00:01, 684.44it/s]\n",
            "21it [00:00, 201.84it/s]"
          ],
          "name": "stderr"
        },
        {
          "output_type": "stream",
          "text": [
            "[ 463/1000] train_loss: 0.00095 valid_loss: 0.00152\n",
            "EarlyStopping counter: 17 out of 100\n"
          ],
          "name": "stdout"
        },
        {
          "output_type": "stream",
          "text": [
            "1024it [00:05, 201.28it/s]\n",
            "1014it [00:01, 678.61it/s]\n",
            "21it [00:00, 201.74it/s]"
          ],
          "name": "stderr"
        },
        {
          "output_type": "stream",
          "text": [
            "[ 464/1000] train_loss: 0.00113 valid_loss: 0.00149\n",
            "EarlyStopping counter: 18 out of 100\n"
          ],
          "name": "stdout"
        },
        {
          "output_type": "stream",
          "text": [
            "1024it [00:05, 201.68it/s]\n",
            "1014it [00:01, 681.85it/s]\n",
            "21it [00:00, 208.66it/s]"
          ],
          "name": "stderr"
        },
        {
          "output_type": "stream",
          "text": [
            "[ 465/1000] train_loss: 0.00100 valid_loss: 0.00175\n",
            "EarlyStopping counter: 19 out of 100\n"
          ],
          "name": "stdout"
        },
        {
          "output_type": "stream",
          "text": [
            "1024it [00:05, 201.90it/s]\n",
            "1014it [00:01, 667.59it/s]\n",
            "21it [00:00, 202.20it/s]"
          ],
          "name": "stderr"
        },
        {
          "output_type": "stream",
          "text": [
            "[ 466/1000] train_loss: 0.00084 valid_loss: 0.00163\n",
            "EarlyStopping counter: 20 out of 100\n"
          ],
          "name": "stdout"
        },
        {
          "output_type": "stream",
          "text": [
            "1024it [00:05, 201.46it/s]\n",
            "1014it [00:01, 669.13it/s]\n",
            "20it [00:00, 198.64it/s]"
          ],
          "name": "stderr"
        },
        {
          "output_type": "stream",
          "text": [
            "[ 467/1000] train_loss: 0.00092 valid_loss: 0.00170\n",
            "EarlyStopping counter: 21 out of 100\n"
          ],
          "name": "stdout"
        },
        {
          "output_type": "stream",
          "text": [
            "1024it [00:05, 200.33it/s]\n",
            "1014it [00:01, 675.71it/s]\n",
            "21it [00:00, 209.79it/s]"
          ],
          "name": "stderr"
        },
        {
          "output_type": "stream",
          "text": [
            "[ 468/1000] train_loss: 0.00061 valid_loss: 0.00116\n",
            "EarlyStopping counter: 22 out of 100\n"
          ],
          "name": "stdout"
        },
        {
          "output_type": "stream",
          "text": [
            "1024it [00:05, 202.24it/s]\n",
            "1014it [00:01, 666.66it/s]\n",
            "21it [00:00, 207.25it/s]"
          ],
          "name": "stderr"
        },
        {
          "output_type": "stream",
          "text": [
            "[ 469/1000] train_loss: 0.00068 valid_loss: 0.00146\n",
            "EarlyStopping counter: 23 out of 100\n"
          ],
          "name": "stdout"
        },
        {
          "output_type": "stream",
          "text": [
            "1024it [00:05, 202.12it/s]\n",
            "1014it [00:01, 678.80it/s]\n",
            "22it [00:00, 211.40it/s]"
          ],
          "name": "stderr"
        },
        {
          "output_type": "stream",
          "text": [
            "[ 470/1000] train_loss: 0.00047 valid_loss: 0.00087\n",
            "Validation loss decreased (0.001096 --> 0.000868).  Saving model ...\n"
          ],
          "name": "stdout"
        },
        {
          "output_type": "stream",
          "text": [
            "1024it [00:05, 200.68it/s]\n",
            "1014it [00:01, 667.78it/s]\n",
            "21it [00:00, 201.61it/s]"
          ],
          "name": "stderr"
        },
        {
          "output_type": "stream",
          "text": [
            "[ 471/1000] train_loss: 0.00059 valid_loss: 0.00161\n",
            "EarlyStopping counter: 1 out of 100\n"
          ],
          "name": "stdout"
        },
        {
          "output_type": "stream",
          "text": [
            "1024it [00:05, 198.21it/s]\n",
            "1014it [00:01, 682.37it/s]\n",
            "21it [00:00, 202.48it/s]"
          ],
          "name": "stderr"
        },
        {
          "output_type": "stream",
          "text": [
            "[ 472/1000] train_loss: 0.00092 valid_loss: 0.00240\n",
            "EarlyStopping counter: 2 out of 100\n"
          ],
          "name": "stdout"
        },
        {
          "output_type": "stream",
          "text": [
            "1024it [00:05, 196.13it/s]\n",
            "1014it [00:01, 646.09it/s]\n",
            "19it [00:00, 182.62it/s]"
          ],
          "name": "stderr"
        },
        {
          "output_type": "stream",
          "text": [
            "[ 473/1000] train_loss: 0.00116 valid_loss: 0.00224\n",
            "EarlyStopping counter: 3 out of 100\n"
          ],
          "name": "stdout"
        },
        {
          "output_type": "stream",
          "text": [
            "1024it [00:05, 200.32it/s]\n",
            "1014it [00:01, 674.06it/s]\n",
            "21it [00:00, 206.52it/s]"
          ],
          "name": "stderr"
        },
        {
          "output_type": "stream",
          "text": [
            "[ 474/1000] train_loss: 0.00117 valid_loss: 0.00221\n",
            "EarlyStopping counter: 4 out of 100\n"
          ],
          "name": "stdout"
        },
        {
          "output_type": "stream",
          "text": [
            "1024it [00:05, 202.55it/s]\n",
            "1014it [00:01, 663.87it/s]\n",
            "21it [00:00, 204.02it/s]"
          ],
          "name": "stderr"
        },
        {
          "output_type": "stream",
          "text": [
            "[ 475/1000] train_loss: 0.00082 valid_loss: 0.00138\n",
            "EarlyStopping counter: 5 out of 100\n"
          ],
          "name": "stdout"
        },
        {
          "output_type": "stream",
          "text": [
            "1024it [00:05, 201.03it/s]\n",
            "1014it [00:01, 683.89it/s]\n",
            "20it [00:00, 198.76it/s]"
          ],
          "name": "stderr"
        },
        {
          "output_type": "stream",
          "text": [
            "[ 476/1000] train_loss: 0.00065 valid_loss: 0.00138\n",
            "EarlyStopping counter: 6 out of 100\n"
          ],
          "name": "stdout"
        },
        {
          "output_type": "stream",
          "text": [
            "1024it [00:05, 198.48it/s]\n",
            "1014it [00:01, 671.50it/s]\n",
            "21it [00:00, 205.67it/s]"
          ],
          "name": "stderr"
        },
        {
          "output_type": "stream",
          "text": [
            "[ 477/1000] train_loss: 0.00079 valid_loss: 0.00141\n",
            "EarlyStopping counter: 7 out of 100\n"
          ],
          "name": "stdout"
        },
        {
          "output_type": "stream",
          "text": [
            "1024it [00:05, 204.15it/s]\n",
            "1014it [00:01, 681.94it/s]\n",
            "20it [00:00, 197.12it/s]"
          ],
          "name": "stderr"
        },
        {
          "output_type": "stream",
          "text": [
            "[ 478/1000] train_loss: 0.00097 valid_loss: 0.00118\n",
            "EarlyStopping counter: 8 out of 100\n"
          ],
          "name": "stdout"
        },
        {
          "output_type": "stream",
          "text": [
            "1024it [00:05, 201.70it/s]\n",
            "1014it [00:01, 691.62it/s]\n",
            "15it [00:00, 149.86it/s]"
          ],
          "name": "stderr"
        },
        {
          "output_type": "stream",
          "text": [
            "[ 479/1000] train_loss: 0.00077 valid_loss: 0.00139\n",
            "EarlyStopping counter: 9 out of 100\n"
          ],
          "name": "stdout"
        },
        {
          "output_type": "stream",
          "text": [
            "1024it [00:05, 202.66it/s]\n",
            "1014it [00:01, 660.62it/s]\n",
            "21it [00:00, 201.14it/s]"
          ],
          "name": "stderr"
        },
        {
          "output_type": "stream",
          "text": [
            "[ 480/1000] train_loss: 0.00095 valid_loss: 0.00131\n",
            "EarlyStopping counter: 10 out of 100\n"
          ],
          "name": "stdout"
        },
        {
          "output_type": "stream",
          "text": [
            "1024it [00:05, 191.72it/s]\n",
            "1014it [00:01, 659.50it/s]\n",
            "20it [00:00, 194.44it/s]"
          ],
          "name": "stderr"
        },
        {
          "output_type": "stream",
          "text": [
            "[ 481/1000] train_loss: 0.00083 valid_loss: 0.00161\n",
            "EarlyStopping counter: 11 out of 100\n"
          ],
          "name": "stdout"
        },
        {
          "output_type": "stream",
          "text": [
            "1024it [00:05, 193.51it/s]\n",
            "1014it [00:01, 671.89it/s]\n",
            "20it [00:00, 197.06it/s]"
          ],
          "name": "stderr"
        },
        {
          "output_type": "stream",
          "text": [
            "[ 482/1000] train_loss: 0.00104 valid_loss: 0.00104\n",
            "EarlyStopping counter: 12 out of 100\n"
          ],
          "name": "stdout"
        },
        {
          "output_type": "stream",
          "text": [
            "1024it [00:05, 201.97it/s]\n",
            "1014it [00:01, 674.36it/s]\n",
            "21it [00:00, 208.38it/s]"
          ],
          "name": "stderr"
        },
        {
          "output_type": "stream",
          "text": [
            "[ 483/1000] train_loss: 0.00079 valid_loss: 0.00218\n",
            "EarlyStopping counter: 13 out of 100\n"
          ],
          "name": "stdout"
        },
        {
          "output_type": "stream",
          "text": [
            "1024it [00:05, 202.80it/s]\n",
            "1014it [00:01, 673.72it/s]\n",
            "21it [00:00, 204.50it/s]"
          ],
          "name": "stderr"
        },
        {
          "output_type": "stream",
          "text": [
            "[ 484/1000] train_loss: 0.00079 valid_loss: 0.00135\n",
            "EarlyStopping counter: 14 out of 100\n"
          ],
          "name": "stdout"
        },
        {
          "output_type": "stream",
          "text": [
            "1024it [00:05, 201.59it/s]\n",
            "1014it [00:01, 641.38it/s]\n",
            "18it [00:00, 172.27it/s]"
          ],
          "name": "stderr"
        },
        {
          "output_type": "stream",
          "text": [
            "[ 485/1000] train_loss: 0.00056 valid_loss: 0.00136\n",
            "EarlyStopping counter: 15 out of 100\n"
          ],
          "name": "stdout"
        },
        {
          "output_type": "stream",
          "text": [
            "1024it [00:05, 202.17it/s]\n",
            "1014it [00:01, 659.14it/s]\n",
            "20it [00:00, 196.09it/s]"
          ],
          "name": "stderr"
        },
        {
          "output_type": "stream",
          "text": [
            "[ 486/1000] train_loss: 0.00072 valid_loss: 0.00141\n",
            "EarlyStopping counter: 16 out of 100\n"
          ],
          "name": "stdout"
        },
        {
          "output_type": "stream",
          "text": [
            "1024it [00:05, 200.46it/s]\n",
            "1014it [00:01, 677.41it/s]\n",
            "21it [00:00, 205.48it/s]"
          ],
          "name": "stderr"
        },
        {
          "output_type": "stream",
          "text": [
            "[ 487/1000] train_loss: 0.00121 valid_loss: 0.00123\n",
            "EarlyStopping counter: 17 out of 100\n"
          ],
          "name": "stdout"
        },
        {
          "output_type": "stream",
          "text": [
            "1024it [00:05, 202.46it/s]\n",
            "1014it [00:01, 678.13it/s]\n",
            "21it [00:00, 205.97it/s]"
          ],
          "name": "stderr"
        },
        {
          "output_type": "stream",
          "text": [
            "[ 488/1000] train_loss: 0.00090 valid_loss: 0.00129\n",
            "EarlyStopping counter: 18 out of 100\n"
          ],
          "name": "stdout"
        },
        {
          "output_type": "stream",
          "text": [
            "1024it [00:05, 202.41it/s]\n",
            "1014it [00:01, 664.54it/s]\n",
            "20it [00:00, 196.48it/s]"
          ],
          "name": "stderr"
        },
        {
          "output_type": "stream",
          "text": [
            "[ 489/1000] train_loss: 0.00038 valid_loss: 0.00091\n",
            "EarlyStopping counter: 19 out of 100\n"
          ],
          "name": "stdout"
        },
        {
          "output_type": "stream",
          "text": [
            "1024it [00:05, 199.05it/s]\n",
            "1014it [00:01, 668.27it/s]\n",
            "22it [00:00, 213.10it/s]"
          ],
          "name": "stderr"
        },
        {
          "output_type": "stream",
          "text": [
            "[ 490/1000] train_loss: 0.00046 valid_loss: 0.00106\n",
            "EarlyStopping counter: 20 out of 100\n"
          ],
          "name": "stdout"
        },
        {
          "output_type": "stream",
          "text": [
            "1024it [00:05, 201.73it/s]\n",
            "1014it [00:01, 670.21it/s]\n",
            "21it [00:00, 203.55it/s]"
          ],
          "name": "stderr"
        },
        {
          "output_type": "stream",
          "text": [
            "[ 491/1000] train_loss: 0.00056 valid_loss: 0.00078\n",
            "Validation loss decreased (0.000868 --> 0.000784).  Saving model ...\n"
          ],
          "name": "stdout"
        },
        {
          "output_type": "stream",
          "text": [
            "1024it [00:05, 200.13it/s]\n",
            "1014it [00:01, 683.97it/s]\n",
            "19it [00:00, 188.52it/s]"
          ],
          "name": "stderr"
        },
        {
          "output_type": "stream",
          "text": [
            "[ 492/1000] train_loss: 0.00053 valid_loss: 0.00078\n",
            "EarlyStopping counter: 1 out of 100\n"
          ],
          "name": "stdout"
        },
        {
          "output_type": "stream",
          "text": [
            "1024it [00:05, 203.27it/s]\n",
            "1014it [00:01, 656.85it/s]\n",
            "20it [00:00, 193.80it/s]"
          ],
          "name": "stderr"
        },
        {
          "output_type": "stream",
          "text": [
            "[ 493/1000] train_loss: 0.00059 valid_loss: 0.00159\n",
            "EarlyStopping counter: 2 out of 100\n"
          ],
          "name": "stdout"
        },
        {
          "output_type": "stream",
          "text": [
            "1024it [00:05, 200.11it/s]\n",
            "1014it [00:01, 669.36it/s]\n",
            "18it [00:00, 176.37it/s]"
          ],
          "name": "stderr"
        },
        {
          "output_type": "stream",
          "text": [
            "[ 494/1000] train_loss: 0.00132 valid_loss: 0.00144\n",
            "EarlyStopping counter: 3 out of 100\n"
          ],
          "name": "stdout"
        },
        {
          "output_type": "stream",
          "text": [
            "1024it [00:05, 199.96it/s]\n",
            "1014it [00:01, 678.16it/s]\n",
            "22it [00:00, 217.78it/s]"
          ],
          "name": "stderr"
        },
        {
          "output_type": "stream",
          "text": [
            "[ 495/1000] train_loss: 0.00077 valid_loss: 0.00126\n",
            "EarlyStopping counter: 4 out of 100\n"
          ],
          "name": "stdout"
        },
        {
          "output_type": "stream",
          "text": [
            "1024it [00:05, 197.28it/s]\n",
            "1014it [00:01, 686.14it/s]\n",
            "19it [00:00, 183.29it/s]"
          ],
          "name": "stderr"
        },
        {
          "output_type": "stream",
          "text": [
            "[ 496/1000] train_loss: 0.00045 valid_loss: 0.00094\n",
            "EarlyStopping counter: 5 out of 100\n"
          ],
          "name": "stdout"
        },
        {
          "output_type": "stream",
          "text": [
            "1024it [00:05, 200.70it/s]\n",
            "1014it [00:01, 684.92it/s]\n",
            "21it [00:00, 207.02it/s]"
          ],
          "name": "stderr"
        },
        {
          "output_type": "stream",
          "text": [
            "[ 497/1000] train_loss: 0.00063 valid_loss: 0.00058\n",
            "Validation loss decreased (0.000784 --> 0.000576).  Saving model ...\n"
          ],
          "name": "stdout"
        },
        {
          "output_type": "stream",
          "text": [
            "1024it [00:05, 201.81it/s]\n",
            "1014it [00:01, 666.03it/s]\n",
            "20it [00:00, 194.71it/s]"
          ],
          "name": "stderr"
        },
        {
          "output_type": "stream",
          "text": [
            "[ 498/1000] train_loss: 0.00061 valid_loss: 0.00099\n",
            "EarlyStopping counter: 1 out of 100\n"
          ],
          "name": "stdout"
        },
        {
          "output_type": "stream",
          "text": [
            "1024it [00:05, 200.31it/s]\n",
            "1014it [00:01, 666.05it/s]\n",
            "20it [00:00, 199.13it/s]"
          ],
          "name": "stderr"
        },
        {
          "output_type": "stream",
          "text": [
            "[ 499/1000] train_loss: 0.00034 valid_loss: 0.00067\n",
            "EarlyStopping counter: 2 out of 100\n"
          ],
          "name": "stdout"
        },
        {
          "output_type": "stream",
          "text": [
            "1024it [00:05, 200.73it/s]\n",
            "1014it [00:01, 690.00it/s]\n",
            "19it [00:00, 185.72it/s]"
          ],
          "name": "stderr"
        },
        {
          "output_type": "stream",
          "text": [
            "[ 500/1000] train_loss: 0.00032 valid_loss: 0.00071\n",
            "EarlyStopping counter: 3 out of 100\n"
          ],
          "name": "stdout"
        },
        {
          "output_type": "stream",
          "text": [
            "1024it [00:05, 201.55it/s]\n",
            "1014it [00:01, 644.01it/s]\n",
            "20it [00:00, 195.54it/s]"
          ],
          "name": "stderr"
        },
        {
          "output_type": "stream",
          "text": [
            "[ 501/1000] train_loss: 0.00034 valid_loss: 0.00074\n",
            "EarlyStopping counter: 4 out of 100\n"
          ],
          "name": "stdout"
        },
        {
          "output_type": "stream",
          "text": [
            "1024it [00:05, 200.10it/s]\n",
            "1014it [00:01, 667.39it/s]\n",
            "21it [00:00, 201.49it/s]"
          ],
          "name": "stderr"
        },
        {
          "output_type": "stream",
          "text": [
            "[ 502/1000] train_loss: 0.00032 valid_loss: 0.00106\n",
            "EarlyStopping counter: 5 out of 100\n"
          ],
          "name": "stdout"
        },
        {
          "output_type": "stream",
          "text": [
            "1024it [00:05, 200.05it/s]\n",
            "1014it [00:01, 666.34it/s]\n",
            "19it [00:00, 183.25it/s]"
          ],
          "name": "stderr"
        },
        {
          "output_type": "stream",
          "text": [
            "[ 503/1000] train_loss: 0.00085 valid_loss: 0.00251\n",
            "EarlyStopping counter: 6 out of 100\n"
          ],
          "name": "stdout"
        },
        {
          "output_type": "stream",
          "text": [
            "1024it [00:05, 196.72it/s]\n",
            "1014it [00:01, 688.69it/s]\n",
            "22it [00:00, 212.91it/s]"
          ],
          "name": "stderr"
        },
        {
          "output_type": "stream",
          "text": [
            "[ 504/1000] train_loss: 0.00144 valid_loss: 0.00139\n",
            "EarlyStopping counter: 7 out of 100\n"
          ],
          "name": "stdout"
        },
        {
          "output_type": "stream",
          "text": [
            "1024it [00:05, 199.04it/s]\n",
            "1014it [00:01, 660.35it/s]\n",
            "19it [00:00, 186.32it/s]"
          ],
          "name": "stderr"
        },
        {
          "output_type": "stream",
          "text": [
            "[ 505/1000] train_loss: 0.00068 valid_loss: 0.00125\n",
            "EarlyStopping counter: 8 out of 100\n"
          ],
          "name": "stdout"
        },
        {
          "output_type": "stream",
          "text": [
            "1024it [00:05, 201.47it/s]\n",
            "1014it [00:01, 660.97it/s]\n",
            "21it [00:00, 209.72it/s]"
          ],
          "name": "stderr"
        },
        {
          "output_type": "stream",
          "text": [
            "[ 506/1000] train_loss: 0.00056 valid_loss: 0.00106\n",
            "EarlyStopping counter: 9 out of 100\n"
          ],
          "name": "stdout"
        },
        {
          "output_type": "stream",
          "text": [
            "1024it [00:05, 203.35it/s]\n",
            "1014it [00:01, 687.32it/s]\n",
            "21it [00:00, 199.23it/s]"
          ],
          "name": "stderr"
        },
        {
          "output_type": "stream",
          "text": [
            "[ 507/1000] train_loss: 0.00049 valid_loss: 0.00094\n",
            "EarlyStopping counter: 10 out of 100\n"
          ],
          "name": "stdout"
        },
        {
          "output_type": "stream",
          "text": [
            "1024it [00:05, 199.36it/s]\n",
            "1014it [00:01, 668.65it/s]\n",
            "21it [00:00, 204.20it/s]"
          ],
          "name": "stderr"
        },
        {
          "output_type": "stream",
          "text": [
            "[ 508/1000] train_loss: 0.00043 valid_loss: 0.00067\n",
            "EarlyStopping counter: 11 out of 100\n"
          ],
          "name": "stdout"
        },
        {
          "output_type": "stream",
          "text": [
            "1024it [00:05, 198.58it/s]\n",
            "1014it [00:01, 664.93it/s]\n",
            "20it [00:00, 194.64it/s]"
          ],
          "name": "stderr"
        },
        {
          "output_type": "stream",
          "text": [
            "[ 509/1000] train_loss: 0.00039 valid_loss: 0.00073\n",
            "EarlyStopping counter: 12 out of 100\n"
          ],
          "name": "stdout"
        },
        {
          "output_type": "stream",
          "text": [
            "1024it [00:05, 203.30it/s]\n",
            "1014it [00:01, 679.67it/s]\n",
            "21it [00:00, 207.80it/s]"
          ],
          "name": "stderr"
        },
        {
          "output_type": "stream",
          "text": [
            "[ 510/1000] train_loss: 0.00043 valid_loss: 0.00123\n",
            "EarlyStopping counter: 13 out of 100\n"
          ],
          "name": "stdout"
        },
        {
          "output_type": "stream",
          "text": [
            "1024it [00:04, 204.81it/s]\n",
            "1014it [00:01, 677.12it/s]\n",
            "22it [00:00, 213.35it/s]"
          ],
          "name": "stderr"
        },
        {
          "output_type": "stream",
          "text": [
            "[ 511/1000] train_loss: 0.00077 valid_loss: 0.00121\n",
            "EarlyStopping counter: 14 out of 100\n"
          ],
          "name": "stdout"
        },
        {
          "output_type": "stream",
          "text": [
            "1024it [00:04, 205.78it/s]\n",
            "1014it [00:01, 695.08it/s]\n",
            "21it [00:00, 208.98it/s]"
          ],
          "name": "stderr"
        },
        {
          "output_type": "stream",
          "text": [
            "[ 512/1000] train_loss: 0.00086 valid_loss: 0.00108\n",
            "EarlyStopping counter: 15 out of 100\n"
          ],
          "name": "stdout"
        },
        {
          "output_type": "stream",
          "text": [
            "1024it [00:05, 199.83it/s]\n",
            "1014it [00:01, 678.19it/s]\n",
            "22it [00:00, 213.06it/s]"
          ],
          "name": "stderr"
        },
        {
          "output_type": "stream",
          "text": [
            "[ 513/1000] train_loss: 0.00059 valid_loss: 0.00078\n",
            "EarlyStopping counter: 16 out of 100\n"
          ],
          "name": "stdout"
        },
        {
          "output_type": "stream",
          "text": [
            "1024it [00:05, 203.43it/s]\n",
            "1014it [00:01, 686.05it/s]\n",
            "20it [00:00, 198.62it/s]"
          ],
          "name": "stderr"
        },
        {
          "output_type": "stream",
          "text": [
            "[ 514/1000] train_loss: 0.00047 valid_loss: 0.00073\n",
            "EarlyStopping counter: 17 out of 100\n"
          ],
          "name": "stdout"
        },
        {
          "output_type": "stream",
          "text": [
            "1024it [00:05, 200.24it/s]\n",
            "1014it [00:01, 694.13it/s]\n",
            "19it [00:00, 185.00it/s]"
          ],
          "name": "stderr"
        },
        {
          "output_type": "stream",
          "text": [
            "[ 515/1000] train_loss: 0.00033 valid_loss: 0.00086\n",
            "EarlyStopping counter: 18 out of 100\n"
          ],
          "name": "stdout"
        },
        {
          "output_type": "stream",
          "text": [
            "1024it [00:05, 203.45it/s]\n",
            "1014it [00:01, 680.93it/s]\n",
            "21it [00:00, 205.18it/s]"
          ],
          "name": "stderr"
        },
        {
          "output_type": "stream",
          "text": [
            "[ 516/1000] train_loss: 0.00050 valid_loss: 0.00127\n",
            "EarlyStopping counter: 19 out of 100\n"
          ],
          "name": "stdout"
        },
        {
          "output_type": "stream",
          "text": [
            "1024it [00:05, 200.92it/s]\n",
            "1014it [00:01, 658.11it/s]\n",
            "22it [00:00, 211.10it/s]"
          ],
          "name": "stderr"
        },
        {
          "output_type": "stream",
          "text": [
            "[ 517/1000] train_loss: 0.00050 valid_loss: 0.00183\n",
            "EarlyStopping counter: 20 out of 100\n"
          ],
          "name": "stdout"
        },
        {
          "output_type": "stream",
          "text": [
            "1024it [00:05, 200.82it/s]\n",
            "1014it [00:01, 678.34it/s]\n",
            "17it [00:00, 168.49it/s]"
          ],
          "name": "stderr"
        },
        {
          "output_type": "stream",
          "text": [
            "[ 518/1000] train_loss: 0.00091 valid_loss: 0.00130\n",
            "EarlyStopping counter: 21 out of 100\n"
          ],
          "name": "stdout"
        },
        {
          "output_type": "stream",
          "text": [
            "1024it [00:05, 193.92it/s]\n",
            "1014it [00:01, 647.15it/s]\n",
            "20it [00:00, 193.02it/s]"
          ],
          "name": "stderr"
        },
        {
          "output_type": "stream",
          "text": [
            "[ 519/1000] train_loss: 0.00054 valid_loss: 0.00224\n",
            "EarlyStopping counter: 22 out of 100\n"
          ],
          "name": "stdout"
        },
        {
          "output_type": "stream",
          "text": [
            "1024it [00:05, 197.31it/s]\n",
            "1014it [00:01, 671.16it/s]\n",
            "20it [00:00, 195.33it/s]"
          ],
          "name": "stderr"
        },
        {
          "output_type": "stream",
          "text": [
            "[ 520/1000] train_loss: 0.00102 valid_loss: 0.00243\n",
            "EarlyStopping counter: 23 out of 100\n"
          ],
          "name": "stdout"
        },
        {
          "output_type": "stream",
          "text": [
            "1024it [00:05, 201.21it/s]\n",
            "1014it [00:01, 685.74it/s]\n",
            "21it [00:00, 208.50it/s]"
          ],
          "name": "stderr"
        },
        {
          "output_type": "stream",
          "text": [
            "[ 521/1000] train_loss: 0.00064 valid_loss: 0.00112\n",
            "EarlyStopping counter: 24 out of 100\n"
          ],
          "name": "stdout"
        },
        {
          "output_type": "stream",
          "text": [
            "1024it [00:05, 199.96it/s]\n",
            "1014it [00:01, 674.44it/s]\n",
            "21it [00:00, 209.12it/s]"
          ],
          "name": "stderr"
        },
        {
          "output_type": "stream",
          "text": [
            "[ 522/1000] train_loss: 0.00065 valid_loss: 0.00127\n",
            "EarlyStopping counter: 25 out of 100\n"
          ],
          "name": "stdout"
        },
        {
          "output_type": "stream",
          "text": [
            "1024it [00:05, 199.76it/s]\n",
            "1014it [00:01, 692.06it/s]\n",
            "20it [00:00, 195.62it/s]"
          ],
          "name": "stderr"
        },
        {
          "output_type": "stream",
          "text": [
            "[ 523/1000] train_loss: 0.00091 valid_loss: 0.00161\n",
            "EarlyStopping counter: 26 out of 100\n"
          ],
          "name": "stdout"
        },
        {
          "output_type": "stream",
          "text": [
            "1024it [00:05, 200.79it/s]\n",
            "1014it [00:01, 681.09it/s]\n",
            "17it [00:00, 168.38it/s]"
          ],
          "name": "stderr"
        },
        {
          "output_type": "stream",
          "text": [
            "[ 524/1000] train_loss: 0.00071 valid_loss: 0.00191\n",
            "EarlyStopping counter: 27 out of 100\n"
          ],
          "name": "stdout"
        },
        {
          "output_type": "stream",
          "text": [
            "1024it [00:05, 200.98it/s]\n",
            "1014it [00:01, 669.35it/s]\n",
            "21it [00:00, 203.28it/s]"
          ],
          "name": "stderr"
        },
        {
          "output_type": "stream",
          "text": [
            "[ 525/1000] train_loss: 0.00073 valid_loss: 0.00169\n",
            "EarlyStopping counter: 28 out of 100\n"
          ],
          "name": "stdout"
        },
        {
          "output_type": "stream",
          "text": [
            "1024it [00:05, 198.10it/s]\n",
            "1014it [00:01, 679.71it/s]\n",
            "21it [00:00, 208.42it/s]"
          ],
          "name": "stderr"
        },
        {
          "output_type": "stream",
          "text": [
            "[ 526/1000] train_loss: 0.00083 valid_loss: 0.00124\n",
            "EarlyStopping counter: 29 out of 100\n"
          ],
          "name": "stdout"
        },
        {
          "output_type": "stream",
          "text": [
            "1024it [00:05, 202.55it/s]\n",
            "1014it [00:01, 651.37it/s]\n",
            "20it [00:00, 198.53it/s]"
          ],
          "name": "stderr"
        },
        {
          "output_type": "stream",
          "text": [
            "[ 527/1000] train_loss: 0.00049 valid_loss: 0.00075\n",
            "EarlyStopping counter: 30 out of 100\n"
          ],
          "name": "stdout"
        },
        {
          "output_type": "stream",
          "text": [
            "1024it [00:05, 189.04it/s]\n",
            "1014it [00:01, 647.12it/s]\n",
            "17it [00:00, 169.96it/s]"
          ],
          "name": "stderr"
        },
        {
          "output_type": "stream",
          "text": [
            "[ 528/1000] train_loss: 0.00040 valid_loss: 0.00072\n",
            "EarlyStopping counter: 31 out of 100\n"
          ],
          "name": "stdout"
        },
        {
          "output_type": "stream",
          "text": [
            "1024it [00:05, 192.61it/s]\n",
            "1014it [00:01, 687.32it/s]\n",
            "20it [00:00, 188.52it/s]"
          ],
          "name": "stderr"
        },
        {
          "output_type": "stream",
          "text": [
            "[ 529/1000] train_loss: 0.00044 valid_loss: 0.00069\n",
            "EarlyStopping counter: 32 out of 100\n"
          ],
          "name": "stdout"
        },
        {
          "output_type": "stream",
          "text": [
            "1024it [00:05, 199.06it/s]\n",
            "1014it [00:01, 677.58it/s]\n",
            "19it [00:00, 188.04it/s]"
          ],
          "name": "stderr"
        },
        {
          "output_type": "stream",
          "text": [
            "[ 530/1000] train_loss: 0.00043 valid_loss: 0.00098\n",
            "EarlyStopping counter: 33 out of 100\n"
          ],
          "name": "stdout"
        },
        {
          "output_type": "stream",
          "text": [
            "1024it [00:05, 201.00it/s]\n",
            "1014it [00:01, 668.47it/s]\n",
            "20it [00:00, 199.08it/s]"
          ],
          "name": "stderr"
        },
        {
          "output_type": "stream",
          "text": [
            "[ 531/1000] train_loss: 0.00068 valid_loss: 0.00112\n",
            "EarlyStopping counter: 34 out of 100\n"
          ],
          "name": "stdout"
        },
        {
          "output_type": "stream",
          "text": [
            "1024it [00:05, 199.62it/s]\n",
            "1014it [00:01, 668.08it/s]\n",
            "20it [00:00, 198.67it/s]"
          ],
          "name": "stderr"
        },
        {
          "output_type": "stream",
          "text": [
            "[ 532/1000] train_loss: 0.00047 valid_loss: 0.00114\n",
            "EarlyStopping counter: 35 out of 100\n"
          ],
          "name": "stdout"
        },
        {
          "output_type": "stream",
          "text": [
            "1024it [00:05, 202.72it/s]\n",
            "1014it [00:01, 651.23it/s]\n",
            "21it [00:00, 204.46it/s]"
          ],
          "name": "stderr"
        },
        {
          "output_type": "stream",
          "text": [
            "[ 533/1000] train_loss: 0.00074 valid_loss: 0.00086\n",
            "EarlyStopping counter: 36 out of 100\n"
          ],
          "name": "stdout"
        },
        {
          "output_type": "stream",
          "text": [
            "1024it [00:05, 201.16it/s]\n",
            "1014it [00:01, 688.38it/s]\n",
            "22it [00:00, 212.57it/s]"
          ],
          "name": "stderr"
        },
        {
          "output_type": "stream",
          "text": [
            "[ 534/1000] train_loss: 0.00043 valid_loss: 0.00065\n",
            "EarlyStopping counter: 37 out of 100\n"
          ],
          "name": "stdout"
        },
        {
          "output_type": "stream",
          "text": [
            "1024it [00:05, 199.85it/s]\n",
            "1014it [00:01, 685.52it/s]\n",
            "21it [00:00, 207.92it/s]"
          ],
          "name": "stderr"
        },
        {
          "output_type": "stream",
          "text": [
            "[ 535/1000] train_loss: 0.00032 valid_loss: 0.00065\n",
            "EarlyStopping counter: 38 out of 100\n"
          ],
          "name": "stdout"
        },
        {
          "output_type": "stream",
          "text": [
            "1024it [00:05, 198.44it/s]\n",
            "1014it [00:01, 658.25it/s]\n",
            "18it [00:00, 177.08it/s]"
          ],
          "name": "stderr"
        },
        {
          "output_type": "stream",
          "text": [
            "[ 536/1000] train_loss: 0.00032 valid_loss: 0.00067\n",
            "EarlyStopping counter: 39 out of 100\n"
          ],
          "name": "stdout"
        },
        {
          "output_type": "stream",
          "text": [
            "1024it [00:05, 201.67it/s]\n",
            "1014it [00:01, 690.20it/s]\n",
            "22it [00:00, 215.06it/s]"
          ],
          "name": "stderr"
        },
        {
          "output_type": "stream",
          "text": [
            "[ 537/1000] train_loss: 0.00029 valid_loss: 0.00110\n",
            "EarlyStopping counter: 40 out of 100\n"
          ],
          "name": "stdout"
        },
        {
          "output_type": "stream",
          "text": [
            "1024it [00:05, 201.61it/s]\n",
            "1014it [00:01, 649.63it/s]\n",
            "20it [00:00, 193.02it/s]"
          ],
          "name": "stderr"
        },
        {
          "output_type": "stream",
          "text": [
            "[ 538/1000] train_loss: 0.00067 valid_loss: 0.00125\n",
            "EarlyStopping counter: 41 out of 100\n"
          ],
          "name": "stdout"
        },
        {
          "output_type": "stream",
          "text": [
            "1024it [00:05, 200.16it/s]\n",
            "1014it [00:01, 681.00it/s]\n",
            "21it [00:00, 207.81it/s]"
          ],
          "name": "stderr"
        },
        {
          "output_type": "stream",
          "text": [
            "[ 539/1000] train_loss: 0.00055 valid_loss: 0.00086\n",
            "EarlyStopping counter: 42 out of 100\n"
          ],
          "name": "stdout"
        },
        {
          "output_type": "stream",
          "text": [
            "1024it [00:05, 198.34it/s]\n",
            "1014it [00:01, 675.54it/s]\n",
            "21it [00:00, 204.47it/s]"
          ],
          "name": "stderr"
        },
        {
          "output_type": "stream",
          "text": [
            "[ 540/1000] train_loss: 0.00076 valid_loss: 0.00082\n",
            "EarlyStopping counter: 43 out of 100\n"
          ],
          "name": "stdout"
        },
        {
          "output_type": "stream",
          "text": [
            "1024it [00:05, 198.69it/s]\n",
            "1014it [00:01, 672.90it/s]\n",
            "22it [00:00, 214.90it/s]"
          ],
          "name": "stderr"
        },
        {
          "output_type": "stream",
          "text": [
            "[ 541/1000] train_loss: 0.00047 valid_loss: 0.00076\n",
            "EarlyStopping counter: 44 out of 100\n"
          ],
          "name": "stdout"
        },
        {
          "output_type": "stream",
          "text": [
            "1024it [00:05, 201.12it/s]\n",
            "1014it [00:01, 657.80it/s]\n",
            "21it [00:00, 201.59it/s]"
          ],
          "name": "stderr"
        },
        {
          "output_type": "stream",
          "text": [
            "[ 542/1000] train_loss: 0.00041 valid_loss: 0.00045\n",
            "Validation loss decreased (0.000576 --> 0.000452).  Saving model ...\n"
          ],
          "name": "stdout"
        },
        {
          "output_type": "stream",
          "text": [
            "1024it [00:05, 198.81it/s]\n",
            "1014it [00:01, 683.61it/s]\n",
            "21it [00:00, 207.34it/s]"
          ],
          "name": "stderr"
        },
        {
          "output_type": "stream",
          "text": [
            "[ 543/1000] train_loss: 0.00016 valid_loss: 0.00029\n",
            "Validation loss decreased (0.000452 --> 0.000294).  Saving model ...\n"
          ],
          "name": "stdout"
        },
        {
          "output_type": "stream",
          "text": [
            "1024it [00:05, 198.96it/s]\n",
            "1014it [00:01, 671.35it/s]\n",
            "20it [00:00, 198.84it/s]"
          ],
          "name": "stderr"
        },
        {
          "output_type": "stream",
          "text": [
            "[ 544/1000] train_loss: 0.00014 valid_loss: 0.00028\n",
            "Validation loss decreased (0.000294 --> 0.000283).  Saving model ...\n"
          ],
          "name": "stdout"
        },
        {
          "output_type": "stream",
          "text": [
            "1024it [00:05, 200.26it/s]\n",
            "1014it [00:01, 678.62it/s]\n",
            "20it [00:00, 195.12it/s]"
          ],
          "name": "stderr"
        },
        {
          "output_type": "stream",
          "text": [
            "[ 545/1000] train_loss: 0.00013 valid_loss: 0.00049\n",
            "EarlyStopping counter: 1 out of 100\n"
          ],
          "name": "stdout"
        },
        {
          "output_type": "stream",
          "text": [
            "1024it [00:05, 202.11it/s]\n",
            "1014it [00:01, 664.39it/s]\n",
            "22it [00:00, 211.32it/s]"
          ],
          "name": "stderr"
        },
        {
          "output_type": "stream",
          "text": [
            "[ 546/1000] train_loss: 0.00025 valid_loss: 0.00215\n",
            "EarlyStopping counter: 2 out of 100\n"
          ],
          "name": "stdout"
        },
        {
          "output_type": "stream",
          "text": [
            "1024it [00:05, 203.88it/s]\n",
            "1014it [00:01, 670.10it/s]\n",
            "19it [00:00, 188.62it/s]"
          ],
          "name": "stderr"
        },
        {
          "output_type": "stream",
          "text": [
            "[ 547/1000] train_loss: 0.00097 valid_loss: 0.00183\n",
            "EarlyStopping counter: 3 out of 100\n"
          ],
          "name": "stdout"
        },
        {
          "output_type": "stream",
          "text": [
            "1024it [00:05, 200.68it/s]\n",
            "1014it [00:01, 680.13it/s]\n",
            "22it [00:00, 212.66it/s]"
          ],
          "name": "stderr"
        },
        {
          "output_type": "stream",
          "text": [
            "[ 548/1000] train_loss: 0.00066 valid_loss: 0.00068\n",
            "EarlyStopping counter: 4 out of 100\n"
          ],
          "name": "stdout"
        },
        {
          "output_type": "stream",
          "text": [
            "1024it [00:05, 200.73it/s]\n",
            "1014it [00:01, 670.77it/s]\n",
            "22it [00:00, 215.18it/s]"
          ],
          "name": "stderr"
        },
        {
          "output_type": "stream",
          "text": [
            "[ 549/1000] train_loss: 0.00070 valid_loss: 0.00150\n",
            "EarlyStopping counter: 5 out of 100\n"
          ],
          "name": "stdout"
        },
        {
          "output_type": "stream",
          "text": [
            "1024it [00:05, 200.88it/s]\n",
            "1014it [00:01, 662.92it/s]\n",
            "21it [00:00, 207.64it/s]"
          ],
          "name": "stderr"
        },
        {
          "output_type": "stream",
          "text": [
            "[ 550/1000] train_loss: 0.00059 valid_loss: 0.00189\n",
            "EarlyStopping counter: 6 out of 100\n"
          ],
          "name": "stdout"
        },
        {
          "output_type": "stream",
          "text": [
            "1024it [00:05, 202.02it/s]\n",
            "1014it [00:01, 685.70it/s]\n",
            "21it [00:00, 209.57it/s]"
          ],
          "name": "stderr"
        },
        {
          "output_type": "stream",
          "text": [
            "[ 551/1000] train_loss: 0.00075 valid_loss: 0.00134\n",
            "EarlyStopping counter: 7 out of 100\n"
          ],
          "name": "stdout"
        },
        {
          "output_type": "stream",
          "text": [
            "1024it [00:05, 200.76it/s]\n",
            "1014it [00:01, 665.71it/s]\n",
            "20it [00:00, 199.44it/s]"
          ],
          "name": "stderr"
        },
        {
          "output_type": "stream",
          "text": [
            "[ 552/1000] train_loss: 0.00070 valid_loss: 0.00079\n",
            "EarlyStopping counter: 8 out of 100\n"
          ],
          "name": "stdout"
        },
        {
          "output_type": "stream",
          "text": [
            "1024it [00:05, 197.84it/s]\n",
            "1014it [00:01, 671.53it/s]\n",
            "19it [00:00, 186.00it/s]"
          ],
          "name": "stderr"
        },
        {
          "output_type": "stream",
          "text": [
            "[ 553/1000] train_loss: 0.00093 valid_loss: 0.00139\n",
            "EarlyStopping counter: 9 out of 100\n"
          ],
          "name": "stdout"
        },
        {
          "output_type": "stream",
          "text": [
            "1024it [00:05, 199.88it/s]\n",
            "1014it [00:01, 661.66it/s]\n",
            "19it [00:00, 189.74it/s]"
          ],
          "name": "stderr"
        },
        {
          "output_type": "stream",
          "text": [
            "[ 554/1000] train_loss: 0.00089 valid_loss: 0.00102\n",
            "EarlyStopping counter: 10 out of 100\n"
          ],
          "name": "stdout"
        },
        {
          "output_type": "stream",
          "text": [
            "1024it [00:05, 198.25it/s]\n",
            "1014it [00:01, 682.98it/s]\n",
            "18it [00:00, 175.48it/s]"
          ],
          "name": "stderr"
        },
        {
          "output_type": "stream",
          "text": [
            "[ 555/1000] train_loss: 0.00079 valid_loss: 0.00101\n",
            "EarlyStopping counter: 11 out of 100\n"
          ],
          "name": "stdout"
        },
        {
          "output_type": "stream",
          "text": [
            "1024it [00:05, 200.10it/s]\n",
            "1014it [00:01, 681.56it/s]\n",
            "22it [00:00, 210.13it/s]"
          ],
          "name": "stderr"
        },
        {
          "output_type": "stream",
          "text": [
            "[ 556/1000] train_loss: 0.00064 valid_loss: 0.00073\n",
            "EarlyStopping counter: 12 out of 100\n"
          ],
          "name": "stdout"
        },
        {
          "output_type": "stream",
          "text": [
            "1024it [00:05, 200.43it/s]\n",
            "1014it [00:01, 675.56it/s]\n",
            "22it [00:00, 213.64it/s]"
          ],
          "name": "stderr"
        },
        {
          "output_type": "stream",
          "text": [
            "[ 557/1000] train_loss: 0.00052 valid_loss: 0.00071\n",
            "EarlyStopping counter: 13 out of 100\n"
          ],
          "name": "stdout"
        },
        {
          "output_type": "stream",
          "text": [
            "1024it [00:05, 201.30it/s]\n",
            "1014it [00:01, 678.15it/s]\n",
            "17it [00:00, 166.27it/s]"
          ],
          "name": "stderr"
        },
        {
          "output_type": "stream",
          "text": [
            "[ 558/1000] train_loss: 0.00094 valid_loss: 0.00146\n",
            "EarlyStopping counter: 14 out of 100\n"
          ],
          "name": "stdout"
        },
        {
          "output_type": "stream",
          "text": [
            "1024it [00:05, 199.81it/s]\n",
            "1014it [00:01, 680.26it/s]\n",
            "19it [00:00, 185.30it/s]"
          ],
          "name": "stderr"
        },
        {
          "output_type": "stream",
          "text": [
            "[ 559/1000] train_loss: 0.00054 valid_loss: 0.00131\n",
            "EarlyStopping counter: 15 out of 100\n"
          ],
          "name": "stdout"
        },
        {
          "output_type": "stream",
          "text": [
            "1024it [00:05, 198.52it/s]\n",
            "1014it [00:01, 681.92it/s]\n",
            "21it [00:00, 202.69it/s]"
          ],
          "name": "stderr"
        },
        {
          "output_type": "stream",
          "text": [
            "[ 560/1000] train_loss: 0.00044 valid_loss: 0.00077\n",
            "EarlyStopping counter: 16 out of 100\n"
          ],
          "name": "stdout"
        },
        {
          "output_type": "stream",
          "text": [
            "1024it [00:05, 199.14it/s]\n",
            "1014it [00:01, 667.08it/s]\n",
            "20it [00:00, 199.82it/s]"
          ],
          "name": "stderr"
        },
        {
          "output_type": "stream",
          "text": [
            "[ 561/1000] train_loss: 0.00079 valid_loss: 0.00429\n",
            "EarlyStopping counter: 17 out of 100\n"
          ],
          "name": "stdout"
        },
        {
          "output_type": "stream",
          "text": [
            "1024it [00:05, 199.83it/s]\n",
            "1014it [00:01, 679.04it/s]\n",
            "22it [00:00, 212.91it/s]"
          ],
          "name": "stderr"
        },
        {
          "output_type": "stream",
          "text": [
            "[ 562/1000] train_loss: 0.00103 valid_loss: 0.00155\n",
            "EarlyStopping counter: 18 out of 100\n"
          ],
          "name": "stdout"
        },
        {
          "output_type": "stream",
          "text": [
            "1024it [00:05, 201.00it/s]\n",
            "1014it [00:01, 671.10it/s]\n",
            "22it [00:00, 217.74it/s]"
          ],
          "name": "stderr"
        },
        {
          "output_type": "stream",
          "text": [
            "[ 563/1000] train_loss: 0.00073 valid_loss: 0.00122\n",
            "EarlyStopping counter: 19 out of 100\n"
          ],
          "name": "stdout"
        },
        {
          "output_type": "stream",
          "text": [
            "1024it [00:05, 200.08it/s]\n",
            "1014it [00:01, 665.49it/s]\n",
            "21it [00:00, 200.82it/s]"
          ],
          "name": "stderr"
        },
        {
          "output_type": "stream",
          "text": [
            "[ 564/1000] train_loss: 0.00084 valid_loss: 0.00089\n",
            "EarlyStopping counter: 20 out of 100\n"
          ],
          "name": "stdout"
        },
        {
          "output_type": "stream",
          "text": [
            "1024it [00:05, 196.60it/s]\n",
            "1014it [00:01, 660.67it/s]\n",
            "21it [00:00, 205.17it/s]"
          ],
          "name": "stderr"
        },
        {
          "output_type": "stream",
          "text": [
            "[ 565/1000] train_loss: 0.00065 valid_loss: 0.00085\n",
            "EarlyStopping counter: 21 out of 100\n"
          ],
          "name": "stdout"
        },
        {
          "output_type": "stream",
          "text": [
            "1024it [00:05, 200.21it/s]\n",
            "1014it [00:01, 686.41it/s]\n",
            "20it [00:00, 195.10it/s]"
          ],
          "name": "stderr"
        },
        {
          "output_type": "stream",
          "text": [
            "[ 566/1000] train_loss: 0.00064 valid_loss: 0.00110\n",
            "EarlyStopping counter: 22 out of 100\n"
          ],
          "name": "stdout"
        },
        {
          "output_type": "stream",
          "text": [
            "1024it [00:05, 202.12it/s]\n",
            "1014it [00:01, 670.74it/s]\n",
            "20it [00:00, 199.29it/s]"
          ],
          "name": "stderr"
        },
        {
          "output_type": "stream",
          "text": [
            "[ 567/1000] train_loss: 0.00102 valid_loss: 0.00162\n",
            "EarlyStopping counter: 23 out of 100\n"
          ],
          "name": "stdout"
        },
        {
          "output_type": "stream",
          "text": [
            "1024it [00:05, 200.48it/s]\n",
            "1014it [00:01, 676.53it/s]\n",
            "19it [00:00, 188.67it/s]"
          ],
          "name": "stderr"
        },
        {
          "output_type": "stream",
          "text": [
            "[ 568/1000] train_loss: 0.00100 valid_loss: 0.00191\n",
            "EarlyStopping counter: 24 out of 100\n"
          ],
          "name": "stdout"
        },
        {
          "output_type": "stream",
          "text": [
            "1024it [00:05, 201.57it/s]\n",
            "1014it [00:01, 692.18it/s]\n",
            "21it [00:00, 197.64it/s]"
          ],
          "name": "stderr"
        },
        {
          "output_type": "stream",
          "text": [
            "[ 569/1000] train_loss: 0.00071 valid_loss: 0.00098\n",
            "EarlyStopping counter: 25 out of 100\n"
          ],
          "name": "stdout"
        },
        {
          "output_type": "stream",
          "text": [
            "1024it [00:05, 201.02it/s]\n",
            "1014it [00:01, 665.96it/s]\n",
            "17it [00:00, 169.76it/s]"
          ],
          "name": "stderr"
        },
        {
          "output_type": "stream",
          "text": [
            "[ 570/1000] train_loss: 0.00049 valid_loss: 0.00079\n",
            "EarlyStopping counter: 26 out of 100\n"
          ],
          "name": "stdout"
        },
        {
          "output_type": "stream",
          "text": [
            "1024it [00:05, 199.91it/s]\n",
            "1014it [00:01, 651.38it/s]\n",
            "21it [00:00, 201.62it/s]"
          ],
          "name": "stderr"
        },
        {
          "output_type": "stream",
          "text": [
            "[ 571/1000] train_loss: 0.00040 valid_loss: 0.00061\n",
            "EarlyStopping counter: 27 out of 100\n"
          ],
          "name": "stdout"
        },
        {
          "output_type": "stream",
          "text": [
            "1024it [00:05, 197.59it/s]\n",
            "1014it [00:01, 672.77it/s]\n",
            "21it [00:00, 207.69it/s]"
          ],
          "name": "stderr"
        },
        {
          "output_type": "stream",
          "text": [
            "[ 572/1000] train_loss: 0.00040 valid_loss: 0.00054\n",
            "EarlyStopping counter: 28 out of 100\n"
          ],
          "name": "stdout"
        },
        {
          "output_type": "stream",
          "text": [
            "1024it [00:05, 203.78it/s]\n",
            "1014it [00:01, 658.52it/s]\n",
            "21it [00:00, 209.32it/s]"
          ],
          "name": "stderr"
        },
        {
          "output_type": "stream",
          "text": [
            "[ 573/1000] train_loss: 0.00043 valid_loss: 0.00057\n",
            "EarlyStopping counter: 29 out of 100\n"
          ],
          "name": "stdout"
        },
        {
          "output_type": "stream",
          "text": [
            "1024it [00:05, 199.93it/s]\n",
            "1014it [00:01, 657.87it/s]\n",
            "19it [00:00, 188.45it/s]"
          ],
          "name": "stderr"
        },
        {
          "output_type": "stream",
          "text": [
            "[ 574/1000] train_loss: 0.00133 valid_loss: 0.00180\n",
            "EarlyStopping counter: 30 out of 100\n"
          ],
          "name": "stdout"
        },
        {
          "output_type": "stream",
          "text": [
            "1024it [00:05, 190.80it/s]\n",
            "1014it [00:01, 662.99it/s]\n",
            "19it [00:00, 183.27it/s]"
          ],
          "name": "stderr"
        },
        {
          "output_type": "stream",
          "text": [
            "[ 575/1000] train_loss: 0.00079 valid_loss: 0.00078\n",
            "EarlyStopping counter: 31 out of 100\n"
          ],
          "name": "stdout"
        },
        {
          "output_type": "stream",
          "text": [
            "1024it [00:05, 198.58it/s]\n",
            "1014it [00:01, 680.78it/s]\n",
            "21it [00:00, 207.75it/s]"
          ],
          "name": "stderr"
        },
        {
          "output_type": "stream",
          "text": [
            "[ 576/1000] train_loss: 0.00041 valid_loss: 0.00063\n",
            "EarlyStopping counter: 32 out of 100\n"
          ],
          "name": "stdout"
        },
        {
          "output_type": "stream",
          "text": [
            "1024it [00:05, 197.76it/s]\n",
            "1014it [00:01, 678.16it/s]\n",
            "19it [00:00, 182.74it/s]"
          ],
          "name": "stderr"
        },
        {
          "output_type": "stream",
          "text": [
            "[ 577/1000] train_loss: 0.00036 valid_loss: 0.00050\n",
            "EarlyStopping counter: 33 out of 100\n"
          ],
          "name": "stdout"
        },
        {
          "output_type": "stream",
          "text": [
            "1024it [00:05, 200.60it/s]\n",
            "1014it [00:01, 669.76it/s]\n",
            "22it [00:00, 213.06it/s]"
          ],
          "name": "stderr"
        },
        {
          "output_type": "stream",
          "text": [
            "[ 578/1000] train_loss: 0.00033 valid_loss: 0.00048\n",
            "EarlyStopping counter: 34 out of 100\n"
          ],
          "name": "stdout"
        },
        {
          "output_type": "stream",
          "text": [
            "1024it [00:05, 202.07it/s]\n",
            "1014it [00:01, 666.82it/s]\n",
            "19it [00:00, 185.07it/s]"
          ],
          "name": "stderr"
        },
        {
          "output_type": "stream",
          "text": [
            "[ 579/1000] train_loss: 0.00042 valid_loss: 0.00057\n",
            "EarlyStopping counter: 35 out of 100\n"
          ],
          "name": "stdout"
        },
        {
          "output_type": "stream",
          "text": [
            "1024it [00:05, 198.50it/s]\n",
            "1014it [00:01, 680.67it/s]\n",
            "18it [00:00, 175.85it/s]"
          ],
          "name": "stderr"
        },
        {
          "output_type": "stream",
          "text": [
            "[ 580/1000] train_loss: 0.00055 valid_loss: 0.00265\n",
            "EarlyStopping counter: 36 out of 100\n"
          ],
          "name": "stdout"
        },
        {
          "output_type": "stream",
          "text": [
            "1024it [00:05, 201.21it/s]\n",
            "1014it [00:01, 657.98it/s]\n",
            "20it [00:00, 195.74it/s]"
          ],
          "name": "stderr"
        },
        {
          "output_type": "stream",
          "text": [
            "[ 581/1000] train_loss: 0.00134 valid_loss: 0.00202\n",
            "EarlyStopping counter: 37 out of 100\n"
          ],
          "name": "stdout"
        },
        {
          "output_type": "stream",
          "text": [
            "1024it [00:05, 202.75it/s]\n",
            "1014it [00:01, 674.47it/s]\n",
            "21it [00:00, 202.63it/s]"
          ],
          "name": "stderr"
        },
        {
          "output_type": "stream",
          "text": [
            "[ 582/1000] train_loss: 0.00118 valid_loss: 0.00146\n",
            "EarlyStopping counter: 38 out of 100\n"
          ],
          "name": "stdout"
        },
        {
          "output_type": "stream",
          "text": [
            "1024it [00:05, 200.25it/s]\n",
            "1014it [00:01, 693.97it/s]\n",
            "19it [00:00, 182.32it/s]"
          ],
          "name": "stderr"
        },
        {
          "output_type": "stream",
          "text": [
            "[ 583/1000] train_loss: 0.00080 valid_loss: 0.00100\n",
            "EarlyStopping counter: 39 out of 100\n"
          ],
          "name": "stdout"
        },
        {
          "output_type": "stream",
          "text": [
            "1024it [00:05, 199.32it/s]\n",
            "1014it [00:01, 692.81it/s]\n",
            "20it [00:00, 195.53it/s]"
          ],
          "name": "stderr"
        },
        {
          "output_type": "stream",
          "text": [
            "[ 584/1000] train_loss: 0.00095 valid_loss: 0.00238\n",
            "EarlyStopping counter: 40 out of 100\n"
          ],
          "name": "stdout"
        },
        {
          "output_type": "stream",
          "text": [
            "1024it [00:05, 200.94it/s]\n",
            "1014it [00:01, 646.89it/s]\n",
            "20it [00:00, 197.23it/s]"
          ],
          "name": "stderr"
        },
        {
          "output_type": "stream",
          "text": [
            "[ 585/1000] train_loss: 0.00066 valid_loss: 0.00108\n",
            "EarlyStopping counter: 41 out of 100\n"
          ],
          "name": "stdout"
        },
        {
          "output_type": "stream",
          "text": [
            "1024it [00:05, 198.16it/s]\n",
            "1014it [00:01, 671.61it/s]\n",
            "19it [00:00, 182.16it/s]"
          ],
          "name": "stderr"
        },
        {
          "output_type": "stream",
          "text": [
            "[ 586/1000] train_loss: 0.00057 valid_loss: 0.00094\n",
            "EarlyStopping counter: 42 out of 100\n"
          ],
          "name": "stdout"
        },
        {
          "output_type": "stream",
          "text": [
            "1024it [00:05, 198.87it/s]\n",
            "1014it [00:01, 681.36it/s]\n",
            "22it [00:00, 213.30it/s]"
          ],
          "name": "stderr"
        },
        {
          "output_type": "stream",
          "text": [
            "[ 587/1000] train_loss: 0.00068 valid_loss: 0.00109\n",
            "EarlyStopping counter: 43 out of 100\n"
          ],
          "name": "stdout"
        },
        {
          "output_type": "stream",
          "text": [
            "1024it [00:05, 200.81it/s]\n",
            "1014it [00:01, 670.04it/s]\n",
            "19it [00:00, 188.67it/s]"
          ],
          "name": "stderr"
        },
        {
          "output_type": "stream",
          "text": [
            "[ 588/1000] train_loss: 0.00054 valid_loss: 0.00085\n",
            "EarlyStopping counter: 44 out of 100\n"
          ],
          "name": "stdout"
        },
        {
          "output_type": "stream",
          "text": [
            "1024it [00:05, 203.67it/s]\n",
            "1014it [00:01, 670.63it/s]\n",
            "21it [00:00, 203.81it/s]"
          ],
          "name": "stderr"
        },
        {
          "output_type": "stream",
          "text": [
            "[ 589/1000] train_loss: 0.00058 valid_loss: 0.00093\n",
            "EarlyStopping counter: 45 out of 100\n"
          ],
          "name": "stdout"
        },
        {
          "output_type": "stream",
          "text": [
            "1024it [00:05, 201.22it/s]\n",
            "1014it [00:01, 666.01it/s]\n",
            "20it [00:00, 197.67it/s]"
          ],
          "name": "stderr"
        },
        {
          "output_type": "stream",
          "text": [
            "[ 590/1000] train_loss: 0.00061 valid_loss: 0.00072\n",
            "EarlyStopping counter: 46 out of 100\n"
          ],
          "name": "stdout"
        },
        {
          "output_type": "stream",
          "text": [
            "1024it [00:05, 201.12it/s]\n",
            "1014it [00:01, 668.59it/s]\n",
            "21it [00:00, 201.81it/s]"
          ],
          "name": "stderr"
        },
        {
          "output_type": "stream",
          "text": [
            "[ 591/1000] train_loss: 0.00057 valid_loss: 0.00173\n",
            "EarlyStopping counter: 47 out of 100\n"
          ],
          "name": "stdout"
        },
        {
          "output_type": "stream",
          "text": [
            "1024it [00:05, 200.05it/s]\n",
            "1014it [00:01, 682.70it/s]\n",
            "21it [00:00, 202.40it/s]"
          ],
          "name": "stderr"
        },
        {
          "output_type": "stream",
          "text": [
            "[ 592/1000] train_loss: 0.00097 valid_loss: 0.00221\n",
            "EarlyStopping counter: 48 out of 100\n"
          ],
          "name": "stdout"
        },
        {
          "output_type": "stream",
          "text": [
            "1024it [00:05, 202.96it/s]\n",
            "1014it [00:01, 685.63it/s]\n",
            "17it [00:00, 160.72it/s]"
          ],
          "name": "stderr"
        },
        {
          "output_type": "stream",
          "text": [
            "[ 593/1000] train_loss: 0.00073 valid_loss: 0.00160\n",
            "EarlyStopping counter: 49 out of 100\n"
          ],
          "name": "stdout"
        },
        {
          "output_type": "stream",
          "text": [
            "1024it [00:05, 197.45it/s]\n",
            "1014it [00:01, 664.64it/s]\n",
            "22it [00:00, 211.60it/s]"
          ],
          "name": "stderr"
        },
        {
          "output_type": "stream",
          "text": [
            "[ 594/1000] train_loss: 0.00070 valid_loss: 0.00090\n",
            "EarlyStopping counter: 50 out of 100\n"
          ],
          "name": "stdout"
        },
        {
          "output_type": "stream",
          "text": [
            "1024it [00:05, 200.26it/s]\n",
            "1014it [00:01, 671.04it/s]\n",
            "19it [00:00, 189.45it/s]"
          ],
          "name": "stderr"
        },
        {
          "output_type": "stream",
          "text": [
            "[ 595/1000] train_loss: 0.00036 valid_loss: 0.00060\n",
            "EarlyStopping counter: 51 out of 100\n"
          ],
          "name": "stdout"
        },
        {
          "output_type": "stream",
          "text": [
            "1024it [00:05, 200.16it/s]\n",
            "1014it [00:01, 670.93it/s]\n",
            "21it [00:00, 204.28it/s]"
          ],
          "name": "stderr"
        },
        {
          "output_type": "stream",
          "text": [
            "[ 596/1000] train_loss: 0.00039 valid_loss: 0.00075\n",
            "EarlyStopping counter: 52 out of 100\n"
          ],
          "name": "stdout"
        },
        {
          "output_type": "stream",
          "text": [
            "1024it [00:05, 198.60it/s]\n",
            "1014it [00:01, 675.52it/s]\n",
            "22it [00:00, 211.95it/s]"
          ],
          "name": "stderr"
        },
        {
          "output_type": "stream",
          "text": [
            "[ 597/1000] train_loss: 0.00034 valid_loss: 0.00071\n",
            "EarlyStopping counter: 53 out of 100\n"
          ],
          "name": "stdout"
        },
        {
          "output_type": "stream",
          "text": [
            "1024it [00:05, 200.38it/s]\n",
            "1014it [00:01, 663.54it/s]\n",
            "22it [00:00, 213.49it/s]"
          ],
          "name": "stderr"
        },
        {
          "output_type": "stream",
          "text": [
            "[ 598/1000] train_loss: 0.00040 valid_loss: 0.00105\n",
            "EarlyStopping counter: 54 out of 100\n"
          ],
          "name": "stdout"
        },
        {
          "output_type": "stream",
          "text": [
            "1024it [00:05, 200.20it/s]\n",
            "1014it [00:01, 661.45it/s]\n",
            "20it [00:00, 186.77it/s]"
          ],
          "name": "stderr"
        },
        {
          "output_type": "stream",
          "text": [
            "[ 599/1000] train_loss: 0.00044 valid_loss: 0.00055\n",
            "EarlyStopping counter: 55 out of 100\n"
          ],
          "name": "stdout"
        },
        {
          "output_type": "stream",
          "text": [
            "1024it [00:05, 203.97it/s]\n",
            "1014it [00:01, 689.76it/s]\n",
            "23it [00:00, 221.70it/s]"
          ],
          "name": "stderr"
        },
        {
          "output_type": "stream",
          "text": [
            "[ 600/1000] train_loss: 0.00046 valid_loss: 0.00154\n",
            "EarlyStopping counter: 56 out of 100\n"
          ],
          "name": "stdout"
        },
        {
          "output_type": "stream",
          "text": [
            "1024it [00:05, 200.55it/s]\n",
            "1014it [00:01, 684.42it/s]\n",
            "21it [00:00, 204.99it/s]"
          ],
          "name": "stderr"
        },
        {
          "output_type": "stream",
          "text": [
            "[ 601/1000] train_loss: 0.00046 valid_loss: 0.00056\n",
            "EarlyStopping counter: 57 out of 100\n"
          ],
          "name": "stdout"
        },
        {
          "output_type": "stream",
          "text": [
            "1024it [00:05, 204.17it/s]\n",
            "1014it [00:01, 650.74it/s]\n",
            "19it [00:00, 184.13it/s]"
          ],
          "name": "stderr"
        },
        {
          "output_type": "stream",
          "text": [
            "[ 602/1000] train_loss: 0.00028 valid_loss: 0.00102\n",
            "EarlyStopping counter: 58 out of 100\n"
          ],
          "name": "stdout"
        },
        {
          "output_type": "stream",
          "text": [
            "1024it [00:04, 206.00it/s]\n",
            "1014it [00:01, 678.74it/s]\n",
            "20it [00:00, 190.32it/s]"
          ],
          "name": "stderr"
        },
        {
          "output_type": "stream",
          "text": [
            "[ 603/1000] train_loss: 0.00044 valid_loss: 0.00123\n",
            "EarlyStopping counter: 59 out of 100\n"
          ],
          "name": "stdout"
        },
        {
          "output_type": "stream",
          "text": [
            "1024it [00:05, 198.26it/s]\n",
            "1014it [00:01, 680.25it/s]\n",
            "21it [00:00, 209.53it/s]"
          ],
          "name": "stderr"
        },
        {
          "output_type": "stream",
          "text": [
            "[ 604/1000] train_loss: 0.00058 valid_loss: 0.00241\n",
            "EarlyStopping counter: 60 out of 100\n"
          ],
          "name": "stdout"
        },
        {
          "output_type": "stream",
          "text": [
            "1024it [00:05, 200.88it/s]\n",
            "1014it [00:01, 673.98it/s]\n",
            "21it [00:00, 203.50it/s]"
          ],
          "name": "stderr"
        },
        {
          "output_type": "stream",
          "text": [
            "[ 605/1000] train_loss: 0.00054 valid_loss: 0.00099\n",
            "EarlyStopping counter: 61 out of 100\n"
          ],
          "name": "stdout"
        },
        {
          "output_type": "stream",
          "text": [
            "1024it [00:05, 199.34it/s]\n",
            "1014it [00:01, 675.25it/s]\n",
            "22it [00:00, 213.55it/s]"
          ],
          "name": "stderr"
        },
        {
          "output_type": "stream",
          "text": [
            "[ 606/1000] train_loss: 0.00053 valid_loss: 0.00070\n",
            "EarlyStopping counter: 62 out of 100\n"
          ],
          "name": "stdout"
        },
        {
          "output_type": "stream",
          "text": [
            "1024it [00:05, 204.16it/s]\n",
            "1014it [00:01, 680.87it/s]\n",
            "20it [00:00, 192.90it/s]"
          ],
          "name": "stderr"
        },
        {
          "output_type": "stream",
          "text": [
            "[ 607/1000] train_loss: 0.00041 valid_loss: 0.00071\n",
            "EarlyStopping counter: 63 out of 100\n"
          ],
          "name": "stdout"
        },
        {
          "output_type": "stream",
          "text": [
            "1024it [00:04, 209.91it/s]\n",
            "1014it [00:01, 708.30it/s]\n",
            "21it [00:00, 205.99it/s]"
          ],
          "name": "stderr"
        },
        {
          "output_type": "stream",
          "text": [
            "[ 608/1000] train_loss: 0.00026 valid_loss: 0.00040\n",
            "EarlyStopping counter: 64 out of 100\n"
          ],
          "name": "stdout"
        },
        {
          "output_type": "stream",
          "text": [
            "1024it [00:04, 204.85it/s]\n",
            "1014it [00:01, 674.29it/s]\n",
            "20it [00:00, 196.95it/s]"
          ],
          "name": "stderr"
        },
        {
          "output_type": "stream",
          "text": [
            "[ 609/1000] train_loss: 0.00021 valid_loss: 0.00041\n",
            "EarlyStopping counter: 65 out of 100\n"
          ],
          "name": "stdout"
        },
        {
          "output_type": "stream",
          "text": [
            "1024it [00:04, 205.03it/s]\n",
            "1014it [00:01, 676.85it/s]\n",
            "22it [00:00, 212.25it/s]"
          ],
          "name": "stderr"
        },
        {
          "output_type": "stream",
          "text": [
            "[ 610/1000] train_loss: 0.00047 valid_loss: 0.00117\n",
            "EarlyStopping counter: 66 out of 100\n"
          ],
          "name": "stdout"
        },
        {
          "output_type": "stream",
          "text": [
            "1024it [00:05, 197.68it/s]\n",
            "1014it [00:01, 666.22it/s]\n",
            "19it [00:00, 183.34it/s]"
          ],
          "name": "stderr"
        },
        {
          "output_type": "stream",
          "text": [
            "[ 611/1000] train_loss: 0.00033 valid_loss: 0.00061\n",
            "EarlyStopping counter: 67 out of 100\n"
          ],
          "name": "stdout"
        },
        {
          "output_type": "stream",
          "text": [
            "1024it [00:05, 197.26it/s]\n",
            "1014it [00:01, 704.38it/s]\n",
            "21it [00:00, 207.25it/s]"
          ],
          "name": "stderr"
        },
        {
          "output_type": "stream",
          "text": [
            "[ 612/1000] train_loss: 0.00023 valid_loss: 0.00059\n",
            "EarlyStopping counter: 68 out of 100\n"
          ],
          "name": "stdout"
        },
        {
          "output_type": "stream",
          "text": [
            "1024it [00:05, 199.59it/s]\n",
            "1014it [00:01, 694.43it/s]\n",
            "20it [00:00, 197.67it/s]"
          ],
          "name": "stderr"
        },
        {
          "output_type": "stream",
          "text": [
            "[ 613/1000] train_loss: 0.00076 valid_loss: 0.00097\n",
            "EarlyStopping counter: 69 out of 100\n"
          ],
          "name": "stdout"
        },
        {
          "output_type": "stream",
          "text": [
            "1024it [00:05, 203.42it/s]\n",
            "1014it [00:01, 703.81it/s]\n",
            "22it [00:00, 218.68it/s]"
          ],
          "name": "stderr"
        },
        {
          "output_type": "stream",
          "text": [
            "[ 614/1000] train_loss: 0.00034 valid_loss: 0.00055\n",
            "EarlyStopping counter: 70 out of 100\n"
          ],
          "name": "stdout"
        },
        {
          "output_type": "stream",
          "text": [
            "1024it [00:04, 212.71it/s]\n",
            "1014it [00:01, 685.63it/s]\n",
            "23it [00:00, 220.90it/s]"
          ],
          "name": "stderr"
        },
        {
          "output_type": "stream",
          "text": [
            "[ 615/1000] train_loss: 0.00027 valid_loss: 0.00074\n",
            "EarlyStopping counter: 71 out of 100\n"
          ],
          "name": "stdout"
        },
        {
          "output_type": "stream",
          "text": [
            "1024it [00:04, 209.19it/s]\n",
            "1014it [00:01, 685.06it/s]\n",
            "20it [00:00, 192.07it/s]"
          ],
          "name": "stderr"
        },
        {
          "output_type": "stream",
          "text": [
            "[ 616/1000] train_loss: 0.00037 valid_loss: 0.00048\n",
            "EarlyStopping counter: 72 out of 100\n"
          ],
          "name": "stdout"
        },
        {
          "output_type": "stream",
          "text": [
            "1024it [00:05, 202.64it/s]\n",
            "1014it [00:01, 650.18it/s]\n",
            "17it [00:00, 169.28it/s]"
          ],
          "name": "stderr"
        },
        {
          "output_type": "stream",
          "text": [
            "[ 617/1000] train_loss: 0.00023 valid_loss: 0.00046\n",
            "EarlyStopping counter: 73 out of 100\n"
          ],
          "name": "stdout"
        },
        {
          "output_type": "stream",
          "text": [
            "1024it [00:05, 200.48it/s]\n",
            "1014it [00:01, 663.01it/s]\n",
            "21it [00:00, 206.91it/s]"
          ],
          "name": "stderr"
        },
        {
          "output_type": "stream",
          "text": [
            "[ 618/1000] train_loss: 0.00022 valid_loss: 0.00039\n",
            "EarlyStopping counter: 74 out of 100\n"
          ],
          "name": "stdout"
        },
        {
          "output_type": "stream",
          "text": [
            "1024it [00:05, 199.64it/s]\n",
            "1014it [00:01, 683.40it/s]\n",
            "20it [00:00, 194.05it/s]"
          ],
          "name": "stderr"
        },
        {
          "output_type": "stream",
          "text": [
            "[ 619/1000] train_loss: 0.00035 valid_loss: 0.00076\n",
            "EarlyStopping counter: 75 out of 100\n"
          ],
          "name": "stdout"
        },
        {
          "output_type": "stream",
          "text": [
            "1024it [00:05, 199.08it/s]\n",
            "1014it [00:01, 700.27it/s]\n",
            "21it [00:00, 209.21it/s]"
          ],
          "name": "stderr"
        },
        {
          "output_type": "stream",
          "text": [
            "[ 620/1000] train_loss: 0.00036 valid_loss: 0.00056\n",
            "EarlyStopping counter: 76 out of 100\n"
          ],
          "name": "stdout"
        },
        {
          "output_type": "stream",
          "text": [
            "1024it [00:04, 205.26it/s]\n",
            "1014it [00:01, 670.21it/s]\n",
            "20it [00:00, 194.24it/s]"
          ],
          "name": "stderr"
        },
        {
          "output_type": "stream",
          "text": [
            "[ 621/1000] train_loss: 0.00032 valid_loss: 0.00167\n",
            "EarlyStopping counter: 77 out of 100\n"
          ],
          "name": "stdout"
        },
        {
          "output_type": "stream",
          "text": [
            "1024it [00:05, 196.71it/s]\n",
            "1014it [00:01, 680.65it/s]\n",
            "20it [00:00, 197.64it/s]"
          ],
          "name": "stderr"
        },
        {
          "output_type": "stream",
          "text": [
            "[ 622/1000] train_loss: 0.00026 valid_loss: 0.00051\n",
            "EarlyStopping counter: 78 out of 100\n"
          ],
          "name": "stdout"
        },
        {
          "output_type": "stream",
          "text": [
            "1024it [00:05, 197.30it/s]\n",
            "1014it [00:01, 666.82it/s]\n",
            "20it [00:00, 199.10it/s]"
          ],
          "name": "stderr"
        },
        {
          "output_type": "stream",
          "text": [
            "[ 623/1000] train_loss: 0.00054 valid_loss: 0.00064\n",
            "EarlyStopping counter: 79 out of 100\n"
          ],
          "name": "stdout"
        },
        {
          "output_type": "stream",
          "text": [
            "1024it [00:05, 200.64it/s]\n",
            "1014it [00:01, 718.32it/s]\n",
            "21it [00:00, 202.65it/s]"
          ],
          "name": "stderr"
        },
        {
          "output_type": "stream",
          "text": [
            "[ 624/1000] train_loss: 0.00041 valid_loss: 0.00057\n",
            "EarlyStopping counter: 80 out of 100\n"
          ],
          "name": "stdout"
        },
        {
          "output_type": "stream",
          "text": [
            "1024it [00:05, 201.34it/s]\n",
            "1014it [00:01, 673.07it/s]\n",
            "20it [00:00, 197.82it/s]"
          ],
          "name": "stderr"
        },
        {
          "output_type": "stream",
          "text": [
            "[ 625/1000] train_loss: 0.00053 valid_loss: 0.00044\n",
            "EarlyStopping counter: 81 out of 100\n"
          ],
          "name": "stdout"
        },
        {
          "output_type": "stream",
          "text": [
            "1024it [00:05, 200.70it/s]\n",
            "1014it [00:01, 671.13it/s]\n",
            "22it [00:00, 212.20it/s]"
          ],
          "name": "stderr"
        },
        {
          "output_type": "stream",
          "text": [
            "[ 626/1000] train_loss: 0.00036 valid_loss: 0.00046\n",
            "EarlyStopping counter: 82 out of 100\n"
          ],
          "name": "stdout"
        },
        {
          "output_type": "stream",
          "text": [
            "1024it [00:05, 200.23it/s]\n",
            "1014it [00:01, 675.74it/s]\n",
            "21it [00:00, 207.56it/s]"
          ],
          "name": "stderr"
        },
        {
          "output_type": "stream",
          "text": [
            "[ 627/1000] train_loss: 0.00044 valid_loss: 0.00088\n",
            "EarlyStopping counter: 83 out of 100\n"
          ],
          "name": "stdout"
        },
        {
          "output_type": "stream",
          "text": [
            "1024it [00:04, 205.53it/s]\n",
            "1014it [00:01, 678.39it/s]\n",
            "21it [00:00, 206.60it/s]"
          ],
          "name": "stderr"
        },
        {
          "output_type": "stream",
          "text": [
            "[ 628/1000] train_loss: 0.00025 valid_loss: 0.00038\n",
            "EarlyStopping counter: 84 out of 100\n"
          ],
          "name": "stdout"
        },
        {
          "output_type": "stream",
          "text": [
            "1024it [00:05, 202.12it/s]\n",
            "1014it [00:01, 659.89it/s]\n",
            "21it [00:00, 202.68it/s]"
          ],
          "name": "stderr"
        },
        {
          "output_type": "stream",
          "text": [
            "[ 629/1000] train_loss: 0.00034 valid_loss: 0.00055\n",
            "EarlyStopping counter: 85 out of 100\n"
          ],
          "name": "stdout"
        },
        {
          "output_type": "stream",
          "text": [
            "1024it [00:05, 199.30it/s]\n",
            "1014it [00:01, 671.70it/s]\n",
            "19it [00:00, 189.48it/s]"
          ],
          "name": "stderr"
        },
        {
          "output_type": "stream",
          "text": [
            "[ 630/1000] train_loss: 0.00065 valid_loss: 0.00122\n",
            "EarlyStopping counter: 86 out of 100\n"
          ],
          "name": "stdout"
        },
        {
          "output_type": "stream",
          "text": [
            "1024it [00:05, 197.49it/s]\n",
            "1014it [00:01, 662.41it/s]\n",
            "20it [00:00, 191.74it/s]"
          ],
          "name": "stderr"
        },
        {
          "output_type": "stream",
          "text": [
            "[ 631/1000] train_loss: 0.00040 valid_loss: 0.00071\n",
            "EarlyStopping counter: 87 out of 100\n"
          ],
          "name": "stdout"
        },
        {
          "output_type": "stream",
          "text": [
            "1024it [00:05, 202.78it/s]\n",
            "1014it [00:01, 674.60it/s]\n",
            "19it [00:00, 188.46it/s]"
          ],
          "name": "stderr"
        },
        {
          "output_type": "stream",
          "text": [
            "[ 632/1000] train_loss: 0.00022 valid_loss: 0.00030\n",
            "EarlyStopping counter: 88 out of 100\n"
          ],
          "name": "stdout"
        },
        {
          "output_type": "stream",
          "text": [
            "1024it [00:05, 196.84it/s]\n",
            "1014it [00:01, 683.32it/s]\n",
            "20it [00:00, 194.02it/s]"
          ],
          "name": "stderr"
        },
        {
          "output_type": "stream",
          "text": [
            "[ 633/1000] train_loss: 0.00019 valid_loss: 0.00029\n",
            "EarlyStopping counter: 89 out of 100\n"
          ],
          "name": "stdout"
        },
        {
          "output_type": "stream",
          "text": [
            "1024it [00:05, 197.47it/s]\n",
            "1014it [00:01, 668.55it/s]\n",
            "19it [00:00, 185.92it/s]"
          ],
          "name": "stderr"
        },
        {
          "output_type": "stream",
          "text": [
            "[ 634/1000] train_loss: 0.00018 valid_loss: 0.00026\n",
            "Validation loss decreased (0.000283 --> 0.000265).  Saving model ...\n"
          ],
          "name": "stdout"
        },
        {
          "output_type": "stream",
          "text": [
            "1024it [00:05, 196.88it/s]\n",
            "1014it [00:01, 674.69it/s]\n",
            "23it [00:00, 226.02it/s]"
          ],
          "name": "stderr"
        },
        {
          "output_type": "stream",
          "text": [
            "[ 635/1000] train_loss: 0.00018 valid_loss: 0.00031\n",
            "EarlyStopping counter: 1 out of 100\n"
          ],
          "name": "stdout"
        },
        {
          "output_type": "stream",
          "text": [
            "1024it [00:05, 203.61it/s]\n",
            "1014it [00:01, 659.48it/s]\n",
            "19it [00:00, 188.39it/s]"
          ],
          "name": "stderr"
        },
        {
          "output_type": "stream",
          "text": [
            "[ 636/1000] train_loss: 0.00019 valid_loss: 0.00036\n",
            "EarlyStopping counter: 2 out of 100\n"
          ],
          "name": "stdout"
        },
        {
          "output_type": "stream",
          "text": [
            "1024it [00:05, 199.49it/s]\n",
            "1014it [00:01, 665.74it/s]\n",
            "22it [00:00, 212.55it/s]"
          ],
          "name": "stderr"
        },
        {
          "output_type": "stream",
          "text": [
            "[ 637/1000] train_loss: 0.00028 valid_loss: 0.00150\n",
            "EarlyStopping counter: 3 out of 100\n"
          ],
          "name": "stdout"
        },
        {
          "output_type": "stream",
          "text": [
            "1024it [00:05, 196.59it/s]\n",
            "1014it [00:01, 689.94it/s]\n",
            "20it [00:00, 191.71it/s]"
          ],
          "name": "stderr"
        },
        {
          "output_type": "stream",
          "text": [
            "[ 638/1000] train_loss: 0.00051 valid_loss: 0.00102\n",
            "EarlyStopping counter: 4 out of 100\n"
          ],
          "name": "stdout"
        },
        {
          "output_type": "stream",
          "text": [
            "1024it [00:05, 196.52it/s]\n",
            "1014it [00:01, 659.44it/s]\n",
            "21it [00:00, 208.83it/s]"
          ],
          "name": "stderr"
        },
        {
          "output_type": "stream",
          "text": [
            "[ 639/1000] train_loss: 0.00047 valid_loss: 0.00093\n",
            "EarlyStopping counter: 5 out of 100\n"
          ],
          "name": "stdout"
        },
        {
          "output_type": "stream",
          "text": [
            "1024it [00:05, 197.87it/s]\n",
            "1014it [00:01, 684.07it/s]\n",
            "19it [00:00, 182.70it/s]"
          ],
          "name": "stderr"
        },
        {
          "output_type": "stream",
          "text": [
            "[ 640/1000] train_loss: 0.00044 valid_loss: 0.00080\n",
            "EarlyStopping counter: 6 out of 100\n"
          ],
          "name": "stdout"
        },
        {
          "output_type": "stream",
          "text": [
            "1024it [00:05, 197.73it/s]\n",
            "1014it [00:01, 660.30it/s]\n",
            "21it [00:00, 207.47it/s]"
          ],
          "name": "stderr"
        },
        {
          "output_type": "stream",
          "text": [
            "[ 641/1000] train_loss: 0.00069 valid_loss: 0.00099\n",
            "EarlyStopping counter: 7 out of 100\n"
          ],
          "name": "stdout"
        },
        {
          "output_type": "stream",
          "text": [
            "1024it [00:05, 199.53it/s]\n",
            "1014it [00:01, 683.69it/s]\n",
            "22it [00:00, 217.27it/s]"
          ],
          "name": "stderr"
        },
        {
          "output_type": "stream",
          "text": [
            "[ 642/1000] train_loss: 0.00068 valid_loss: 0.00173\n",
            "EarlyStopping counter: 8 out of 100\n"
          ],
          "name": "stdout"
        },
        {
          "output_type": "stream",
          "text": [
            "1024it [00:05, 201.67it/s]\n",
            "1014it [00:01, 663.85it/s]\n",
            "20it [00:00, 196.91it/s]"
          ],
          "name": "stderr"
        },
        {
          "output_type": "stream",
          "text": [
            "[ 643/1000] train_loss: 0.00080 valid_loss: 0.00126\n",
            "EarlyStopping counter: 9 out of 100\n"
          ],
          "name": "stdout"
        },
        {
          "output_type": "stream",
          "text": [
            "1024it [00:05, 196.53it/s]\n",
            "1014it [00:01, 677.83it/s]\n",
            "21it [00:00, 206.01it/s]"
          ],
          "name": "stderr"
        },
        {
          "output_type": "stream",
          "text": [
            "[ 644/1000] train_loss: 0.00045 valid_loss: 0.00089\n",
            "EarlyStopping counter: 10 out of 100\n"
          ],
          "name": "stdout"
        },
        {
          "output_type": "stream",
          "text": [
            "1024it [00:05, 198.03it/s]\n",
            "1014it [00:01, 659.30it/s]\n",
            "19it [00:00, 190.00it/s]"
          ],
          "name": "stderr"
        },
        {
          "output_type": "stream",
          "text": [
            "[ 645/1000] train_loss: 0.00042 valid_loss: 0.00080\n",
            "EarlyStopping counter: 11 out of 100\n"
          ],
          "name": "stdout"
        },
        {
          "output_type": "stream",
          "text": [
            "1024it [00:05, 197.67it/s]\n",
            "1014it [00:01, 658.69it/s]\n",
            "20it [00:00, 192.92it/s]"
          ],
          "name": "stderr"
        },
        {
          "output_type": "stream",
          "text": [
            "[ 646/1000] train_loss: 0.00057 valid_loss: 0.00121\n",
            "EarlyStopping counter: 12 out of 100\n"
          ],
          "name": "stdout"
        },
        {
          "output_type": "stream",
          "text": [
            "1024it [00:05, 198.73it/s]\n",
            "1014it [00:01, 664.69it/s]\n",
            "20it [00:00, 198.25it/s]"
          ],
          "name": "stderr"
        },
        {
          "output_type": "stream",
          "text": [
            "[ 647/1000] train_loss: 0.00052 valid_loss: 0.00189\n",
            "EarlyStopping counter: 13 out of 100\n"
          ],
          "name": "stdout"
        },
        {
          "output_type": "stream",
          "text": [
            "1024it [00:05, 200.47it/s]\n",
            "1014it [00:01, 672.22it/s]\n",
            "21it [00:00, 202.35it/s]"
          ],
          "name": "stderr"
        },
        {
          "output_type": "stream",
          "text": [
            "[ 648/1000] train_loss: 0.00058 valid_loss: 0.00110\n",
            "EarlyStopping counter: 14 out of 100\n"
          ],
          "name": "stdout"
        },
        {
          "output_type": "stream",
          "text": [
            "1024it [00:05, 195.33it/s]\n",
            "1014it [00:01, 681.61it/s]\n",
            "22it [00:00, 211.89it/s]"
          ],
          "name": "stderr"
        },
        {
          "output_type": "stream",
          "text": [
            "[ 649/1000] train_loss: 0.00100 valid_loss: 0.00136\n",
            "EarlyStopping counter: 15 out of 100\n"
          ],
          "name": "stdout"
        },
        {
          "output_type": "stream",
          "text": [
            "1024it [00:05, 197.65it/s]\n",
            "1014it [00:01, 652.41it/s]\n",
            "21it [00:00, 204.69it/s]"
          ],
          "name": "stderr"
        },
        {
          "output_type": "stream",
          "text": [
            "[ 650/1000] train_loss: 0.00037 valid_loss: 0.00060\n",
            "EarlyStopping counter: 16 out of 100\n"
          ],
          "name": "stdout"
        },
        {
          "output_type": "stream",
          "text": [
            "1024it [00:05, 199.07it/s]\n",
            "1014it [00:01, 672.25it/s]\n",
            "21it [00:00, 209.05it/s]"
          ],
          "name": "stderr"
        },
        {
          "output_type": "stream",
          "text": [
            "[ 651/1000] train_loss: 0.00020 valid_loss: 0.00027\n",
            "EarlyStopping counter: 17 out of 100\n"
          ],
          "name": "stdout"
        },
        {
          "output_type": "stream",
          "text": [
            "1024it [00:05, 199.67it/s]\n",
            "1014it [00:01, 671.24it/s]\n",
            "21it [00:00, 209.18it/s]"
          ],
          "name": "stderr"
        },
        {
          "output_type": "stream",
          "text": [
            "[ 652/1000] train_loss: 0.00028 valid_loss: 0.00043\n",
            "EarlyStopping counter: 18 out of 100\n"
          ],
          "name": "stdout"
        },
        {
          "output_type": "stream",
          "text": [
            "1024it [00:05, 198.83it/s]\n",
            "1014it [00:01, 689.30it/s]\n",
            "19it [00:00, 185.69it/s]"
          ],
          "name": "stderr"
        },
        {
          "output_type": "stream",
          "text": [
            "[ 653/1000] train_loss: 0.00034 valid_loss: 0.00058\n",
            "EarlyStopping counter: 19 out of 100\n"
          ],
          "name": "stdout"
        },
        {
          "output_type": "stream",
          "text": [
            "1024it [00:05, 198.89it/s]\n",
            "1014it [00:01, 653.23it/s]\n",
            "21it [00:00, 203.09it/s]"
          ],
          "name": "stderr"
        },
        {
          "output_type": "stream",
          "text": [
            "[ 654/1000] train_loss: 0.00036 valid_loss: 0.00065\n",
            "EarlyStopping counter: 20 out of 100\n"
          ],
          "name": "stdout"
        },
        {
          "output_type": "stream",
          "text": [
            "1024it [00:05, 198.18it/s]\n",
            "1014it [00:01, 671.74it/s]\n",
            "21it [00:00, 207.11it/s]"
          ],
          "name": "stderr"
        },
        {
          "output_type": "stream",
          "text": [
            "[ 655/1000] train_loss: 0.00029 valid_loss: 0.00047\n",
            "EarlyStopping counter: 21 out of 100\n"
          ],
          "name": "stdout"
        },
        {
          "output_type": "stream",
          "text": [
            "1024it [00:05, 197.98it/s]\n",
            "1014it [00:01, 666.01it/s]\n",
            "21it [00:00, 199.01it/s]"
          ],
          "name": "stderr"
        },
        {
          "output_type": "stream",
          "text": [
            "[ 656/1000] train_loss: 0.00026 valid_loss: 0.00048\n",
            "EarlyStopping counter: 22 out of 100\n"
          ],
          "name": "stdout"
        },
        {
          "output_type": "stream",
          "text": [
            "1024it [00:05, 198.20it/s]\n",
            "1014it [00:01, 647.04it/s]\n",
            "20it [00:00, 194.49it/s]"
          ],
          "name": "stderr"
        },
        {
          "output_type": "stream",
          "text": [
            "[ 657/1000] train_loss: 0.00022 valid_loss: 0.00058\n",
            "EarlyStopping counter: 23 out of 100\n"
          ],
          "name": "stdout"
        },
        {
          "output_type": "stream",
          "text": [
            "1024it [00:05, 194.69it/s]\n",
            "1014it [00:01, 662.36it/s]\n",
            "20it [00:00, 191.78it/s]"
          ],
          "name": "stderr"
        },
        {
          "output_type": "stream",
          "text": [
            "[ 658/1000] train_loss: 0.00043 valid_loss: 0.00072\n",
            "EarlyStopping counter: 24 out of 100\n"
          ],
          "name": "stdout"
        },
        {
          "output_type": "stream",
          "text": [
            "1024it [00:05, 198.28it/s]\n",
            "1014it [00:01, 677.36it/s]\n",
            "21it [00:00, 208.19it/s]"
          ],
          "name": "stderr"
        },
        {
          "output_type": "stream",
          "text": [
            "[ 659/1000] train_loss: 0.00025 valid_loss: 0.00070\n",
            "EarlyStopping counter: 25 out of 100\n"
          ],
          "name": "stdout"
        },
        {
          "output_type": "stream",
          "text": [
            "1024it [00:05, 198.64it/s]\n",
            "1014it [00:01, 664.64it/s]\n",
            "21it [00:00, 204.98it/s]"
          ],
          "name": "stderr"
        },
        {
          "output_type": "stream",
          "text": [
            "[ 660/1000] train_loss: 0.00031 valid_loss: 0.00047\n",
            "EarlyStopping counter: 26 out of 100\n"
          ],
          "name": "stdout"
        },
        {
          "output_type": "stream",
          "text": [
            "1024it [00:05, 198.35it/s]\n",
            "1014it [00:01, 675.77it/s]\n",
            "21it [00:00, 204.29it/s]"
          ],
          "name": "stderr"
        },
        {
          "output_type": "stream",
          "text": [
            "[ 661/1000] train_loss: 0.00046 valid_loss: 0.00068\n",
            "EarlyStopping counter: 27 out of 100\n"
          ],
          "name": "stdout"
        },
        {
          "output_type": "stream",
          "text": [
            "1024it [00:05, 199.66it/s]\n",
            "1014it [00:01, 658.45it/s]\n",
            "20it [00:00, 197.77it/s]"
          ],
          "name": "stderr"
        },
        {
          "output_type": "stream",
          "text": [
            "[ 662/1000] train_loss: 0.00024 valid_loss: 0.00069\n",
            "EarlyStopping counter: 28 out of 100\n"
          ],
          "name": "stdout"
        },
        {
          "output_type": "stream",
          "text": [
            "1024it [00:05, 198.60it/s]\n",
            "1014it [00:01, 670.15it/s]\n",
            "20it [00:00, 195.67it/s]"
          ],
          "name": "stderr"
        },
        {
          "output_type": "stream",
          "text": [
            "[ 663/1000] train_loss: 0.00055 valid_loss: 0.00103\n",
            "EarlyStopping counter: 29 out of 100\n"
          ],
          "name": "stdout"
        },
        {
          "output_type": "stream",
          "text": [
            "1024it [00:05, 200.93it/s]\n",
            "1014it [00:01, 668.50it/s]\n",
            "21it [00:00, 203.17it/s]"
          ],
          "name": "stderr"
        },
        {
          "output_type": "stream",
          "text": [
            "[ 664/1000] train_loss: 0.00036 valid_loss: 0.00048\n",
            "EarlyStopping counter: 30 out of 100\n"
          ],
          "name": "stdout"
        },
        {
          "output_type": "stream",
          "text": [
            "1024it [00:05, 199.76it/s]\n",
            "1014it [00:01, 664.27it/s]\n",
            "21it [00:00, 198.29it/s]"
          ],
          "name": "stderr"
        },
        {
          "output_type": "stream",
          "text": [
            "[ 665/1000] train_loss: 0.00021 valid_loss: 0.00037\n",
            "EarlyStopping counter: 31 out of 100\n"
          ],
          "name": "stdout"
        },
        {
          "output_type": "stream",
          "text": [
            "1024it [00:05, 198.13it/s]\n",
            "1014it [00:01, 658.60it/s]\n",
            "21it [00:00, 204.92it/s]"
          ],
          "name": "stderr"
        },
        {
          "output_type": "stream",
          "text": [
            "[ 666/1000] train_loss: 0.00057 valid_loss: 0.00268\n",
            "EarlyStopping counter: 32 out of 100\n"
          ],
          "name": "stdout"
        },
        {
          "output_type": "stream",
          "text": [
            "1024it [00:05, 198.64it/s]\n",
            "1014it [00:01, 661.18it/s]\n",
            "22it [00:00, 214.92it/s]"
          ],
          "name": "stderr"
        },
        {
          "output_type": "stream",
          "text": [
            "[ 667/1000] train_loss: 0.00068 valid_loss: 0.00077\n",
            "EarlyStopping counter: 33 out of 100\n"
          ],
          "name": "stdout"
        },
        {
          "output_type": "stream",
          "text": [
            "1024it [00:05, 196.63it/s]\n",
            "1014it [00:01, 656.27it/s]\n",
            "19it [00:00, 188.90it/s]"
          ],
          "name": "stderr"
        },
        {
          "output_type": "stream",
          "text": [
            "[ 668/1000] train_loss: 0.00046 valid_loss: 0.00112\n",
            "EarlyStopping counter: 34 out of 100\n"
          ],
          "name": "stdout"
        },
        {
          "output_type": "stream",
          "text": [
            "1024it [00:05, 188.99it/s]\n",
            "1014it [00:01, 644.90it/s]\n",
            "20it [00:00, 196.58it/s]"
          ],
          "name": "stderr"
        },
        {
          "output_type": "stream",
          "text": [
            "[ 669/1000] train_loss: 0.00054 valid_loss: 0.00044\n",
            "EarlyStopping counter: 35 out of 100\n"
          ],
          "name": "stdout"
        },
        {
          "output_type": "stream",
          "text": [
            "1024it [00:05, 197.28it/s]\n",
            "1014it [00:01, 666.73it/s]\n",
            "21it [00:00, 201.91it/s]"
          ],
          "name": "stderr"
        },
        {
          "output_type": "stream",
          "text": [
            "[ 670/1000] train_loss: 0.00020 valid_loss: 0.00040\n",
            "EarlyStopping counter: 36 out of 100\n"
          ],
          "name": "stdout"
        },
        {
          "output_type": "stream",
          "text": [
            "1024it [00:05, 199.16it/s]\n",
            "1014it [00:01, 662.08it/s]\n",
            "21it [00:00, 202.16it/s]"
          ],
          "name": "stderr"
        },
        {
          "output_type": "stream",
          "text": [
            "[ 671/1000] train_loss: 0.00017 valid_loss: 0.00036\n",
            "EarlyStopping counter: 37 out of 100\n"
          ],
          "name": "stdout"
        },
        {
          "output_type": "stream",
          "text": [
            "1024it [00:05, 199.48it/s]\n",
            "1014it [00:01, 659.94it/s]\n",
            "21it [00:00, 207.37it/s]"
          ],
          "name": "stderr"
        },
        {
          "output_type": "stream",
          "text": [
            "[ 672/1000] train_loss: 0.00030 valid_loss: 0.00042\n",
            "EarlyStopping counter: 38 out of 100\n"
          ],
          "name": "stdout"
        },
        {
          "output_type": "stream",
          "text": [
            "1024it [00:05, 196.79it/s]\n",
            "1014it [00:01, 662.05it/s]\n",
            "19it [00:00, 186.95it/s]"
          ],
          "name": "stderr"
        },
        {
          "output_type": "stream",
          "text": [
            "[ 673/1000] train_loss: 0.00064 valid_loss: 0.00100\n",
            "EarlyStopping counter: 39 out of 100\n"
          ],
          "name": "stdout"
        },
        {
          "output_type": "stream",
          "text": [
            "1024it [00:05, 194.14it/s]\n",
            "1014it [00:01, 667.05it/s]\n",
            "19it [00:00, 181.69it/s]"
          ],
          "name": "stderr"
        },
        {
          "output_type": "stream",
          "text": [
            "[ 674/1000] train_loss: 0.00071 valid_loss: 0.00119\n",
            "EarlyStopping counter: 40 out of 100\n"
          ],
          "name": "stdout"
        },
        {
          "output_type": "stream",
          "text": [
            "1024it [00:05, 199.62it/s]\n",
            "1014it [00:01, 659.22it/s]\n",
            "21it [00:00, 208.27it/s]"
          ],
          "name": "stderr"
        },
        {
          "output_type": "stream",
          "text": [
            "[ 675/1000] train_loss: 0.00054 valid_loss: 0.00106\n",
            "EarlyStopping counter: 41 out of 100\n"
          ],
          "name": "stdout"
        },
        {
          "output_type": "stream",
          "text": [
            "1024it [00:05, 197.53it/s]\n",
            "1014it [00:01, 671.30it/s]\n",
            "18it [00:00, 175.85it/s]"
          ],
          "name": "stderr"
        },
        {
          "output_type": "stream",
          "text": [
            "[ 676/1000] train_loss: 0.00046 valid_loss: 0.00121\n",
            "EarlyStopping counter: 42 out of 100\n"
          ],
          "name": "stdout"
        },
        {
          "output_type": "stream",
          "text": [
            "1024it [00:05, 196.99it/s]\n",
            "1014it [00:01, 650.41it/s]\n",
            "21it [00:00, 205.75it/s]"
          ],
          "name": "stderr"
        },
        {
          "output_type": "stream",
          "text": [
            "[ 677/1000] train_loss: 0.00044 valid_loss: 0.00106\n",
            "EarlyStopping counter: 43 out of 100\n"
          ],
          "name": "stdout"
        },
        {
          "output_type": "stream",
          "text": [
            "1024it [00:05, 198.46it/s]\n",
            "1014it [00:01, 673.57it/s]\n",
            "21it [00:00, 205.68it/s]"
          ],
          "name": "stderr"
        },
        {
          "output_type": "stream",
          "text": [
            "[ 678/1000] train_loss: 0.00043 valid_loss: 0.00055\n",
            "EarlyStopping counter: 44 out of 100\n"
          ],
          "name": "stdout"
        },
        {
          "output_type": "stream",
          "text": [
            "1024it [00:05, 198.13it/s]\n",
            "1014it [00:01, 658.91it/s]\n",
            "20it [00:00, 199.85it/s]"
          ],
          "name": "stderr"
        },
        {
          "output_type": "stream",
          "text": [
            "[ 679/1000] train_loss: 0.00041 valid_loss: 0.00084\n",
            "EarlyStopping counter: 45 out of 100\n"
          ],
          "name": "stdout"
        },
        {
          "output_type": "stream",
          "text": [
            "1024it [00:05, 198.35it/s]\n",
            "1014it [00:01, 656.52it/s]\n",
            "20it [00:00, 197.31it/s]"
          ],
          "name": "stderr"
        },
        {
          "output_type": "stream",
          "text": [
            "[ 680/1000] train_loss: 0.00080 valid_loss: 0.00118\n",
            "EarlyStopping counter: 46 out of 100\n"
          ],
          "name": "stdout"
        },
        {
          "output_type": "stream",
          "text": [
            "1024it [00:05, 199.02it/s]\n",
            "1014it [00:01, 665.53it/s]\n",
            "20it [00:00, 195.75it/s]"
          ],
          "name": "stderr"
        },
        {
          "output_type": "stream",
          "text": [
            "[ 681/1000] train_loss: 0.00074 valid_loss: 0.00135\n",
            "EarlyStopping counter: 47 out of 100\n"
          ],
          "name": "stdout"
        },
        {
          "output_type": "stream",
          "text": [
            "1024it [00:05, 197.90it/s]\n",
            "1014it [00:01, 648.04it/s]\n",
            "21it [00:00, 206.30it/s]"
          ],
          "name": "stderr"
        },
        {
          "output_type": "stream",
          "text": [
            "[ 682/1000] train_loss: 0.00083 valid_loss: 0.00095\n",
            "EarlyStopping counter: 48 out of 100\n"
          ],
          "name": "stdout"
        },
        {
          "output_type": "stream",
          "text": [
            "1024it [00:05, 202.43it/s]\n",
            "1014it [00:01, 658.22it/s]\n",
            "21it [00:00, 202.01it/s]"
          ],
          "name": "stderr"
        },
        {
          "output_type": "stream",
          "text": [
            "[ 683/1000] train_loss: 0.00041 valid_loss: 0.00109\n",
            "EarlyStopping counter: 49 out of 100\n"
          ],
          "name": "stdout"
        },
        {
          "output_type": "stream",
          "text": [
            "1024it [00:05, 196.29it/s]\n",
            "1014it [00:01, 650.51it/s]\n",
            "21it [00:00, 204.22it/s]"
          ],
          "name": "stderr"
        },
        {
          "output_type": "stream",
          "text": [
            "[ 684/1000] train_loss: 0.00057 valid_loss: 0.00065\n",
            "EarlyStopping counter: 50 out of 100\n"
          ],
          "name": "stdout"
        },
        {
          "output_type": "stream",
          "text": [
            "1024it [00:05, 195.92it/s]\n",
            "1014it [00:01, 662.41it/s]\n",
            "20it [00:00, 196.77it/s]"
          ],
          "name": "stderr"
        },
        {
          "output_type": "stream",
          "text": [
            "[ 685/1000] train_loss: 0.00051 valid_loss: 0.00078\n",
            "EarlyStopping counter: 51 out of 100\n"
          ],
          "name": "stdout"
        },
        {
          "output_type": "stream",
          "text": [
            "1024it [00:05, 199.20it/s]\n",
            "1014it [00:01, 665.44it/s]\n",
            "20it [00:00, 199.88it/s]"
          ],
          "name": "stderr"
        },
        {
          "output_type": "stream",
          "text": [
            "[ 686/1000] train_loss: 0.00051 valid_loss: 0.00082\n",
            "EarlyStopping counter: 52 out of 100\n"
          ],
          "name": "stdout"
        },
        {
          "output_type": "stream",
          "text": [
            "1024it [00:05, 198.05it/s]\n",
            "1014it [00:01, 668.86it/s]\n",
            "21it [00:00, 201.30it/s]"
          ],
          "name": "stderr"
        },
        {
          "output_type": "stream",
          "text": [
            "[ 687/1000] train_loss: 0.00044 valid_loss: 0.00059\n",
            "EarlyStopping counter: 53 out of 100\n"
          ],
          "name": "stdout"
        },
        {
          "output_type": "stream",
          "text": [
            "1024it [00:05, 198.96it/s]\n",
            "1014it [00:01, 654.16it/s]\n",
            "19it [00:00, 186.09it/s]"
          ],
          "name": "stderr"
        },
        {
          "output_type": "stream",
          "text": [
            "[ 688/1000] train_loss: 0.00045 valid_loss: 0.00086\n",
            "EarlyStopping counter: 54 out of 100\n"
          ],
          "name": "stdout"
        },
        {
          "output_type": "stream",
          "text": [
            "1024it [00:05, 196.46it/s]\n",
            "1014it [00:01, 693.68it/s]\n",
            "22it [00:00, 211.24it/s]"
          ],
          "name": "stderr"
        },
        {
          "output_type": "stream",
          "text": [
            "[ 689/1000] train_loss: 0.00060 valid_loss: 0.00107\n",
            "EarlyStopping counter: 55 out of 100\n"
          ],
          "name": "stdout"
        },
        {
          "output_type": "stream",
          "text": [
            "1024it [00:05, 197.83it/s]\n",
            "1014it [00:01, 672.70it/s]\n",
            "22it [00:00, 215.27it/s]"
          ],
          "name": "stderr"
        },
        {
          "output_type": "stream",
          "text": [
            "[ 690/1000] train_loss: 0.00065 valid_loss: 0.00147\n",
            "EarlyStopping counter: 56 out of 100\n"
          ],
          "name": "stdout"
        },
        {
          "output_type": "stream",
          "text": [
            "1024it [00:05, 198.01it/s]\n",
            "1014it [00:01, 673.66it/s]\n",
            "19it [00:00, 187.18it/s]"
          ],
          "name": "stderr"
        },
        {
          "output_type": "stream",
          "text": [
            "[ 691/1000] train_loss: 0.00053 valid_loss: 0.00127\n",
            "EarlyStopping counter: 57 out of 100\n"
          ],
          "name": "stdout"
        },
        {
          "output_type": "stream",
          "text": [
            "1024it [00:05, 196.71it/s]\n",
            "1014it [00:01, 655.54it/s]\n",
            "21it [00:00, 202.46it/s]"
          ],
          "name": "stderr"
        },
        {
          "output_type": "stream",
          "text": [
            "[ 692/1000] train_loss: 0.00104 valid_loss: 0.00180\n",
            "EarlyStopping counter: 58 out of 100\n"
          ],
          "name": "stdout"
        },
        {
          "output_type": "stream",
          "text": [
            "1024it [00:05, 199.05it/s]\n",
            "1014it [00:01, 664.88it/s]\n",
            "20it [00:00, 194.29it/s]"
          ],
          "name": "stderr"
        },
        {
          "output_type": "stream",
          "text": [
            "[ 693/1000] train_loss: 0.00083 valid_loss: 0.00083\n",
            "EarlyStopping counter: 59 out of 100\n"
          ],
          "name": "stdout"
        },
        {
          "output_type": "stream",
          "text": [
            "1024it [00:05, 197.18it/s]\n",
            "1014it [00:01, 659.26it/s]\n",
            "21it [00:00, 208.59it/s]"
          ],
          "name": "stderr"
        },
        {
          "output_type": "stream",
          "text": [
            "[ 694/1000] train_loss: 0.00075 valid_loss: 0.00107\n",
            "EarlyStopping counter: 60 out of 100\n"
          ],
          "name": "stdout"
        },
        {
          "output_type": "stream",
          "text": [
            "1024it [00:05, 199.95it/s]\n",
            "1014it [00:01, 660.14it/s]\n",
            "21it [00:00, 207.56it/s]"
          ],
          "name": "stderr"
        },
        {
          "output_type": "stream",
          "text": [
            "[ 695/1000] train_loss: 0.00053 valid_loss: 0.00078\n",
            "EarlyStopping counter: 61 out of 100\n"
          ],
          "name": "stdout"
        },
        {
          "output_type": "stream",
          "text": [
            "1024it [00:05, 200.10it/s]\n",
            "1014it [00:01, 681.41it/s]\n",
            "20it [00:00, 194.83it/s]"
          ],
          "name": "stderr"
        },
        {
          "output_type": "stream",
          "text": [
            "[ 696/1000] train_loss: 0.00058 valid_loss: 0.00140\n",
            "EarlyStopping counter: 62 out of 100\n"
          ],
          "name": "stdout"
        },
        {
          "output_type": "stream",
          "text": [
            "1024it [00:05, 198.90it/s]\n",
            "1014it [00:01, 673.28it/s]\n",
            "19it [00:00, 185.79it/s]"
          ],
          "name": "stderr"
        },
        {
          "output_type": "stream",
          "text": [
            "[ 697/1000] train_loss: 0.00100 valid_loss: 0.00124\n",
            "EarlyStopping counter: 63 out of 100\n"
          ],
          "name": "stdout"
        },
        {
          "output_type": "stream",
          "text": [
            "1024it [00:05, 197.00it/s]\n",
            "1014it [00:01, 673.49it/s]\n",
            "20it [00:00, 193.52it/s]"
          ],
          "name": "stderr"
        },
        {
          "output_type": "stream",
          "text": [
            "[ 698/1000] train_loss: 0.00041 valid_loss: 0.00079\n",
            "EarlyStopping counter: 64 out of 100\n"
          ],
          "name": "stdout"
        },
        {
          "output_type": "stream",
          "text": [
            "1024it [00:05, 200.03it/s]\n",
            "1014it [00:01, 657.34it/s]\n",
            "19it [00:00, 187.96it/s]"
          ],
          "name": "stderr"
        },
        {
          "output_type": "stream",
          "text": [
            "[ 699/1000] train_loss: 0.00039 valid_loss: 0.00081\n",
            "EarlyStopping counter: 65 out of 100\n"
          ],
          "name": "stdout"
        },
        {
          "output_type": "stream",
          "text": [
            "1024it [00:05, 202.36it/s]\n",
            "1014it [00:01, 671.13it/s]\n",
            "20it [00:00, 197.26it/s]"
          ],
          "name": "stderr"
        },
        {
          "output_type": "stream",
          "text": [
            "[ 700/1000] train_loss: 0.00031 valid_loss: 0.00069\n",
            "EarlyStopping counter: 66 out of 100\n"
          ],
          "name": "stdout"
        },
        {
          "output_type": "stream",
          "text": [
            "1024it [00:05, 199.38it/s]\n",
            "1014it [00:01, 680.41it/s]\n",
            "20it [00:00, 197.16it/s]"
          ],
          "name": "stderr"
        },
        {
          "output_type": "stream",
          "text": [
            "[ 701/1000] train_loss: 0.00039 valid_loss: 0.00066\n",
            "EarlyStopping counter: 67 out of 100\n"
          ],
          "name": "stdout"
        },
        {
          "output_type": "stream",
          "text": [
            "1024it [00:05, 198.12it/s]\n",
            "1014it [00:01, 658.01it/s]\n",
            "19it [00:00, 183.04it/s]"
          ],
          "name": "stderr"
        },
        {
          "output_type": "stream",
          "text": [
            "[ 702/1000] train_loss: 0.00045 valid_loss: 0.00126\n",
            "EarlyStopping counter: 68 out of 100\n"
          ],
          "name": "stdout"
        },
        {
          "output_type": "stream",
          "text": [
            "1024it [00:05, 191.66it/s]\n",
            "1014it [00:01, 650.69it/s]\n",
            "20it [00:00, 194.16it/s]"
          ],
          "name": "stderr"
        },
        {
          "output_type": "stream",
          "text": [
            "[ 703/1000] train_loss: 0.00063 valid_loss: 0.00177\n",
            "EarlyStopping counter: 69 out of 100\n"
          ],
          "name": "stdout"
        },
        {
          "output_type": "stream",
          "text": [
            "1024it [00:05, 195.46it/s]\n",
            "1014it [00:01, 666.50it/s]\n",
            "22it [00:00, 211.98it/s]"
          ],
          "name": "stderr"
        },
        {
          "output_type": "stream",
          "text": [
            "[ 704/1000] train_loss: 0.00074 valid_loss: 0.00081\n",
            "EarlyStopping counter: 70 out of 100\n"
          ],
          "name": "stdout"
        },
        {
          "output_type": "stream",
          "text": [
            "1024it [00:05, 200.42it/s]\n",
            "1014it [00:01, 663.83it/s]\n",
            "21it [00:00, 205.52it/s]"
          ],
          "name": "stderr"
        },
        {
          "output_type": "stream",
          "text": [
            "[ 705/1000] train_loss: 0.00048 valid_loss: 0.00073\n",
            "EarlyStopping counter: 71 out of 100\n"
          ],
          "name": "stdout"
        },
        {
          "output_type": "stream",
          "text": [
            "1024it [00:05, 199.10it/s]\n",
            "1014it [00:01, 670.58it/s]\n",
            "21it [00:00, 201.93it/s]"
          ],
          "name": "stderr"
        },
        {
          "output_type": "stream",
          "text": [
            "[ 706/1000] train_loss: 0.00037 valid_loss: 0.00064\n",
            "EarlyStopping counter: 72 out of 100\n"
          ],
          "name": "stdout"
        },
        {
          "output_type": "stream",
          "text": [
            "1024it [00:05, 198.35it/s]\n",
            "1014it [00:01, 656.85it/s]\n",
            "21it [00:00, 203.77it/s]"
          ],
          "name": "stderr"
        },
        {
          "output_type": "stream",
          "text": [
            "[ 707/1000] train_loss: 0.00036 valid_loss: 0.00077\n",
            "EarlyStopping counter: 73 out of 100\n"
          ],
          "name": "stdout"
        },
        {
          "output_type": "stream",
          "text": [
            "1024it [00:05, 199.52it/s]\n",
            "1014it [00:01, 672.41it/s]\n",
            "21it [00:00, 202.29it/s]"
          ],
          "name": "stderr"
        },
        {
          "output_type": "stream",
          "text": [
            "[ 708/1000] train_loss: 0.00053 valid_loss: 0.00057\n",
            "EarlyStopping counter: 74 out of 100\n"
          ],
          "name": "stdout"
        },
        {
          "output_type": "stream",
          "text": [
            "1024it [00:05, 195.77it/s]\n",
            "1014it [00:01, 668.53it/s]\n",
            "21it [00:00, 205.76it/s]"
          ],
          "name": "stderr"
        },
        {
          "output_type": "stream",
          "text": [
            "[ 709/1000] train_loss: 0.00067 valid_loss: 0.00183\n",
            "EarlyStopping counter: 75 out of 100\n"
          ],
          "name": "stdout"
        },
        {
          "output_type": "stream",
          "text": [
            "1024it [00:05, 199.04it/s]\n",
            "1014it [00:01, 661.66it/s]\n",
            "18it [00:00, 178.50it/s]"
          ],
          "name": "stderr"
        },
        {
          "output_type": "stream",
          "text": [
            "[ 710/1000] train_loss: 0.00046 valid_loss: 0.00079\n",
            "EarlyStopping counter: 76 out of 100\n"
          ],
          "name": "stdout"
        },
        {
          "output_type": "stream",
          "text": [
            "1024it [00:05, 195.14it/s]\n",
            "1014it [00:01, 665.76it/s]\n",
            "21it [00:00, 204.95it/s]"
          ],
          "name": "stderr"
        },
        {
          "output_type": "stream",
          "text": [
            "[ 711/1000] train_loss: 0.00066 valid_loss: 0.00106\n",
            "EarlyStopping counter: 77 out of 100\n"
          ],
          "name": "stdout"
        },
        {
          "output_type": "stream",
          "text": [
            "1024it [00:05, 197.35it/s]\n",
            "1014it [00:01, 661.36it/s]\n",
            "21it [00:00, 202.86it/s]"
          ],
          "name": "stderr"
        },
        {
          "output_type": "stream",
          "text": [
            "[ 712/1000] train_loss: 0.00042 valid_loss: 0.00066\n",
            "EarlyStopping counter: 78 out of 100\n"
          ],
          "name": "stdout"
        },
        {
          "output_type": "stream",
          "text": [
            "1024it [00:05, 199.56it/s]\n",
            "1014it [00:01, 666.03it/s]\n",
            "20it [00:00, 198.68it/s]"
          ],
          "name": "stderr"
        },
        {
          "output_type": "stream",
          "text": [
            "[ 713/1000] train_loss: 0.00042 valid_loss: 0.00061\n",
            "EarlyStopping counter: 79 out of 100\n"
          ],
          "name": "stdout"
        },
        {
          "output_type": "stream",
          "text": [
            "1024it [00:05, 199.19it/s]\n",
            "1014it [00:01, 649.83it/s]\n",
            "19it [00:00, 182.26it/s]"
          ],
          "name": "stderr"
        },
        {
          "output_type": "stream",
          "text": [
            "[ 714/1000] train_loss: 0.00032 valid_loss: 0.00082\n",
            "EarlyStopping counter: 80 out of 100\n"
          ],
          "name": "stdout"
        },
        {
          "output_type": "stream",
          "text": [
            "1024it [00:05, 188.91it/s]\n",
            "1014it [00:01, 640.94it/s]\n",
            "20it [00:00, 192.66it/s]"
          ],
          "name": "stderr"
        },
        {
          "output_type": "stream",
          "text": [
            "[ 715/1000] train_loss: 0.00061 valid_loss: 0.00133\n",
            "EarlyStopping counter: 81 out of 100\n"
          ],
          "name": "stdout"
        },
        {
          "output_type": "stream",
          "text": [
            "1024it [00:05, 193.12it/s]\n",
            "1014it [00:01, 667.75it/s]\n",
            "21it [00:00, 207.85it/s]"
          ],
          "name": "stderr"
        },
        {
          "output_type": "stream",
          "text": [
            "[ 716/1000] train_loss: 0.00059 valid_loss: 0.00093\n",
            "EarlyStopping counter: 82 out of 100\n"
          ],
          "name": "stdout"
        },
        {
          "output_type": "stream",
          "text": [
            "1024it [00:05, 200.29it/s]\n",
            "1014it [00:01, 668.33it/s]\n",
            "21it [00:00, 203.67it/s]"
          ],
          "name": "stderr"
        },
        {
          "output_type": "stream",
          "text": [
            "[ 717/1000] train_loss: 0.00077 valid_loss: 0.00186\n",
            "EarlyStopping counter: 83 out of 100\n"
          ],
          "name": "stdout"
        },
        {
          "output_type": "stream",
          "text": [
            "1024it [00:05, 198.67it/s]\n",
            "1014it [00:01, 653.39it/s]\n",
            "21it [00:00, 203.25it/s]"
          ],
          "name": "stderr"
        },
        {
          "output_type": "stream",
          "text": [
            "[ 718/1000] train_loss: 0.00063 valid_loss: 0.00087\n",
            "EarlyStopping counter: 84 out of 100\n"
          ],
          "name": "stdout"
        },
        {
          "output_type": "stream",
          "text": [
            "1024it [00:05, 200.67it/s]\n",
            "1014it [00:01, 679.61it/s]\n",
            "20it [00:00, 194.01it/s]"
          ],
          "name": "stderr"
        },
        {
          "output_type": "stream",
          "text": [
            "[ 719/1000] train_loss: 0.00057 valid_loss: 0.00065\n",
            "EarlyStopping counter: 85 out of 100\n"
          ],
          "name": "stdout"
        },
        {
          "output_type": "stream",
          "text": [
            "1024it [00:05, 196.19it/s]\n",
            "1014it [00:01, 669.90it/s]\n",
            "19it [00:00, 189.97it/s]"
          ],
          "name": "stderr"
        },
        {
          "output_type": "stream",
          "text": [
            "[ 720/1000] train_loss: 0.00046 valid_loss: 0.00059\n",
            "EarlyStopping counter: 86 out of 100\n"
          ],
          "name": "stdout"
        },
        {
          "output_type": "stream",
          "text": [
            "1024it [00:05, 197.23it/s]\n",
            "1014it [00:01, 661.82it/s]\n",
            "20it [00:00, 198.48it/s]"
          ],
          "name": "stderr"
        },
        {
          "output_type": "stream",
          "text": [
            "[ 721/1000] train_loss: 0.00074 valid_loss: 0.00098\n",
            "EarlyStopping counter: 87 out of 100\n"
          ],
          "name": "stdout"
        },
        {
          "output_type": "stream",
          "text": [
            "1024it [00:05, 200.46it/s]\n",
            "1014it [00:01, 663.70it/s]\n",
            "22it [00:00, 213.60it/s]"
          ],
          "name": "stderr"
        },
        {
          "output_type": "stream",
          "text": [
            "[ 722/1000] train_loss: 0.00106 valid_loss: 0.00098\n",
            "EarlyStopping counter: 88 out of 100\n"
          ],
          "name": "stdout"
        },
        {
          "output_type": "stream",
          "text": [
            "1024it [00:05, 200.35it/s]\n",
            "1014it [00:01, 666.94it/s]\n",
            "20it [00:00, 191.39it/s]"
          ],
          "name": "stderr"
        },
        {
          "output_type": "stream",
          "text": [
            "[ 723/1000] train_loss: 0.00069 valid_loss: 0.00081\n",
            "EarlyStopping counter: 89 out of 100\n"
          ],
          "name": "stdout"
        },
        {
          "output_type": "stream",
          "text": [
            "1024it [00:05, 199.66it/s]\n",
            "1014it [00:01, 655.54it/s]\n",
            "21it [00:00, 206.05it/s]"
          ],
          "name": "stderr"
        },
        {
          "output_type": "stream",
          "text": [
            "[ 724/1000] train_loss: 0.00052 valid_loss: 0.00085\n",
            "EarlyStopping counter: 90 out of 100\n"
          ],
          "name": "stdout"
        },
        {
          "output_type": "stream",
          "text": [
            "1024it [00:05, 198.19it/s]\n",
            "1014it [00:01, 658.16it/s]\n",
            "20it [00:00, 196.09it/s]"
          ],
          "name": "stderr"
        },
        {
          "output_type": "stream",
          "text": [
            "[ 725/1000] train_loss: 0.00052 valid_loss: 0.00078\n",
            "EarlyStopping counter: 91 out of 100\n"
          ],
          "name": "stdout"
        },
        {
          "output_type": "stream",
          "text": [
            "1024it [00:05, 198.51it/s]\n",
            "1014it [00:01, 655.37it/s]\n",
            "21it [00:00, 204.79it/s]"
          ],
          "name": "stderr"
        },
        {
          "output_type": "stream",
          "text": [
            "[ 726/1000] train_loss: 0.00051 valid_loss: 0.00078\n",
            "EarlyStopping counter: 92 out of 100\n"
          ],
          "name": "stdout"
        },
        {
          "output_type": "stream",
          "text": [
            "1024it [00:05, 202.03it/s]\n",
            "1014it [00:01, 654.91it/s]\n",
            "20it [00:00, 191.68it/s]"
          ],
          "name": "stderr"
        },
        {
          "output_type": "stream",
          "text": [
            "[ 727/1000] train_loss: 0.00080 valid_loss: 0.00111\n",
            "EarlyStopping counter: 93 out of 100\n"
          ],
          "name": "stdout"
        },
        {
          "output_type": "stream",
          "text": [
            "1024it [00:05, 198.48it/s]\n",
            "1014it [00:01, 665.36it/s]\n",
            "20it [00:00, 197.08it/s]"
          ],
          "name": "stderr"
        },
        {
          "output_type": "stream",
          "text": [
            "[ 728/1000] train_loss: 0.00064 valid_loss: 0.00119\n",
            "EarlyStopping counter: 94 out of 100\n"
          ],
          "name": "stdout"
        },
        {
          "output_type": "stream",
          "text": [
            "1024it [00:05, 198.01it/s]\n",
            "1014it [00:01, 663.05it/s]\n",
            "21it [00:00, 204.58it/s]"
          ],
          "name": "stderr"
        },
        {
          "output_type": "stream",
          "text": [
            "[ 729/1000] train_loss: 0.00070 valid_loss: 0.00084\n",
            "EarlyStopping counter: 95 out of 100\n"
          ],
          "name": "stdout"
        },
        {
          "output_type": "stream",
          "text": [
            "1024it [00:05, 200.93it/s]\n",
            "1014it [00:01, 677.50it/s]\n",
            "19it [00:00, 187.79it/s]"
          ],
          "name": "stderr"
        },
        {
          "output_type": "stream",
          "text": [
            "[ 730/1000] train_loss: 0.00066 valid_loss: 0.00051\n",
            "EarlyStopping counter: 96 out of 100\n"
          ],
          "name": "stdout"
        },
        {
          "output_type": "stream",
          "text": [
            "1024it [00:05, 198.88it/s]\n",
            "1014it [00:01, 666.78it/s]\n",
            "21it [00:00, 202.16it/s]"
          ],
          "name": "stderr"
        },
        {
          "output_type": "stream",
          "text": [
            "[ 731/1000] train_loss: 0.00030 valid_loss: 0.00035\n",
            "EarlyStopping counter: 97 out of 100\n"
          ],
          "name": "stdout"
        },
        {
          "output_type": "stream",
          "text": [
            "1024it [00:05, 197.14it/s]\n",
            "1014it [00:01, 667.28it/s]\n",
            "20it [00:00, 196.53it/s]"
          ],
          "name": "stderr"
        },
        {
          "output_type": "stream",
          "text": [
            "[ 732/1000] train_loss: 0.00030 valid_loss: 0.00046\n",
            "EarlyStopping counter: 98 out of 100\n"
          ],
          "name": "stdout"
        },
        {
          "output_type": "stream",
          "text": [
            "1024it [00:05, 198.90it/s]\n",
            "1014it [00:01, 679.80it/s]\n",
            "20it [00:00, 196.67it/s]"
          ],
          "name": "stderr"
        },
        {
          "output_type": "stream",
          "text": [
            "[ 733/1000] train_loss: 0.00051 valid_loss: 0.00096\n",
            "EarlyStopping counter: 99 out of 100\n"
          ],
          "name": "stdout"
        },
        {
          "output_type": "stream",
          "text": [
            "1024it [00:05, 198.67it/s]\n",
            "1014it [00:01, 658.36it/s]\n"
          ],
          "name": "stderr"
        },
        {
          "output_type": "stream",
          "text": [
            "[ 734/1000] train_loss: 0.00078 valid_loss: 0.00083\n",
            "EarlyStopping counter: 100 out of 100\n",
            "Early stopping\n"
          ],
          "name": "stdout"
        },
        {
          "output_type": "display_data",
          "data": {
            "image/png": "[encoded data removed]",
            "text/plain": [
              "<Figure size 720x576 with 1 Axes>"
            ]
          },
          "metadata": {
            "tags": [],
            "needs_background": "light"
          }
        },
        {
          "output_type": "stream",
          "text": [
            "Drive already mounted at /content/gdrive; to attempt to forcibly remount, call drive.mount(\"/content/gdrive\", force_remount=True).\n"
          ],
          "name": "stdout"
        }
      ]
    },
    {
      "cell_type": "markdown",
      "metadata": {
        "id": "ml2s09mztT1T",
        "colab_type": "text"
      },
      "source": [
        "5. 모델 SAVE(at gdrive)"
      ]
    },
    {
      "cell_type": "code",
      "metadata": {
        "id": "5jO1nwvDsmwW",
        "colab_type": "code",
        "colab": {
          "base_uri": "https://localhost:8080/",
          "height": 35
        },
        "outputId": "16d11756-36cd-4797-e1e6-9ac36bba3c46"
      },
      "source": [
        "from google.colab import drive\n",
        "from google.colab import files\n",
        "drive.mount('/content/gdrive')\n",
        "path = F\"/content/gdrive/My Drive/Autoencoder_1bit/model_save.pth\" \n",
        "torch.save(model.state_dict(), path)"
      ],
      "execution_count": null,
      "outputs": [
        {
          "output_type": "stream",
          "text": [
            "Drive already mounted at /content/gdrive; to attempt to forcibly remount, call drive.mount(\"/content/gdrive\", force_remount=True).\n"
          ],
          "name": "stdout"
        }
      ]
    },
    {
      "cell_type": "markdown",
      "metadata": {
        "id": "mDV2Rhpyt4QJ",
        "colab_type": "text"
      },
      "source": [
        "6. 모델 Load"
      ]
    },
    {
      "cell_type": "code",
      "metadata": {
        "id": "IIpwcZtvt4cm",
        "colab_type": "code",
        "colab": {
          "base_uri": "https://localhost:8080/",
          "height": 51
        },
        "outputId": "2d1c26c7-ca2d-45c0-ec79-5d6b36f84ca2"
      },
      "source": [
        "\"\"\"optimal struct\"\"\"\n",
        "\"\"\"1번부터 시작했다면, 3,4,5열은 주석처리해서 진행 \"\"\"\n",
        "model = Model().to(device)        \n",
        "criterion = nn.MSELoss()\n",
        "optimizer = optim.Adam(model.parameters(), lr=learning_rate)\n",
        "\n",
        "\n",
        "from google.colab import drive\n",
        "from google.colab import files\n",
        "drive.mount('/content/gdrive')\n",
        "\n",
        "path = F\"/content/gdrive/My Drive/Autoencoder_1bit/model_save.pth\" \n",
        "model.load_state_dict(torch.load(path))"
      ],
      "execution_count": 7,
      "outputs": [
        {
          "output_type": "stream",
          "text": [
            "Drive already mounted at /content/gdrive; to attempt to forcibly remount, call drive.mount(\"/content/gdrive\", force_remount=True).\n"
          ],
          "name": "stdout"
        },
        {
          "output_type": "execute_result",
          "data": {
            "text/plain": [
              "<All keys matched successfully>"
            ]
          },
          "metadata": {
            "tags": []
          },
          "execution_count": 7
        }
      ]
    },
    {
      "cell_type": "markdown",
      "metadata": {
        "id": "64WByyb9uWHV",
        "colab_type": "text"
      },
      "source": [
        "7. Test"
      ]
    },
    {
      "cell_type": "code",
      "metadata": {
        "id": "poIE18hKomJ6",
        "colab_type": "code",
        "colab": {
          "base_uri": "https://localhost:8080/",
          "height": 68
        },
        "outputId": "a794dc60-f044-41cd-c384-30b65bb03218"
      },
      "source": [
        "\n",
        "\n",
        "\"Test \"\n",
        "# initialize lists to monitor test loss and accuracy\n",
        "test_loss = 0.0\n",
        "class_correct = list(0. for i in range(10))\n",
        "class_total = list(0. for i in range(10))\n",
        "\n",
        "model.eval() # prep model for evaluation\n",
        "\n",
        "list_test = []\n",
        "list_encoded = []\n",
        "list_decoded = []\n",
        "\n",
        "for x in tqdm(test_loader):\n",
        "    # if len(target.data) != batch_size:\n",
        "    #     break\n",
        "    x = x.view(-1,len(x)).to(DEVICE)\n",
        "    y = x.view(-1,len(x)).to(DEVICE)\n",
        "    x = x.float()\n",
        "    y = x.float()\n",
        "    \n",
        "    encoded_data_test, decoded_data_test = model(x)\n",
        "    encoded_data_test = encoded_data_test.to(DEVICE)\n",
        "    decoded_data_test = decoded_data_test.to(DEVICE)\n",
        "    \n",
        "    list_test.append(x)\n",
        "    list_encoded.append(encoded_data_test)\n",
        "    list_decoded.append(decoded_data_test)\n",
        "    \n",
        "    loss = criterion(decoded_data_test, y)\n",
        "    \n",
        "    test_loss  = loss.item()*x.size(0)\n",
        "    _, pred = torch.max(decoded_data_test, 1)\n",
        "\n",
        "print('Test Loss: {:.6f}\\n'.format(test_loss))\n",
        "\n"
      ],
      "execution_count": 10,
      "outputs": [
        {
          "output_type": "stream",
          "text": [
            "100%|██████████| 1024/1024 [00:01<00:00, 642.06it/s]"
          ],
          "name": "stderr"
        },
        {
          "output_type": "stream",
          "text": [
            "Test Loss: 0.000018\n",
            "\n"
          ],
          "name": "stdout"
        },
        {
          "output_type": "stream",
          "text": [
            "\n"
          ],
          "name": "stderr"
        }
      ]
    },
    {
      "cell_type": "code",
      "metadata": {
        "id": "nUfLXQjkyErs",
        "colab_type": "code",
        "colab": {
          "base_uri": "https://localhost:8080/",
          "height": 35
        },
        "outputId": "fab9d349-a45c-494f-9764-4dad7eb98139"
      },
      "source": [
        "print(list_test[0].cpu().numpy())"
      ],
      "execution_count": null,
      "outputs": [
        {
          "output_type": "stream",
          "text": [
            "[[0. 0. 0. 0. 0. 0. 0. 0. 0. 0.]]\n"
          ],
          "name": "stdout"
        }
      ]
    },
    {
      "cell_type": "markdown",
      "metadata": {
        "id": "gDpzp8HpzCqC",
        "colab_type": "text"
      },
      "source": [
        "9. 데이터 후처리 및 평가"
      ]
    },
    {
      "cell_type": "code",
      "metadata": {
        "id": "Ms5Jfuv6k1GH",
        "colab_type": "code",
        "colab": {
          "base_uri": "https://localhost:8080/",
          "height": 111
        },
        "outputId": "2eef5703-59d2-4071-b377-0a486ede19f0"
      },
      "source": [
        "\"Postprocessing: tensor -> numpy\"\n",
        "list_test_np = []\n",
        "list_encoded_np = []\n",
        "list_decoded_np = []\n",
        "for i in range(len(list_test)):\n",
        "    tmp_test1 = list_test[i].cpu().numpy()\n",
        "    list_test_np.append(tmp_test1)\n",
        "    tmp_test2 = list_encoded[i].cpu().detach().numpy()\n",
        "    list_encoded_np.append(tmp_test2)\n",
        "    tmp_test3 = list_decoded[i].cpu().detach().numpy()\n",
        "    list_decoded_np.append(tmp_test3)\n",
        "\n",
        "\"Classification\"\n",
        "list_decoded_convert_np = []\n",
        "tmp_list_decoded_np = list_decoded_np\n",
        "min_temp = 0.5\n",
        "for i in range(len(tmp_list_decoded_np)): \n",
        "    temp_data = tmp_list_decoded_np[i]\n",
        "    \n",
        "    for ii in range(len(tmp_test3.transpose())):\n",
        "        if temp_data[0][ii] >= min_temp:\n",
        "            temp_data[0][ii] = 1\n",
        "        else:\n",
        "            temp_data[0][ii] = 0\n",
        "            \n",
        "    list_decoded_convert_np.append(temp_data)\n",
        "\n",
        "\"Evaluation\"\n",
        "original = pd.DataFrame(list_test_np[0])\n",
        "reconstruction = pd.DataFrame(list_decoded_convert_np[0])\n",
        "\n",
        "for i in range(1,len(list_test_np)):\n",
        "    tmp_original = pd.DataFrame(list_test_np[i])\n",
        "    tmp_recon = pd.DataFrame(list_decoded_convert_np[i])\n",
        "    original = pd.concat([original, tmp_original])\n",
        "    reconstruction = pd.concat([reconstruction, tmp_recon])\n",
        "\n",
        "eval_compare = original.values == reconstruction.values\n",
        "#print(eval_compare)\n",
        "\n",
        "eval_compare = pd.DataFrame(eval_compare)\n",
        "eval_compare.to_csv(\"/content/gdrive/My Drive/Autoencoder_1bit/eval_compare.csv\")\n",
        "\n",
        "eval_compare.apply(pd.value_counts)"
      ],
      "execution_count": 11,
      "outputs": [
        {
          "output_type": "execute_result",
          "data": {
            "text/html": [
              "<div>\n",
              "<style scoped>\n",
              "    .dataframe tbody tr th:only-of-type {\n",
              "        vertical-align: middle;\n",
              "    }\n",
              "\n",
              "    .dataframe tbody tr th {\n",
              "        vertical-align: top;\n",
              "    }\n",
              "\n",
              "    .dataframe thead th {\n",
              "        text-align: right;\n",
              "    }\n",
              "</style>\n",
              "<table border=\"1\" class=\"dataframe\">\n",
              "  <thead>\n",
              "    <tr style=\"text-align: right;\">\n",
              "      <th></th>\n",
              "      <th>0</th>\n",
              "      <th>1</th>\n",
              "      <th>2</th>\n",
              "      <th>3</th>\n",
              "      <th>4</th>\n",
              "      <th>5</th>\n",
              "      <th>6</th>\n",
              "      <th>7</th>\n",
              "      <th>8</th>\n",
              "      <th>9</th>\n",
              "    </tr>\n",
              "  </thead>\n",
              "  <tbody>\n",
              "    <tr>\n",
              "      <th>False</th>\n",
              "      <td>1</td>\n",
              "      <td>NaN</td>\n",
              "      <td>NaN</td>\n",
              "      <td>NaN</td>\n",
              "      <td>NaN</td>\n",
              "      <td>1</td>\n",
              "      <td>NaN</td>\n",
              "      <td>NaN</td>\n",
              "      <td>NaN</td>\n",
              "      <td>NaN</td>\n",
              "    </tr>\n",
              "    <tr>\n",
              "      <th>True</th>\n",
              "      <td>1023</td>\n",
              "      <td>1024.0</td>\n",
              "      <td>1024.0</td>\n",
              "      <td>1024.0</td>\n",
              "      <td>1024.0</td>\n",
              "      <td>1023</td>\n",
              "      <td>1024.0</td>\n",
              "      <td>1024.0</td>\n",
              "      <td>1024.0</td>\n",
              "      <td>1024.0</td>\n",
              "    </tr>\n",
              "  </tbody>\n",
              "</table>\n",
              "</div>"
            ],
            "text/plain": [
              "          0       1       2       3  ...       6       7       8       9\n",
              "False     1     NaN     NaN     NaN  ...     NaN     NaN     NaN     NaN\n",
              "True   1023  1024.0  1024.0  1024.0  ...  1024.0  1024.0  1024.0  1024.0\n",
              "\n",
              "[2 rows x 10 columns]"
            ]
          },
          "metadata": {
            "tags": []
          },
          "execution_count": 11
        }
      ]
    }
  ]
}